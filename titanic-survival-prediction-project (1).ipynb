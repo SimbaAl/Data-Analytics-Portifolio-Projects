{
 "cells": [
  {
   "cell_type": "markdown",
   "id": "loose-intervention",
   "metadata": {
    "papermill": {
     "duration": 0.081362,
     "end_time": "2022-01-13T14:16:03.902424",
     "exception": false,
     "start_time": "2022-01-13T14:16:03.821062",
     "status": "completed"
    },
    "tags": []
   },
   "source": [
    "## 🔗 **[Read Full Blog - Complete ML Project Titanic Survival Prediction](https://copyassignment.com/titanic-survival-prediction-machine-learning-project-part-1/)**"
   ]
  },
  {
   "cell_type": "code",
   "execution_count": 1,
   "id": "celtic-abortion",
   "metadata": {
    "_cell_guid": "b1076dfc-b9ad-4769-8c92-a6c4dae69d19",
    "_uuid": "8f2839f25d086af736a60e9eeb907d3b93b6e0e5",
    "execution": {
     "iopub.execute_input": "2022-01-13T14:16:04.069354Z",
     "iopub.status.busy": "2022-01-13T14:16:04.068704Z",
     "iopub.status.idle": "2022-01-13T14:16:04.935505Z",
     "shell.execute_reply": "2022-01-13T14:16:04.933427Z",
     "shell.execute_reply.started": "2022-01-13T13:56:05.113659Z"
    },
    "papermill": {
     "duration": 0.952405,
     "end_time": "2022-01-13T14:16:04.935724",
     "exception": false,
     "start_time": "2022-01-13T14:16:03.983319",
     "status": "completed"
    },
    "tags": []
   },
   "outputs": [],
   "source": [
    "# Import library\n",
    "import numpy as np\n",
    "import pandas as pd\n",
    "import matplotlib.pyplot as plt\n",
    "import seaborn as sns\n",
    "\n",
    "import warnings\n",
    "warnings.filterwarnings('ignore')"
   ]
  },
  {
   "cell_type": "code",
   "execution_count": 2,
   "id": "painted-substance",
   "metadata": {
    "execution": {
     "iopub.execute_input": "2022-01-13T14:16:05.099112Z",
     "iopub.status.busy": "2022-01-13T14:16:05.098034Z",
     "iopub.status.idle": "2022-01-13T14:16:05.527457Z",
     "shell.execute_reply": "2022-01-13T14:16:05.526752Z",
     "shell.execute_reply.started": "2022-01-13T13:56:12.029787Z"
    },
    "papermill": {
     "duration": 0.512752,
     "end_time": "2022-01-13T14:16:05.527619",
     "exception": false,
     "start_time": "2022-01-13T14:16:05.014867",
     "status": "completed"
    },
    "tags": []
   },
   "outputs": [],
   "source": [
    "# importing algorithms\n",
    "from sklearn import linear_model\n",
    "from sklearn.linear_model import LogisticRegression\n",
    "from sklearn.model_selection import cross_val_score, GridSearchCV\n",
    "from sklearn.ensemble import RandomForestClassifier\n",
    "from sklearn.linear_model import Perceptron\n",
    "from sklearn.linear_model import SGDClassifier\n",
    "from sklearn.tree import DecisionTreeClassifier\n",
    "from sklearn.neighbors import KNeighborsClassifier\n",
    "from sklearn.svm import SVC, LinearSVC\n",
    "from sklearn.naive_bayes import GaussianNB"
   ]
  },
  {
   "cell_type": "code",
   "execution_count": 3,
   "id": "advanced-tract",
   "metadata": {
    "execution": {
     "iopub.execute_input": "2022-01-13T14:16:05.688301Z",
     "iopub.status.busy": "2022-01-13T14:16:05.687373Z",
     "iopub.status.idle": "2022-01-13T14:16:05.733910Z",
     "shell.execute_reply": "2022-01-13T14:16:05.733223Z"
    },
    "papermill": {
     "duration": 0.128853,
     "end_time": "2022-01-13T14:16:05.734119",
     "exception": false,
     "start_time": "2022-01-13T14:16:05.605266",
     "status": "completed"
    },
    "tags": []
   },
   "outputs": [
    {
     "data": {
      "text/html": [
       "<div>\n",
       "<style scoped>\n",
       "    .dataframe tbody tr th:only-of-type {\n",
       "        vertical-align: middle;\n",
       "    }\n",
       "\n",
       "    .dataframe tbody tr th {\n",
       "        vertical-align: top;\n",
       "    }\n",
       "\n",
       "    .dataframe thead th {\n",
       "        text-align: right;\n",
       "    }\n",
       "</style>\n",
       "<table border=\"1\" class=\"dataframe\">\n",
       "  <thead>\n",
       "    <tr style=\"text-align: right;\">\n",
       "      <th></th>\n",
       "      <th>PassengerId</th>\n",
       "      <th>Survived</th>\n",
       "      <th>Pclass</th>\n",
       "      <th>Name</th>\n",
       "      <th>Sex</th>\n",
       "      <th>Age</th>\n",
       "      <th>SibSp</th>\n",
       "      <th>Parch</th>\n",
       "      <th>Ticket</th>\n",
       "      <th>Fare</th>\n",
       "      <th>Cabin</th>\n",
       "      <th>Embarked</th>\n",
       "    </tr>\n",
       "  </thead>\n",
       "  <tbody>\n",
       "    <tr>\n",
       "      <th>0</th>\n",
       "      <td>1</td>\n",
       "      <td>0</td>\n",
       "      <td>3</td>\n",
       "      <td>Braund, Mr. Owen Harris</td>\n",
       "      <td>male</td>\n",
       "      <td>22.0</td>\n",
       "      <td>1</td>\n",
       "      <td>0</td>\n",
       "      <td>A/5 21171</td>\n",
       "      <td>7.2500</td>\n",
       "      <td>NaN</td>\n",
       "      <td>S</td>\n",
       "    </tr>\n",
       "    <tr>\n",
       "      <th>1</th>\n",
       "      <td>2</td>\n",
       "      <td>1</td>\n",
       "      <td>1</td>\n",
       "      <td>Cumings, Mrs. John Bradley (Florence Briggs Th...</td>\n",
       "      <td>female</td>\n",
       "      <td>38.0</td>\n",
       "      <td>1</td>\n",
       "      <td>0</td>\n",
       "      <td>PC 17599</td>\n",
       "      <td>71.2833</td>\n",
       "      <td>C85</td>\n",
       "      <td>C</td>\n",
       "    </tr>\n",
       "    <tr>\n",
       "      <th>2</th>\n",
       "      <td>3</td>\n",
       "      <td>1</td>\n",
       "      <td>3</td>\n",
       "      <td>Heikkinen, Miss. Laina</td>\n",
       "      <td>female</td>\n",
       "      <td>26.0</td>\n",
       "      <td>0</td>\n",
       "      <td>0</td>\n",
       "      <td>STON/O2. 3101282</td>\n",
       "      <td>7.9250</td>\n",
       "      <td>NaN</td>\n",
       "      <td>S</td>\n",
       "    </tr>\n",
       "    <tr>\n",
       "      <th>3</th>\n",
       "      <td>4</td>\n",
       "      <td>1</td>\n",
       "      <td>1</td>\n",
       "      <td>Futrelle, Mrs. Jacques Heath (Lily May Peel)</td>\n",
       "      <td>female</td>\n",
       "      <td>35.0</td>\n",
       "      <td>1</td>\n",
       "      <td>0</td>\n",
       "      <td>113803</td>\n",
       "      <td>53.1000</td>\n",
       "      <td>C123</td>\n",
       "      <td>S</td>\n",
       "    </tr>\n",
       "    <tr>\n",
       "      <th>4</th>\n",
       "      <td>5</td>\n",
       "      <td>0</td>\n",
       "      <td>3</td>\n",
       "      <td>Allen, Mr. William Henry</td>\n",
       "      <td>male</td>\n",
       "      <td>35.0</td>\n",
       "      <td>0</td>\n",
       "      <td>0</td>\n",
       "      <td>373450</td>\n",
       "      <td>8.0500</td>\n",
       "      <td>NaN</td>\n",
       "      <td>S</td>\n",
       "    </tr>\n",
       "  </tbody>\n",
       "</table>\n",
       "</div>"
      ],
      "text/plain": [
       "   PassengerId  Survived  Pclass  \\\n",
       "0            1         0       3   \n",
       "1            2         1       1   \n",
       "2            3         1       3   \n",
       "3            4         1       1   \n",
       "4            5         0       3   \n",
       "\n",
       "                                                Name     Sex   Age  SibSp  \\\n",
       "0                            Braund, Mr. Owen Harris    male  22.0      1   \n",
       "1  Cumings, Mrs. John Bradley (Florence Briggs Th...  female  38.0      1   \n",
       "2                             Heikkinen, Miss. Laina  female  26.0      0   \n",
       "3       Futrelle, Mrs. Jacques Heath (Lily May Peel)  female  35.0      1   \n",
       "4                           Allen, Mr. William Henry    male  35.0      0   \n",
       "\n",
       "   Parch            Ticket     Fare Cabin Embarked  \n",
       "0      0         A/5 21171   7.2500   NaN        S  \n",
       "1      0          PC 17599  71.2833   C85        C  \n",
       "2      0  STON/O2. 3101282   7.9250   NaN        S  \n",
       "3      0            113803  53.1000  C123        S  \n",
       "4      0            373450   8.0500   NaN        S  "
      ]
     },
     "execution_count": 3,
     "metadata": {},
     "output_type": "execute_result"
    }
   ],
   "source": [
    "train = pd.read_csv('/kaggle/input/titanic/train.csv')\n",
    "\n",
    "# Printing first 10 rows of the dataset\n",
    "train.head(5)"
   ]
  },
  {
   "cell_type": "code",
   "execution_count": 4,
   "id": "cheap-major",
   "metadata": {
    "execution": {
     "iopub.execute_input": "2022-01-13T14:16:05.911507Z",
     "iopub.status.busy": "2022-01-13T14:16:05.909415Z",
     "iopub.status.idle": "2022-01-13T14:16:05.915846Z",
     "shell.execute_reply": "2022-01-13T14:16:05.916490Z",
     "shell.execute_reply.started": "2022-01-13T13:56:21.948180Z"
    },
    "papermill": {
     "duration": 0.104197,
     "end_time": "2022-01-13T14:16:05.916663",
     "exception": false,
     "start_time": "2022-01-13T14:16:05.812466",
     "status": "completed"
    },
    "tags": []
   },
   "outputs": [
    {
     "name": "stdout",
     "output_type": "stream",
     "text": [
      "<class 'pandas.core.frame.DataFrame'>\n",
      "RangeIndex: 891 entries, 0 to 890\n",
      "Data columns (total 12 columns):\n",
      " #   Column       Non-Null Count  Dtype  \n",
      "---  ------       --------------  -----  \n",
      " 0   PassengerId  891 non-null    int64  \n",
      " 1   Survived     891 non-null    int64  \n",
      " 2   Pclass       891 non-null    int64  \n",
      " 3   Name         891 non-null    object \n",
      " 4   Sex          891 non-null    object \n",
      " 5   Age          714 non-null    float64\n",
      " 6   SibSp        891 non-null    int64  \n",
      " 7   Parch        891 non-null    int64  \n",
      " 8   Ticket       891 non-null    object \n",
      " 9   Fare         891 non-null    float64\n",
      " 10  Cabin        204 non-null    object \n",
      " 11  Embarked     889 non-null    object \n",
      "dtypes: float64(2), int64(5), object(5)\n",
      "memory usage: 83.7+ KB\n"
     ]
    }
   ],
   "source": [
    "train.info()"
   ]
  },
  {
   "cell_type": "markdown",
   "id": "modular-butter",
   "metadata": {
    "papermill": {
     "duration": 0.078336,
     "end_time": "2022-01-13T14:16:06.074255",
     "exception": false,
     "start_time": "2022-01-13T14:16:05.995919",
     "status": "completed"
    },
    "tags": []
   },
   "source": [
    "As you can see we have 891 entries in total but some of the columns have less than 891 entries so that means we have missing values in these columns Age, Cabin & Embarked. so we have to preprocess our data first before training our ml model. "
   ]
  },
  {
   "cell_type": "markdown",
   "id": "weird-charles",
   "metadata": {
    "papermill": {
     "duration": 0.077651,
     "end_time": "2022-01-13T14:16:06.230216",
     "exception": false,
     "start_time": "2022-01-13T14:16:06.152565",
     "status": "completed"
    },
    "tags": []
   },
   "source": [
    "**Checking NULL Values**"
   ]
  },
  {
   "cell_type": "code",
   "execution_count": 5,
   "id": "typical-executive",
   "metadata": {
    "execution": {
     "iopub.execute_input": "2022-01-13T14:16:06.395550Z",
     "iopub.status.busy": "2022-01-13T14:16:06.394802Z",
     "iopub.status.idle": "2022-01-13T14:16:06.399402Z",
     "shell.execute_reply": "2022-01-13T14:16:06.398755Z",
     "shell.execute_reply.started": "2022-01-13T13:56:26.389461Z"
    },
    "papermill": {
     "duration": 0.090679,
     "end_time": "2022-01-13T14:16:06.399558",
     "exception": false,
     "start_time": "2022-01-13T14:16:06.308879",
     "status": "completed"
    },
    "tags": []
   },
   "outputs": [
    {
     "data": {
      "text/plain": [
       "PassengerId      0\n",
       "Survived         0\n",
       "Pclass           0\n",
       "Name             0\n",
       "Sex              0\n",
       "Age            177\n",
       "SibSp            0\n",
       "Parch            0\n",
       "Ticket           0\n",
       "Fare             0\n",
       "Cabin          687\n",
       "Embarked         2\n",
       "dtype: int64"
      ]
     },
     "execution_count": 5,
     "metadata": {},
     "output_type": "execute_result"
    }
   ],
   "source": [
    "train.isnull().sum()"
   ]
  },
  {
   "cell_type": "markdown",
   "id": "adopted-affiliation",
   "metadata": {
    "papermill": {
     "duration": 0.078273,
     "end_time": "2022-01-13T14:16:06.558006",
     "exception": false,
     "start_time": "2022-01-13T14:16:06.479733",
     "status": "completed"
    },
    "tags": []
   },
   "source": [
    "* Ok so we have 177 null values in Age column.\n",
    "* 687 missing values in Cabin column.\n",
    "* 2 missing values in Embarked column."
   ]
  },
  {
   "cell_type": "markdown",
   "id": "boolean-democracy",
   "metadata": {
    "papermill": {
     "duration": 0.078491,
     "end_time": "2022-01-13T14:16:06.715177",
     "exception": false,
     "start_time": "2022-01-13T14:16:06.636686",
     "status": "completed"
    },
    "tags": []
   },
   "source": [
    "## **Plotting Heat Map 🗺️** \n",
    "* To see the correlation between target variable and other parameters."
   ]
  },
  {
   "cell_type": "code",
   "execution_count": 6,
   "id": "executive-boost",
   "metadata": {
    "execution": {
     "iopub.execute_input": "2022-01-13T14:16:06.899636Z",
     "iopub.status.busy": "2022-01-13T14:16:06.898945Z",
     "iopub.status.idle": "2022-01-13T14:16:07.241393Z",
     "shell.execute_reply": "2022-01-13T14:16:07.240282Z",
     "shell.execute_reply.started": "2022-01-13T13:56:30.683522Z"
    },
    "papermill": {
     "duration": 0.447959,
     "end_time": "2022-01-13T14:16:07.241558",
     "exception": false,
     "start_time": "2022-01-13T14:16:06.793599",
     "status": "completed"
    },
    "tags": []
   },
   "outputs": [
    {
     "data": {
      "image/png": "[encoded data removed]",
      "text/plain": [
       "<Figure size 432x288 with 2 Axes>"
      ]
     },
     "metadata": {
      "needs_background": "light"
     },
     "output_type": "display_data"
    }
   ],
   "source": [
    "heatmap = sns.heatmap(train[[\"Survived\", \"SibSp\", \"Parch\", \"Age\", \"Fare\"]].corr(), annot = True)\n",
    "sns.set(rc={'figure.figsize':(12,10)})"
   ]
  },
  {
   "cell_type": "markdown",
   "id": "blank-friend",
   "metadata": {
    "papermill": {
     "duration": 0.079487,
     "end_time": "2022-01-13T14:16:07.402162",
     "exception": false,
     "start_time": "2022-01-13T14:16:07.322675",
     "status": "completed"
    },
    "tags": []
   },
   "source": [
    "**Conclusion:** \n",
    "Only Fare feature seems to have a significant correlation with the survival probability."
   ]
  },
  {
   "cell_type": "markdown",
   "id": "loved-stephen",
   "metadata": {
    "papermill": {
     "duration": 0.079669,
     "end_time": "2022-01-13T14:16:07.564827",
     "exception": false,
     "start_time": "2022-01-13T14:16:07.485158",
     "status": "completed"
    },
    "tags": []
   },
   "source": [
    "# **3. Exploratory Data Analysis 📉**"
   ]
  },
  {
   "cell_type": "markdown",
   "id": "unique-refund",
   "metadata": {
    "papermill": {
     "duration": 0.079212,
     "end_time": "2022-01-13T14:16:07.724138",
     "exception": false,
     "start_time": "2022-01-13T14:16:07.644926",
     "status": "completed"
    },
    "tags": []
   },
   "source": [
    "Now we're going to visualise the correlation of each variable with the target variable i.e, Survived."
   ]
  },
  {
   "cell_type": "code",
   "execution_count": 7,
   "id": "aquatic-direction",
   "metadata": {
    "execution": {
     "iopub.execute_input": "2022-01-13T14:16:07.886236Z",
     "iopub.status.busy": "2022-01-13T14:16:07.885494Z",
     "iopub.status.idle": "2022-01-13T14:16:08.032194Z",
     "shell.execute_reply": "2022-01-13T14:16:08.031642Z",
     "shell.execute_reply.started": "2022-01-13T13:56:37.316177Z"
    },
    "papermill": {
     "duration": 0.229027,
     "end_time": "2022-01-13T14:16:08.032349",
     "exception": false,
     "start_time": "2022-01-13T14:16:07.803322",
     "status": "completed"
    },
    "tags": []
   },
   "outputs": [
    {
     "data": {
      "image/png": "[encoded data removed]",
      "text/plain": [
       "<Figure size 864x720 with 1 Axes>"
      ]
     },
     "metadata": {},
     "output_type": "display_data"
    }
   ],
   "source": [
    "# Checking for people who survived and didn't survive\n",
    "sns.countplot(train.Survived)\n",
    "plt.show()"
   ]
  },
  {
   "cell_type": "code",
   "execution_count": 8,
   "id": "national-house",
   "metadata": {
    "execution": {
     "iopub.execute_input": "2022-01-13T14:16:08.197297Z",
     "iopub.status.busy": "2022-01-13T14:16:08.196636Z",
     "iopub.status.idle": "2022-01-13T14:16:08.495295Z",
     "shell.execute_reply": "2022-01-13T14:16:08.494568Z",
     "shell.execute_reply.started": "2022-01-13T13:56:46.627849Z"
    },
    "papermill": {
     "duration": 0.381183,
     "end_time": "2022-01-13T14:16:08.495445",
     "exception": false,
     "start_time": "2022-01-13T14:16:08.114262",
     "status": "completed"
    },
    "tags": []
   },
   "outputs": [
    {
     "name": "stdout",
     "output_type": "stream",
     "text": [
      "0    549\n",
      "1    342\n",
      "Name: Survived, dtype: int64\n"
     ]
    },
    {
     "data": {
      "image/png": "[encoded data removed]",
      "text/plain": [
       "<Figure size 1440x72 with 1 Axes>"
      ]
     },
     "metadata": {},
     "output_type": "display_data"
    }
   ],
   "source": [
    "# How many people survived?\n",
    "with plt.xkcd():\n",
    "    fig = plt.figure(figsize=(20,1))\n",
    "    sns.countplot(y='Survived', data=train);\n",
    "    print(train.Survived.value_counts())\n",
    "    \n",
    "    y = train.Survived.value_counts()\n",
    "\n",
    "    for index, count in enumerate(y):\n",
    "        plt.text(count, index,\n",
    "                 str(count))\n",
    "    plt.title(\"Survived Count\")"
   ]
  },
  {
   "cell_type": "code",
   "execution_count": 9,
   "id": "meaning-bench",
   "metadata": {
    "execution": {
     "iopub.execute_input": "2022-01-13T14:16:08.669710Z",
     "iopub.status.busy": "2022-01-13T14:16:08.669016Z",
     "iopub.status.idle": "2022-01-13T14:16:08.898101Z",
     "shell.execute_reply": "2022-01-13T14:16:08.897396Z",
     "shell.execute_reply.started": "2022-01-13T13:56:49.940449Z"
    },
    "papermill": {
     "duration": 0.318124,
     "end_time": "2022-01-13T14:16:08.898247",
     "exception": false,
     "start_time": "2022-01-13T14:16:08.580123",
     "status": "completed"
    },
    "tags": []
   },
   "outputs": [
    {
     "data": {
      "image/png": "[encoded data removed]",
      "text/plain": [
       "<Figure size 1440x360 with 1 Axes>"
      ]
     },
     "metadata": {},
     "output_type": "display_data"
    }
   ],
   "source": [
    "# Viewing the distribution of Sex\n",
    "with plt.xkcd():\n",
    "    plt.figure(figsize=(20, 5))\n",
    "    sns.countplot(y=\"Sex\", data=train)\n",
    "    \n",
    "     \n",
    "    y = train.Sex.value_counts()\n",
    "\n",
    "    for index, count in enumerate(y):\n",
    "        plt.text(count, index,\n",
    "                 str(count))\n",
    "    \n",
    "    plt.title(\"Sex\")"
   ]
  },
  {
   "cell_type": "code",
   "execution_count": 10,
   "id": "public-champion",
   "metadata": {
    "execution": {
     "iopub.execute_input": "2022-01-13T14:16:09.076713Z",
     "iopub.status.busy": "2022-01-13T14:16:09.075660Z",
     "iopub.status.idle": "2022-01-13T14:16:09.078686Z",
     "shell.execute_reply": "2022-01-13T14:16:09.078164Z",
     "shell.execute_reply.started": "2022-01-13T13:56:57.279298Z"
    },
    "papermill": {
     "duration": 0.094903,
     "end_time": "2022-01-13T14:16:09.078825",
     "exception": false,
     "start_time": "2022-01-13T14:16:08.983922",
     "status": "completed"
    },
    "tags": []
   },
   "outputs": [],
   "source": [
    "def bar_chart_stacked(dataset, feature, stacked = True):\n",
    "    survived = dataset[dataset['Survived']==1][feature].value_counts()\n",
    "    dead = dataset[dataset['Survived']==0][feature].value_counts()\n",
    "    df_survived_dead = pd.DataFrame([survived,dead])\n",
    "    df_survived_dead.index = ['Passengers Survived','Passengers Died']\n",
    "    ax = df_survived_dead.plot(kind='bar',stacked=stacked, figsize=(5,5))"
   ]
  },
  {
   "cell_type": "code",
   "execution_count": 11,
   "id": "surgical-tribune",
   "metadata": {
    "execution": {
     "iopub.execute_input": "2022-01-13T14:16:09.251385Z",
     "iopub.status.busy": "2022-01-13T14:16:09.250375Z",
     "iopub.status.idle": "2022-01-13T14:16:09.452011Z",
     "shell.execute_reply": "2022-01-13T14:16:09.451328Z",
     "shell.execute_reply.started": "2022-01-13T13:56:59.693075Z"
    },
    "papermill": {
     "duration": 0.289154,
     "end_time": "2022-01-13T14:16:09.452158",
     "exception": false,
     "start_time": "2022-01-13T14:16:09.163004",
     "status": "completed"
    },
    "tags": []
   },
   "outputs": [
    {
     "data": {
      "image/png": "[encoded data removed]",
      "text/plain": [
       "<Figure size 360x360 with 1 Axes>"
      ]
     },
     "metadata": {},
     "output_type": "display_data"
    }
   ],
   "source": [
    "# Checking the men and female who survived.\n",
    "bar_chart_stacked(train, \"Sex\")"
   ]
  },
  {
   "cell_type": "code",
   "execution_count": 12,
   "id": "suspended-absence",
   "metadata": {
    "execution": {
     "iopub.execute_input": "2022-01-13T14:16:09.632507Z",
     "iopub.status.busy": "2022-01-13T14:16:09.631489Z",
     "iopub.status.idle": "2022-01-13T14:16:09.642123Z",
     "shell.execute_reply": "2022-01-13T14:16:09.641569Z",
     "shell.execute_reply.started": "2022-01-13T13:57:03.549211Z"
    },
    "papermill": {
     "duration": 0.102525,
     "end_time": "2022-01-13T14:16:09.642277",
     "exception": false,
     "start_time": "2022-01-13T14:16:09.539752",
     "status": "completed"
    },
    "tags": []
   },
   "outputs": [
    {
     "data": {
      "text/html": [
       "<div>\n",
       "<style scoped>\n",
       "    .dataframe tbody tr th:only-of-type {\n",
       "        vertical-align: middle;\n",
       "    }\n",
       "\n",
       "    .dataframe tbody tr th {\n",
       "        vertical-align: top;\n",
       "    }\n",
       "\n",
       "    .dataframe thead th {\n",
       "        text-align: right;\n",
       "    }\n",
       "</style>\n",
       "<table border=\"1\" class=\"dataframe\">\n",
       "  <thead>\n",
       "    <tr style=\"text-align: right;\">\n",
       "      <th></th>\n",
       "      <th>Survived</th>\n",
       "    </tr>\n",
       "    <tr>\n",
       "      <th>Sex</th>\n",
       "      <th></th>\n",
       "    </tr>\n",
       "  </thead>\n",
       "  <tbody>\n",
       "    <tr>\n",
       "      <th>female</th>\n",
       "      <td>0.742038</td>\n",
       "    </tr>\n",
       "    <tr>\n",
       "      <th>male</th>\n",
       "      <td>0.188908</td>\n",
       "    </tr>\n",
       "  </tbody>\n",
       "</table>\n",
       "</div>"
      ],
      "text/plain": [
       "        Survived\n",
       "Sex             \n",
       "female  0.742038\n",
       "male    0.188908"
      ]
     },
     "execution_count": 12,
     "metadata": {},
     "output_type": "execute_result"
    }
   ],
   "source": [
    "train.groupby(['Sex']).Survived.mean().to_frame()"
   ]
  },
  {
   "cell_type": "code",
   "execution_count": 13,
   "id": "constant-mandate",
   "metadata": {
    "execution": {
     "iopub.execute_input": "2022-01-13T14:16:09.829754Z",
     "iopub.status.busy": "2022-01-13T14:16:09.818891Z",
     "iopub.status.idle": "2022-01-13T14:16:10.067848Z",
     "shell.execute_reply": "2022-01-13T14:16:10.067249Z",
     "shell.execute_reply.started": "2022-01-13T13:57:06.634274Z"
    },
    "papermill": {
     "duration": 0.339892,
     "end_time": "2022-01-13T14:16:10.068010",
     "exception": false,
     "start_time": "2022-01-13T14:16:09.728118",
     "status": "completed"
    },
    "tags": []
   },
   "outputs": [
    {
     "data": {
      "image/png": "[encoded data removed]",
      "text/plain": [
       "<Figure size 864x720 with 1 Axes>"
      ]
     },
     "metadata": {},
     "output_type": "display_data"
    }
   ],
   "source": [
    "#Viewing the age distribution\n",
    "plt.hist(train.Age, edgecolor= 'orange')\n",
    "plt.xlabel('Age')\n",
    "plt.ylabel('count')\n",
    "plt.show()"
   ]
  },
  {
   "cell_type": "markdown",
   "id": "technical-slope",
   "metadata": {
    "papermill": {
     "duration": 0.105656,
     "end_time": "2022-01-13T14:16:10.278746",
     "exception": false,
     "start_time": "2022-01-13T14:16:10.173090",
     "status": "completed"
    },
    "tags": []
   },
   "source": [
    "Age is right skewed. Most of the people in the ship were from age 20-40."
   ]
  },
  {
   "cell_type": "code",
   "execution_count": 14,
   "id": "synthetic-parliament",
   "metadata": {
    "execution": {
     "iopub.execute_input": "2022-01-13T14:16:10.459668Z",
     "iopub.status.busy": "2022-01-13T14:16:10.458998Z",
     "iopub.status.idle": "2022-01-13T14:16:10.717514Z",
     "shell.execute_reply": "2022-01-13T14:16:10.716819Z",
     "shell.execute_reply.started": "2022-01-13T13:57:10.981078Z"
    },
    "papermill": {
     "duration": 0.347382,
     "end_time": "2022-01-13T14:16:10.717655",
     "exception": false,
     "start_time": "2022-01-13T14:16:10.370273",
     "status": "completed"
    },
    "tags": []
   },
   "outputs": [
    {
     "data": {
      "text/plain": [
       "<AxesSubplot:xlabel='Age', ylabel='Density'>"
      ]
     },
     "execution_count": 14,
     "metadata": {},
     "output_type": "execute_result"
    },
    {
     "data": {
      "image/png": "[encoded data removed]",
      "text/plain": [
       "<Figure size 720x360 with 1 Axes>"
      ]
     },
     "metadata": {},
     "output_type": "display_data"
    }
   ],
   "source": [
    "# Age distribution\n",
    "plt.figure(figsize=(10,5))\n",
    "sns.distplot(train['Age'])"
   ]
  },
  {
   "cell_type": "markdown",
   "id": "animated-silence",
   "metadata": {
    "papermill": {
     "duration": 0.087889,
     "end_time": "2022-01-13T14:16:10.895217",
     "exception": false,
     "start_time": "2022-01-13T14:16:10.807328",
     "status": "completed"
    },
    "tags": []
   },
   "source": [
    "Most of people who are on the ship are between 20-40 years of age"
   ]
  },
  {
   "cell_type": "code",
   "execution_count": 15,
   "id": "convertible-timing",
   "metadata": {
    "execution": {
     "iopub.execute_input": "2022-01-13T14:16:11.077057Z",
     "iopub.status.busy": "2022-01-13T14:16:11.076077Z",
     "iopub.status.idle": "2022-01-13T14:16:11.726896Z",
     "shell.execute_reply": "2022-01-13T14:16:11.727516Z",
     "shell.execute_reply.started": "2022-01-13T13:57:14.818676Z"
    },
    "papermill": {
     "duration": 0.742458,
     "end_time": "2022-01-13T14:16:11.727697",
     "exception": false,
     "start_time": "2022-01-13T14:16:10.985239",
     "status": "completed"
    },
    "tags": []
   },
   "outputs": [
    {
     "data": {
      "image/png": "[encoded data removed]",
      "text/plain": [
       "<Figure size 421.55x360 with 1 Axes>"
      ]
     },
     "metadata": {},
     "output_type": "display_data"
    }
   ],
   "source": [
    "# Ages that died or survived\n",
    "sns.displot(x='Age', hue='Survived', data=train, alpha=0.8)\n",
    "plt.show()"
   ]
  },
  {
   "cell_type": "markdown",
   "id": "southeast-rescue",
   "metadata": {
    "papermill": {
     "duration": 0.095136,
     "end_time": "2022-01-13T14:16:11.911959",
     "exception": false,
     "start_time": "2022-01-13T14:16:11.816823",
     "status": "completed"
    },
    "tags": []
   },
   "source": [
    "Young people between the age 0-10 had more chance of survival."
   ]
  },
  {
   "cell_type": "code",
   "execution_count": 16,
   "id": "third-rally",
   "metadata": {
    "execution": {
     "iopub.execute_input": "2022-01-13T14:16:12.123793Z",
     "iopub.status.busy": "2022-01-13T14:16:12.122375Z",
     "iopub.status.idle": "2022-01-13T14:16:12.325780Z",
     "shell.execute_reply": "2022-01-13T14:16:12.326440Z",
     "shell.execute_reply.started": "2022-01-13T13:57:18.297649Z"
    },
    "papermill": {
     "duration": 0.305617,
     "end_time": "2022-01-13T14:16:12.326616",
     "exception": false,
     "start_time": "2022-01-13T14:16:12.020999",
     "status": "completed"
    },
    "tags": []
   },
   "outputs": [
    {
     "data": {
      "image/png": "[encoded data removed]",
      "text/plain": [
       "<Figure size 864x720 with 1 Axes>"
      ]
     },
     "metadata": {},
     "output_type": "display_data"
    }
   ],
   "source": [
    "# Viewing SibSp\n",
    "sns.countplot(train.SibSp)\n",
    "plt.show()"
   ]
  },
  {
   "cell_type": "code",
   "execution_count": 17,
   "id": "ancient-delay",
   "metadata": {
    "execution": {
     "iopub.execute_input": "2022-01-13T14:16:12.509795Z",
     "iopub.status.busy": "2022-01-13T14:16:12.508761Z",
     "iopub.status.idle": "2022-01-13T14:16:12.518902Z",
     "shell.execute_reply": "2022-01-13T14:16:12.519429Z",
     "shell.execute_reply.started": "2022-01-13T13:57:23.099648Z"
    },
    "papermill": {
     "duration": 0.104041,
     "end_time": "2022-01-13T14:16:12.519603",
     "exception": false,
     "start_time": "2022-01-13T14:16:12.415562",
     "status": "completed"
    },
    "tags": []
   },
   "outputs": [
    {
     "data": {
      "text/html": [
       "<div>\n",
       "<style scoped>\n",
       "    .dataframe tbody tr th:only-of-type {\n",
       "        vertical-align: middle;\n",
       "    }\n",
       "\n",
       "    .dataframe tbody tr th {\n",
       "        vertical-align: top;\n",
       "    }\n",
       "\n",
       "    .dataframe thead th {\n",
       "        text-align: right;\n",
       "    }\n",
       "</style>\n",
       "<table border=\"1\" class=\"dataframe\">\n",
       "  <thead>\n",
       "    <tr style=\"text-align: right;\">\n",
       "      <th></th>\n",
       "      <th>SibSp</th>\n",
       "    </tr>\n",
       "  </thead>\n",
       "  <tbody>\n",
       "    <tr>\n",
       "      <th>0</th>\n",
       "      <td>608</td>\n",
       "    </tr>\n",
       "    <tr>\n",
       "      <th>1</th>\n",
       "      <td>209</td>\n",
       "    </tr>\n",
       "    <tr>\n",
       "      <th>2</th>\n",
       "      <td>28</td>\n",
       "    </tr>\n",
       "    <tr>\n",
       "      <th>4</th>\n",
       "      <td>18</td>\n",
       "    </tr>\n",
       "    <tr>\n",
       "      <th>3</th>\n",
       "      <td>16</td>\n",
       "    </tr>\n",
       "    <tr>\n",
       "      <th>8</th>\n",
       "      <td>7</td>\n",
       "    </tr>\n",
       "    <tr>\n",
       "      <th>5</th>\n",
       "      <td>5</td>\n",
       "    </tr>\n",
       "  </tbody>\n",
       "</table>\n",
       "</div>"
      ],
      "text/plain": [
       "   SibSp\n",
       "0    608\n",
       "1    209\n",
       "2     28\n",
       "4     18\n",
       "3     16\n",
       "8      7\n",
       "5      5"
      ]
     },
     "execution_count": 17,
     "metadata": {},
     "output_type": "execute_result"
    }
   ],
   "source": [
    "train['SibSp'].value_counts().to_frame()"
   ]
  },
  {
   "cell_type": "code",
   "execution_count": 18,
   "id": "indonesian-savage",
   "metadata": {
    "execution": {
     "iopub.execute_input": "2022-01-13T14:16:12.703871Z",
     "iopub.status.busy": "2022-01-13T14:16:12.703229Z",
     "iopub.status.idle": "2022-01-13T14:16:12.707802Z",
     "shell.execute_reply": "2022-01-13T14:16:12.708304Z",
     "shell.execute_reply.started": "2022-01-13T13:57:31.117302Z"
    },
    "papermill": {
     "duration": 0.098316,
     "end_time": "2022-01-13T14:16:12.708491",
     "exception": false,
     "start_time": "2022-01-13T14:16:12.610175",
     "status": "completed"
    },
    "tags": []
   },
   "outputs": [],
   "source": [
    "def bar_chart_compare(dataset, feature1, feature2=None, title = \"Survival rate by siblings / spouses aboard the Titanic\"):\n",
    "    plt.figure(figsize = [5,5])\n",
    "    plt.title(title)\n",
    "    g = sns.barplot(x=feature1, y='Survived', hue=feature2, ci=None, data=dataset).set_ylabel('Survival rate')"
   ]
  },
  {
   "cell_type": "code",
   "execution_count": 19,
   "id": "tamil-landing",
   "metadata": {
    "execution": {
     "iopub.execute_input": "2022-01-13T14:16:12.892819Z",
     "iopub.status.busy": "2022-01-13T14:16:12.892201Z",
     "iopub.status.idle": "2022-01-13T14:16:13.086664Z",
     "shell.execute_reply": "2022-01-13T14:16:13.087142Z",
     "shell.execute_reply.started": "2022-01-13T13:57:33.408800Z"
    },
    "papermill": {
     "duration": 0.287813,
     "end_time": "2022-01-13T14:16:13.087320",
     "exception": false,
     "start_time": "2022-01-13T14:16:12.799507",
     "status": "completed"
    },
    "tags": []
   },
   "outputs": [
    {
     "data": {
      "image/png": "[encoded data removed]",
      "text/plain": [
       "<Figure size 360x360 with 1 Axes>"
      ]
     },
     "metadata": {},
     "output_type": "display_data"
    }
   ],
   "source": [
    "bar_chart_compare(train, \"SibSp\", title = \"Surival rate by siblings / spouses aboard the Titanic\")"
   ]
  },
  {
   "cell_type": "code",
   "execution_count": 20,
   "id": "wired-authentication",
   "metadata": {
    "execution": {
     "iopub.execute_input": "2022-01-13T14:16:13.275030Z",
     "iopub.status.busy": "2022-01-13T14:16:13.274383Z",
     "iopub.status.idle": "2022-01-13T14:16:13.284608Z",
     "shell.execute_reply": "2022-01-13T14:16:13.285103Z",
     "shell.execute_reply.started": "2022-01-13T13:57:37.059670Z"
    },
    "papermill": {
     "duration": 0.105355,
     "end_time": "2022-01-13T14:16:13.285291",
     "exception": false,
     "start_time": "2022-01-13T14:16:13.179936",
     "status": "completed"
    },
    "tags": []
   },
   "outputs": [
    {
     "data": {
      "text/html": [
       "<div>\n",
       "<style scoped>\n",
       "    .dataframe tbody tr th:only-of-type {\n",
       "        vertical-align: middle;\n",
       "    }\n",
       "\n",
       "    .dataframe tbody tr th {\n",
       "        vertical-align: top;\n",
       "    }\n",
       "\n",
       "    .dataframe thead th {\n",
       "        text-align: right;\n",
       "    }\n",
       "</style>\n",
       "<table border=\"1\" class=\"dataframe\">\n",
       "  <thead>\n",
       "    <tr style=\"text-align: right;\">\n",
       "      <th></th>\n",
       "      <th>Survived</th>\n",
       "    </tr>\n",
       "    <tr>\n",
       "      <th>SibSp</th>\n",
       "      <th></th>\n",
       "    </tr>\n",
       "  </thead>\n",
       "  <tbody>\n",
       "    <tr>\n",
       "      <th>0</th>\n",
       "      <td>0.345395</td>\n",
       "    </tr>\n",
       "    <tr>\n",
       "      <th>1</th>\n",
       "      <td>0.535885</td>\n",
       "    </tr>\n",
       "    <tr>\n",
       "      <th>2</th>\n",
       "      <td>0.464286</td>\n",
       "    </tr>\n",
       "    <tr>\n",
       "      <th>3</th>\n",
       "      <td>0.250000</td>\n",
       "    </tr>\n",
       "    <tr>\n",
       "      <th>4</th>\n",
       "      <td>0.166667</td>\n",
       "    </tr>\n",
       "    <tr>\n",
       "      <th>5</th>\n",
       "      <td>0.000000</td>\n",
       "    </tr>\n",
       "    <tr>\n",
       "      <th>8</th>\n",
       "      <td>0.000000</td>\n",
       "    </tr>\n",
       "  </tbody>\n",
       "</table>\n",
       "</div>"
      ],
      "text/plain": [
       "       Survived\n",
       "SibSp          \n",
       "0      0.345395\n",
       "1      0.535885\n",
       "2      0.464286\n",
       "3      0.250000\n",
       "4      0.166667\n",
       "5      0.000000\n",
       "8      0.000000"
      ]
     },
     "execution_count": 20,
     "metadata": {},
     "output_type": "execute_result"
    }
   ],
   "source": [
    "train.groupby(['SibSp']).Survived.mean().to_frame()"
   ]
  },
  {
   "cell_type": "code",
   "execution_count": 21,
   "id": "loving-morgan",
   "metadata": {
    "execution": {
     "iopub.execute_input": "2022-01-13T14:16:13.474489Z",
     "iopub.status.busy": "2022-01-13T14:16:13.473485Z",
     "iopub.status.idle": "2022-01-13T14:16:13.481669Z",
     "shell.execute_reply": "2022-01-13T14:16:13.481090Z",
     "shell.execute_reply.started": "2022-01-13T13:57:40.433696Z"
    },
    "papermill": {
     "duration": 0.103149,
     "end_time": "2022-01-13T14:16:13.481819",
     "exception": false,
     "start_time": "2022-01-13T14:16:13.378670",
     "status": "completed"
    },
    "tags": []
   },
   "outputs": [],
   "source": [
    "def count_plot(dataset, feature, title, fsize = (5,5)):\n",
    "    fig, ax = plt.subplots(figsize=fsize)\n",
    "    sns.countplot(dataset[feature], ax=ax).set_title(title)\n",
    "    \n",
    "def compare_plot(dataset, feature1, feature2, title):\n",
    "    fig, ax = plt.subplots(figsize=(5,5))\n",
    "    p = sns.countplot(x = feature1, hue = feature2, data = dataset, ax=ax).set_title(title)"
   ]
  },
  {
   "cell_type": "code",
   "execution_count": 22,
   "id": "rising-elizabeth",
   "metadata": {
    "execution": {
     "iopub.execute_input": "2022-01-13T14:16:13.678503Z",
     "iopub.status.busy": "2022-01-13T14:16:13.677730Z",
     "iopub.status.idle": "2022-01-13T14:16:13.880868Z",
     "shell.execute_reply": "2022-01-13T14:16:13.880179Z",
     "shell.execute_reply.started": "2022-01-13T13:57:43.273248Z"
    },
    "papermill": {
     "duration": 0.307015,
     "end_time": "2022-01-13T14:16:13.881021",
     "exception": false,
     "start_time": "2022-01-13T14:16:13.574006",
     "status": "completed"
    },
    "tags": []
   },
   "outputs": [
    {
     "data": {
      "image/png": "[encoded data removed]",
      "text/plain": [
       "<Figure size 1080x216 with 1 Axes>"
      ]
     },
     "metadata": {},
     "output_type": "display_data"
    }
   ],
   "source": [
    "count_plot(train, \"SibSp\", 'SibSp Distribution', (15,3))"
   ]
  },
  {
   "cell_type": "code",
   "execution_count": 23,
   "id": "opening-satin",
   "metadata": {
    "execution": {
     "iopub.execute_input": "2022-01-13T14:16:14.072579Z",
     "iopub.status.busy": "2022-01-13T14:16:14.071853Z",
     "iopub.status.idle": "2022-01-13T14:16:14.327968Z",
     "shell.execute_reply": "2022-01-13T14:16:14.328541Z",
     "shell.execute_reply.started": "2022-01-13T13:57:46.472751Z"
    },
    "papermill": {
     "duration": 0.353437,
     "end_time": "2022-01-13T14:16:14.328727",
     "exception": false,
     "start_time": "2022-01-13T14:16:13.975290",
     "status": "completed"
    },
    "tags": []
   },
   "outputs": [
    {
     "data": {
      "image/png": "[encoded data removed]",
      "text/plain": [
       "<Figure size 360x360 with 1 Axes>"
      ]
     },
     "metadata": {},
     "output_type": "display_data"
    }
   ],
   "source": [
    "compare_plot(train, \"SibSp\", \"Survived\", \"Number of passengers with siblings / spouses who survived\")"
   ]
  },
  {
   "cell_type": "markdown",
   "id": "warming-glasgow",
   "metadata": {
    "papermill": {
     "duration": 0.093543,
     "end_time": "2022-01-13T14:16:14.516640",
     "exception": false,
     "start_time": "2022-01-13T14:16:14.423097",
     "status": "completed"
    },
    "tags": []
   },
   "source": [
    "The majority of the passengers traveled alone.The more siblings a passenger has the less chance of survival."
   ]
  },
  {
   "cell_type": "code",
   "execution_count": 24,
   "id": "efficient-toronto",
   "metadata": {
    "execution": {
     "iopub.execute_input": "2022-01-13T14:16:14.707341Z",
     "iopub.status.busy": "2022-01-13T14:16:14.706431Z",
     "iopub.status.idle": "2022-01-13T14:16:14.911719Z",
     "shell.execute_reply": "2022-01-13T14:16:14.911154Z",
     "shell.execute_reply.started": "2022-01-13T13:57:50.055530Z"
    },
    "papermill": {
     "duration": 0.30164,
     "end_time": "2022-01-13T14:16:14.911873",
     "exception": false,
     "start_time": "2022-01-13T14:16:14.610233",
     "status": "completed"
    },
    "tags": []
   },
   "outputs": [
    {
     "data": {
      "image/png": "[encoded data removed]",
      "text/plain": [
       "<Figure size 864x720 with 1 Axes>"
      ]
     },
     "metadata": {},
     "output_type": "display_data"
    }
   ],
   "source": [
    "# Viewing Parch\n",
    "sns.countplot(train.Parch)\n",
    "plt.show()"
   ]
  },
  {
   "cell_type": "code",
   "execution_count": 25,
   "id": "worth-spouse",
   "metadata": {
    "execution": {
     "iopub.execute_input": "2022-01-13T14:16:15.108597Z",
     "iopub.status.busy": "2022-01-13T14:16:15.107725Z",
     "iopub.status.idle": "2022-01-13T14:16:15.116580Z",
     "shell.execute_reply": "2022-01-13T14:16:15.117153Z",
     "shell.execute_reply.started": "2022-01-13T13:57:54.664060Z"
    },
    "papermill": {
     "duration": 0.110097,
     "end_time": "2022-01-13T14:16:15.117331",
     "exception": false,
     "start_time": "2022-01-13T14:16:15.007234",
     "status": "completed"
    },
    "tags": []
   },
   "outputs": [
    {
     "data": {
      "text/html": [
       "<div>\n",
       "<style scoped>\n",
       "    .dataframe tbody tr th:only-of-type {\n",
       "        vertical-align: middle;\n",
       "    }\n",
       "\n",
       "    .dataframe tbody tr th {\n",
       "        vertical-align: top;\n",
       "    }\n",
       "\n",
       "    .dataframe thead th {\n",
       "        text-align: right;\n",
       "    }\n",
       "</style>\n",
       "<table border=\"1\" class=\"dataframe\">\n",
       "  <thead>\n",
       "    <tr style=\"text-align: right;\">\n",
       "      <th></th>\n",
       "      <th>Survived</th>\n",
       "    </tr>\n",
       "    <tr>\n",
       "      <th>Parch</th>\n",
       "      <th></th>\n",
       "    </tr>\n",
       "  </thead>\n",
       "  <tbody>\n",
       "    <tr>\n",
       "      <th>0</th>\n",
       "      <td>0.343658</td>\n",
       "    </tr>\n",
       "    <tr>\n",
       "      <th>1</th>\n",
       "      <td>0.550847</td>\n",
       "    </tr>\n",
       "    <tr>\n",
       "      <th>2</th>\n",
       "      <td>0.500000</td>\n",
       "    </tr>\n",
       "    <tr>\n",
       "      <th>3</th>\n",
       "      <td>0.600000</td>\n",
       "    </tr>\n",
       "    <tr>\n",
       "      <th>4</th>\n",
       "      <td>0.000000</td>\n",
       "    </tr>\n",
       "    <tr>\n",
       "      <th>5</th>\n",
       "      <td>0.200000</td>\n",
       "    </tr>\n",
       "    <tr>\n",
       "      <th>6</th>\n",
       "      <td>0.000000</td>\n",
       "    </tr>\n",
       "  </tbody>\n",
       "</table>\n",
       "</div>"
      ],
      "text/plain": [
       "       Survived\n",
       "Parch          \n",
       "0      0.343658\n",
       "1      0.550847\n",
       "2      0.500000\n",
       "3      0.600000\n",
       "4      0.000000\n",
       "5      0.200000\n",
       "6      0.000000"
      ]
     },
     "execution_count": 25,
     "metadata": {},
     "output_type": "execute_result"
    }
   ],
   "source": [
    "train.groupby(['Parch']).Survived.mean().to_frame()"
   ]
  },
  {
   "cell_type": "code",
   "execution_count": 26,
   "id": "parliamentary-utility",
   "metadata": {
    "execution": {
     "iopub.execute_input": "2022-01-13T14:16:15.389895Z",
     "iopub.status.busy": "2022-01-13T14:16:15.388858Z",
     "iopub.status.idle": "2022-01-13T14:16:15.564505Z",
     "shell.execute_reply": "2022-01-13T14:16:15.565115Z",
     "shell.execute_reply.started": "2022-01-13T13:57:59.010022Z"
    },
    "papermill": {
     "duration": 0.351695,
     "end_time": "2022-01-13T14:16:15.565298",
     "exception": false,
     "start_time": "2022-01-13T14:16:15.213603",
     "status": "completed"
    },
    "tags": []
   },
   "outputs": [
    {
     "data": {
      "image/png": "[encoded data removed]",
      "text/plain": [
       "<Figure size 1080x216 with 1 Axes>"
      ]
     },
     "metadata": {},
     "output_type": "display_data"
    }
   ],
   "source": [
    "count_plot(train, \"Parch\", 'Parch Distribution', (15,3))"
   ]
  },
  {
   "cell_type": "code",
   "execution_count": 27,
   "id": "satisfied-flashing",
   "metadata": {
    "execution": {
     "iopub.execute_input": "2022-01-13T14:16:15.761086Z",
     "iopub.status.busy": "2022-01-13T14:16:15.760072Z",
     "iopub.status.idle": "2022-01-13T14:16:15.998374Z",
     "shell.execute_reply": "2022-01-13T14:16:15.998903Z",
     "shell.execute_reply.started": "2022-01-13T13:58:02.545353Z"
    },
    "papermill": {
     "duration": 0.337554,
     "end_time": "2022-01-13T14:16:15.999100",
     "exception": false,
     "start_time": "2022-01-13T14:16:15.661546",
     "status": "completed"
    },
    "tags": []
   },
   "outputs": [
    {
     "data": {
      "image/png": "[encoded data removed]",
      "text/plain": [
       "<Figure size 360x360 with 1 Axes>"
      ]
     },
     "metadata": {},
     "output_type": "display_data"
    }
   ],
   "source": [
    "compare_plot(train, \"Parch\", \"Survived\", \"Number of passengers with parents or children who survived\")"
   ]
  },
  {
   "cell_type": "markdown",
   "id": "photographic-circus",
   "metadata": {
    "papermill": {
     "duration": 0.09671,
     "end_time": "2022-01-13T14:16:16.195017",
     "exception": false,
     "start_time": "2022-01-13T14:16:16.098307",
     "status": "completed"
    },
    "tags": []
   },
   "source": [
    "Small families had highest chances of survival"
   ]
  },
  {
   "cell_type": "code",
   "execution_count": 28,
   "id": "advance-junior",
   "metadata": {
    "execution": {
     "iopub.execute_input": "2022-01-13T14:16:16.393531Z",
     "iopub.status.busy": "2022-01-13T14:16:16.392531Z",
     "iopub.status.idle": "2022-01-13T14:16:16.415828Z",
     "shell.execute_reply": "2022-01-13T14:16:16.416406Z",
     "shell.execute_reply.started": "2022-01-13T13:58:06.425976Z"
    },
    "papermill": {
     "duration": 0.124724,
     "end_time": "2022-01-13T14:16:16.416578",
     "exception": false,
     "start_time": "2022-01-13T14:16:16.291854",
     "status": "completed"
    },
    "tags": []
   },
   "outputs": [
    {
     "data": {
      "text/html": [
       "<div>\n",
       "<style scoped>\n",
       "    .dataframe tbody tr th:only-of-type {\n",
       "        vertical-align: middle;\n",
       "    }\n",
       "\n",
       "    .dataframe tbody tr th {\n",
       "        vertical-align: top;\n",
       "    }\n",
       "\n",
       "    .dataframe thead th {\n",
       "        text-align: right;\n",
       "    }\n",
       "</style>\n",
       "<table border=\"1\" class=\"dataframe\">\n",
       "  <thead>\n",
       "    <tr style=\"text-align: right;\">\n",
       "      <th>Pclass</th>\n",
       "      <th>1</th>\n",
       "      <th>2</th>\n",
       "      <th>3</th>\n",
       "    </tr>\n",
       "    <tr>\n",
       "      <th>Survived</th>\n",
       "      <th></th>\n",
       "      <th></th>\n",
       "      <th></th>\n",
       "    </tr>\n",
       "  </thead>\n",
       "  <tbody>\n",
       "    <tr>\n",
       "      <th>0</th>\n",
       "      <td>80</td>\n",
       "      <td>97</td>\n",
       "      <td>372</td>\n",
       "    </tr>\n",
       "    <tr>\n",
       "      <th>1</th>\n",
       "      <td>136</td>\n",
       "      <td>87</td>\n",
       "      <td>119</td>\n",
       "    </tr>\n",
       "  </tbody>\n",
       "</table>\n",
       "</div>"
      ],
      "text/plain": [
       "Pclass      1   2    3\n",
       "Survived              \n",
       "0          80  97  372\n",
       "1         136  87  119"
      ]
     },
     "execution_count": 28,
     "metadata": {},
     "output_type": "execute_result"
    }
   ],
   "source": [
    "# Viewing PClass\n",
    "pd.pivot_table(train, index = 'Survived', columns = 'Pclass', values = 'Ticket' ,aggfunc ='count')"
   ]
  },
  {
   "cell_type": "code",
   "execution_count": 29,
   "id": "stylish-wichita",
   "metadata": {
    "execution": {
     "iopub.execute_input": "2022-01-13T14:16:16.615312Z",
     "iopub.status.busy": "2022-01-13T14:16:16.614289Z",
     "iopub.status.idle": "2022-01-13T14:16:16.625467Z",
     "shell.execute_reply": "2022-01-13T14:16:16.626014Z",
     "shell.execute_reply.started": "2022-01-13T13:58:09.177298Z"
    },
    "papermill": {
     "duration": 0.112257,
     "end_time": "2022-01-13T14:16:16.626194",
     "exception": false,
     "start_time": "2022-01-13T14:16:16.513937",
     "status": "completed"
    },
    "tags": []
   },
   "outputs": [
    {
     "data": {
      "text/html": [
       "<div>\n",
       "<style scoped>\n",
       "    .dataframe tbody tr th:only-of-type {\n",
       "        vertical-align: middle;\n",
       "    }\n",
       "\n",
       "    .dataframe tbody tr th {\n",
       "        vertical-align: top;\n",
       "    }\n",
       "\n",
       "    .dataframe thead th {\n",
       "        text-align: right;\n",
       "    }\n",
       "</style>\n",
       "<table border=\"1\" class=\"dataframe\">\n",
       "  <thead>\n",
       "    <tr style=\"text-align: right;\">\n",
       "      <th></th>\n",
       "      <th>Survived</th>\n",
       "    </tr>\n",
       "    <tr>\n",
       "      <th>Pclass</th>\n",
       "      <th></th>\n",
       "    </tr>\n",
       "  </thead>\n",
       "  <tbody>\n",
       "    <tr>\n",
       "      <th>1</th>\n",
       "      <td>0.629630</td>\n",
       "    </tr>\n",
       "    <tr>\n",
       "      <th>2</th>\n",
       "      <td>0.472826</td>\n",
       "    </tr>\n",
       "    <tr>\n",
       "      <th>3</th>\n",
       "      <td>0.242363</td>\n",
       "    </tr>\n",
       "  </tbody>\n",
       "</table>\n",
       "</div>"
      ],
      "text/plain": [
       "        Survived\n",
       "Pclass          \n",
       "1       0.629630\n",
       "2       0.472826\n",
       "3       0.242363"
      ]
     },
     "execution_count": 29,
     "metadata": {},
     "output_type": "execute_result"
    }
   ],
   "source": [
    "train.groupby(['Pclass']).Survived.mean().to_frame()"
   ]
  },
  {
   "cell_type": "markdown",
   "id": "animated-banks",
   "metadata": {
    "papermill": {
     "duration": 0.097034,
     "end_time": "2022-01-13T14:16:16.820470",
     "exception": false,
     "start_time": "2022-01-13T14:16:16.723436",
     "status": "completed"
    },
    "tags": []
   },
   "source": [
    "Most of the Class 1 passengers (62.9%) survived."
   ]
  },
  {
   "cell_type": "code",
   "execution_count": 30,
   "id": "political-abortion",
   "metadata": {
    "execution": {
     "iopub.execute_input": "2022-01-13T14:16:17.022589Z",
     "iopub.status.busy": "2022-01-13T14:16:17.021617Z",
     "iopub.status.idle": "2022-01-13T14:16:17.359965Z",
     "shell.execute_reply": "2022-01-13T14:16:17.359363Z",
     "shell.execute_reply.started": "2022-01-13T13:58:12.184946Z"
    },
    "papermill": {
     "duration": 0.441617,
     "end_time": "2022-01-13T14:16:17.360144",
     "exception": false,
     "start_time": "2022-01-13T14:16:16.918527",
     "status": "completed"
    },
    "tags": []
   },
   "outputs": [
    {
     "data": {
      "image/png": "[encoded data removed]",
      "text/plain": [
       "<Figure size 864x720 with 1 Axes>"
      ]
     },
     "metadata": {},
     "output_type": "display_data"
    }
   ],
   "source": [
    "# Viewing Fare\n",
    "sns.distplot(train.Fare)\n",
    "plt.show()\n"
   ]
  },
  {
   "cell_type": "code",
   "execution_count": 31,
   "id": "expressed-morgan",
   "metadata": {
    "execution": {
     "iopub.execute_input": "2022-01-13T14:16:17.564942Z",
     "iopub.status.busy": "2022-01-13T14:16:17.563703Z",
     "iopub.status.idle": "2022-01-13T14:16:17.733569Z",
     "shell.execute_reply": "2022-01-13T14:16:17.734046Z",
     "shell.execute_reply.started": "2022-01-13T13:58:17.058828Z"
    },
    "papermill": {
     "duration": 0.273089,
     "end_time": "2022-01-13T14:16:17.734226",
     "exception": false,
     "start_time": "2022-01-13T14:16:17.461137",
     "status": "completed"
    },
    "tags": []
   },
   "outputs": [
    {
     "data": {
      "image/png": "[encoded data removed]",
      "text/plain": [
       "<Figure size 864x720 with 1 Axes>"
      ]
     },
     "metadata": {},
     "output_type": "display_data"
    }
   ],
   "source": [
    "sns.boxplot(x='Survived', y='Fare', data=train)\n",
    "plt.show()"
   ]
  },
  {
   "cell_type": "markdown",
   "id": "rough-thinking",
   "metadata": {
    "papermill": {
     "duration": 0.101308,
     "end_time": "2022-01-13T14:16:17.935983",
     "exception": false,
     "start_time": "2022-01-13T14:16:17.834675",
     "status": "completed"
    },
    "tags": []
   },
   "source": [
    "People who paid high fares have a higher chance of survival."
   ]
  },
  {
   "cell_type": "markdown",
   "id": "included-faith",
   "metadata": {
    "papermill": {
     "duration": 0.101047,
     "end_time": "2022-01-13T14:16:18.141432",
     "exception": false,
     "start_time": "2022-01-13T14:16:18.040385",
     "status": "completed"
    },
    "tags": []
   },
   "source": [
    "# **Analysing the correlation of Port of embarkment**"
   ]
  },
  {
   "cell_type": "code",
   "execution_count": 32,
   "id": "addressed-heaven",
   "metadata": {
    "execution": {
     "iopub.execute_input": "2022-01-13T14:16:18.346087Z",
     "iopub.status.busy": "2022-01-13T14:16:18.345113Z",
     "iopub.status.idle": "2022-01-13T14:16:18.522842Z",
     "shell.execute_reply": "2022-01-13T14:16:18.523394Z",
     "shell.execute_reply.started": "2022-01-13T13:58:23.888598Z"
    },
    "papermill": {
     "duration": 0.281925,
     "end_time": "2022-01-13T14:16:18.523597",
     "exception": false,
     "start_time": "2022-01-13T14:16:18.241672",
     "status": "completed"
    },
    "tags": []
   },
   "outputs": [
    {
     "data": {
      "image/png": "[encoded data removed]",
      "text/plain": [
       "<Figure size 360x360 with 1 Axes>"
      ]
     },
     "metadata": {},
     "output_type": "display_data"
    }
   ],
   "source": [
    "bar_chart_stacked(train, 'Embarked')"
   ]
  },
  {
   "cell_type": "code",
   "execution_count": 33,
   "id": "bridal-float",
   "metadata": {
    "execution": {
     "iopub.execute_input": "2022-01-13T14:16:18.730207Z",
     "iopub.status.busy": "2022-01-13T14:16:18.729193Z",
     "iopub.status.idle": "2022-01-13T14:16:19.047698Z",
     "shell.execute_reply": "2022-01-13T14:16:19.048185Z",
     "shell.execute_reply.started": "2022-01-13T13:58:37.890184Z"
    },
    "papermill": {
     "duration": 0.423639,
     "end_time": "2022-01-13T14:16:19.048371",
     "exception": false,
     "start_time": "2022-01-13T14:16:18.624732",
     "status": "completed"
    },
    "tags": []
   },
   "outputs": [
    {
     "data": {
      "image/png": "[encoded data removed]",
      "text/plain": [
       "<Figure size 360x360 with 1 Axes>"
      ]
     },
     "metadata": {},
     "output_type": "display_data"
    }
   ],
   "source": [
    "count_plot(train, \"Embarked\", 'Passengers count at ports')"
   ]
  },
  {
   "cell_type": "markdown",
   "id": "bound-poverty",
   "metadata": {
    "papermill": {
     "duration": 0.10502,
     "end_time": "2022-01-13T14:16:19.256211",
     "exception": false,
     "start_time": "2022-01-13T14:16:19.151191",
     "status": "completed"
    },
    "tags": []
   },
   "source": [
    "More people embarked at Southampton"
   ]
  },
  {
   "cell_type": "code",
   "execution_count": 34,
   "id": "respected-apple",
   "metadata": {
    "execution": {
     "iopub.execute_input": "2022-01-13T14:16:19.471238Z",
     "iopub.status.busy": "2022-01-13T14:16:19.470511Z",
     "iopub.status.idle": "2022-01-13T14:16:19.474220Z",
     "shell.execute_reply": "2022-01-13T14:16:19.474743Z",
     "shell.execute_reply.started": "2022-01-13T13:58:41.695656Z"
    },
    "papermill": {
     "duration": 0.116381,
     "end_time": "2022-01-13T14:16:19.474917",
     "exception": false,
     "start_time": "2022-01-13T14:16:19.358536",
     "status": "completed"
    },
    "tags": []
   },
   "outputs": [
    {
     "data": {
      "text/html": [
       "<div>\n",
       "<style scoped>\n",
       "    .dataframe tbody tr th:only-of-type {\n",
       "        vertical-align: middle;\n",
       "    }\n",
       "\n",
       "    .dataframe tbody tr th {\n",
       "        vertical-align: top;\n",
       "    }\n",
       "\n",
       "    .dataframe thead th {\n",
       "        text-align: right;\n",
       "    }\n",
       "</style>\n",
       "<table border=\"1\" class=\"dataframe\">\n",
       "  <thead>\n",
       "    <tr style=\"text-align: right;\">\n",
       "      <th></th>\n",
       "      <th>Embarked</th>\n",
       "    </tr>\n",
       "  </thead>\n",
       "  <tbody>\n",
       "    <tr>\n",
       "      <th>S</th>\n",
       "      <td>644</td>\n",
       "    </tr>\n",
       "    <tr>\n",
       "      <th>C</th>\n",
       "      <td>168</td>\n",
       "    </tr>\n",
       "    <tr>\n",
       "      <th>Q</th>\n",
       "      <td>77</td>\n",
       "    </tr>\n",
       "  </tbody>\n",
       "</table>\n",
       "</div>"
      ],
      "text/plain": [
       "   Embarked\n",
       "S       644\n",
       "C       168\n",
       "Q        77"
      ]
     },
     "execution_count": 34,
     "metadata": {},
     "output_type": "execute_result"
    }
   ],
   "source": [
    "train['Embarked'].value_counts().to_frame()"
   ]
  },
  {
   "cell_type": "code",
   "execution_count": 35,
   "id": "determined-think",
   "metadata": {
    "execution": {
     "iopub.execute_input": "2022-01-13T14:16:19.683500Z",
     "iopub.status.busy": "2022-01-13T14:16:19.682827Z",
     "iopub.status.idle": "2022-01-13T14:16:19.693578Z",
     "shell.execute_reply": "2022-01-13T14:16:19.694151Z",
     "shell.execute_reply.started": "2022-01-13T13:58:44.665515Z"
    },
    "papermill": {
     "duration": 0.11612,
     "end_time": "2022-01-13T14:16:19.694331",
     "exception": false,
     "start_time": "2022-01-13T14:16:19.578211",
     "status": "completed"
    },
    "tags": []
   },
   "outputs": [
    {
     "data": {
      "text/html": [
       "<div>\n",
       "<style scoped>\n",
       "    .dataframe tbody tr th:only-of-type {\n",
       "        vertical-align: middle;\n",
       "    }\n",
       "\n",
       "    .dataframe tbody tr th {\n",
       "        vertical-align: top;\n",
       "    }\n",
       "\n",
       "    .dataframe thead th {\n",
       "        text-align: right;\n",
       "    }\n",
       "</style>\n",
       "<table border=\"1\" class=\"dataframe\">\n",
       "  <thead>\n",
       "    <tr style=\"text-align: right;\">\n",
       "      <th></th>\n",
       "      <th>Survived</th>\n",
       "    </tr>\n",
       "    <tr>\n",
       "      <th>Embarked</th>\n",
       "      <th></th>\n",
       "    </tr>\n",
       "  </thead>\n",
       "  <tbody>\n",
       "    <tr>\n",
       "      <th>C</th>\n",
       "      <td>0.553571</td>\n",
       "    </tr>\n",
       "    <tr>\n",
       "      <th>Q</th>\n",
       "      <td>0.389610</td>\n",
       "    </tr>\n",
       "    <tr>\n",
       "      <th>S</th>\n",
       "      <td>0.336957</td>\n",
       "    </tr>\n",
       "  </tbody>\n",
       "</table>\n",
       "</div>"
      ],
      "text/plain": [
       "          Survived\n",
       "Embarked          \n",
       "C         0.553571\n",
       "Q         0.389610\n",
       "S         0.336957"
      ]
     },
     "execution_count": 35,
     "metadata": {},
     "output_type": "execute_result"
    }
   ],
   "source": [
    "train.groupby(['Embarked']).Survived.mean().to_frame()"
   ]
  },
  {
   "cell_type": "markdown",
   "id": "protective-apple",
   "metadata": {
    "papermill": {
     "duration": 0.102921,
     "end_time": "2022-01-13T14:16:19.900207",
     "exception": false,
     "start_time": "2022-01-13T14:16:19.797286",
     "status": "completed"
    },
    "tags": []
   },
   "source": [
    "The majority of passengers embarked from Southampton. However, only 33% survived. The highest survival rate of 55% is in the group of passengers that embarked from Cherbourg. Why Cherboug? Maybe the percentage of Class 1."
   ]
  },
  {
   "cell_type": "code",
   "execution_count": 36,
   "id": "emerging-bahrain",
   "metadata": {
    "execution": {
     "iopub.execute_input": "2022-01-13T14:16:20.110133Z",
     "iopub.status.busy": "2022-01-13T14:16:20.109376Z",
     "iopub.status.idle": "2022-01-13T14:16:20.121197Z",
     "shell.execute_reply": "2022-01-13T14:16:20.121684Z",
     "shell.execute_reply.started": "2022-01-13T13:58:47.681361Z"
    },
    "papermill": {
     "duration": 0.118125,
     "end_time": "2022-01-13T14:16:20.121864",
     "exception": false,
     "start_time": "2022-01-13T14:16:20.003739",
     "status": "completed"
    },
    "tags": []
   },
   "outputs": [
    {
     "data": {
      "text/html": [
       "<div>\n",
       "<style scoped>\n",
       "    .dataframe tbody tr th:only-of-type {\n",
       "        vertical-align: middle;\n",
       "    }\n",
       "\n",
       "    .dataframe tbody tr th {\n",
       "        vertical-align: top;\n",
       "    }\n",
       "\n",
       "    .dataframe thead th {\n",
       "        text-align: right;\n",
       "    }\n",
       "</style>\n",
       "<table border=\"1\" class=\"dataframe\">\n",
       "  <thead>\n",
       "    <tr style=\"text-align: right;\">\n",
       "      <th></th>\n",
       "      <th></th>\n",
       "      <th>Survived</th>\n",
       "    </tr>\n",
       "    <tr>\n",
       "      <th>Embarked</th>\n",
       "      <th>Pclass</th>\n",
       "      <th></th>\n",
       "    </tr>\n",
       "  </thead>\n",
       "  <tbody>\n",
       "    <tr>\n",
       "      <th rowspan=\"3\" valign=\"top\">C</th>\n",
       "      <th>1</th>\n",
       "      <td>85</td>\n",
       "    </tr>\n",
       "    <tr>\n",
       "      <th>2</th>\n",
       "      <td>17</td>\n",
       "    </tr>\n",
       "    <tr>\n",
       "      <th>3</th>\n",
       "      <td>66</td>\n",
       "    </tr>\n",
       "    <tr>\n",
       "      <th rowspan=\"3\" valign=\"top\">Q</th>\n",
       "      <th>1</th>\n",
       "      <td>2</td>\n",
       "    </tr>\n",
       "    <tr>\n",
       "      <th>2</th>\n",
       "      <td>3</td>\n",
       "    </tr>\n",
       "    <tr>\n",
       "      <th>3</th>\n",
       "      <td>72</td>\n",
       "    </tr>\n",
       "    <tr>\n",
       "      <th rowspan=\"3\" valign=\"top\">S</th>\n",
       "      <th>1</th>\n",
       "      <td>127</td>\n",
       "    </tr>\n",
       "    <tr>\n",
       "      <th>2</th>\n",
       "      <td>164</td>\n",
       "    </tr>\n",
       "    <tr>\n",
       "      <th>3</th>\n",
       "      <td>353</td>\n",
       "    </tr>\n",
       "  </tbody>\n",
       "</table>\n",
       "</div>"
      ],
      "text/plain": [
       "                 Survived\n",
       "Embarked Pclass          \n",
       "C        1             85\n",
       "         2             17\n",
       "         3             66\n",
       "Q        1              2\n",
       "         2              3\n",
       "         3             72\n",
       "S        1            127\n",
       "         2            164\n",
       "         3            353"
      ]
     },
     "execution_count": 36,
     "metadata": {},
     "output_type": "execute_result"
    }
   ],
   "source": [
    "train.groupby(['Embarked', 'Pclass']).Survived.count().to_frame()"
   ]
  },
  {
   "cell_type": "markdown",
   "id": "faced-supplier",
   "metadata": {
    "papermill": {
     "duration": 0.103211,
     "end_time": "2022-01-13T14:16:20.328228",
     "exception": false,
     "start_time": "2022-01-13T14:16:20.225017",
     "status": "completed"
    },
    "tags": []
   },
   "source": [
    "The majority that embarked on S were in Class 3. Those embarked on C were in Class 1. This can explain the high mortality rate of people of S as class 3 is the least eqquiped class"
   ]
  },
  {
   "cell_type": "code",
   "execution_count": 37,
   "id": "initial-approval",
   "metadata": {
    "execution": {
     "iopub.execute_input": "2022-01-13T14:16:20.538892Z",
     "iopub.status.busy": "2022-01-13T14:16:20.538206Z",
     "iopub.status.idle": "2022-01-13T14:16:20.738709Z",
     "shell.execute_reply": "2022-01-13T14:16:20.739213Z",
     "shell.execute_reply.started": "2022-01-13T13:58:51.666383Z"
    },
    "papermill": {
     "duration": 0.306988,
     "end_time": "2022-01-13T14:16:20.739403",
     "exception": false,
     "start_time": "2022-01-13T14:16:20.432415",
     "status": "completed"
    },
    "tags": []
   },
   "outputs": [
    {
     "data": {
      "image/png": "[encoded data removed]",
      "text/plain": [
       "<Figure size 360x360 with 1 Axes>"
      ]
     },
     "metadata": {},
     "output_type": "display_data"
    }
   ],
   "source": [
    "compare_plot(train, \"Embarked\", \"Pclass\", \"Passenger count at the point of embarktion and class\")"
   ]
  },
  {
   "cell_type": "code",
   "execution_count": 38,
   "id": "embedded-drawing",
   "metadata": {
    "execution": {
     "iopub.execute_input": "2022-01-13T14:16:20.953809Z",
     "iopub.status.busy": "2022-01-13T14:16:20.953206Z",
     "iopub.status.idle": "2022-01-13T14:16:20.966268Z",
     "shell.execute_reply": "2022-01-13T14:16:20.966789Z",
     "shell.execute_reply.started": "2022-01-13T13:58:54.843550Z"
    },
    "papermill": {
     "duration": 0.122226,
     "end_time": "2022-01-13T14:16:20.966960",
     "exception": false,
     "start_time": "2022-01-13T14:16:20.844734",
     "status": "completed"
    },
    "tags": []
   },
   "outputs": [
    {
     "data": {
      "text/html": [
       "<div>\n",
       "<style scoped>\n",
       "    .dataframe tbody tr th:only-of-type {\n",
       "        vertical-align: middle;\n",
       "    }\n",
       "\n",
       "    .dataframe tbody tr th {\n",
       "        vertical-align: top;\n",
       "    }\n",
       "\n",
       "    .dataframe thead th {\n",
       "        text-align: right;\n",
       "    }\n",
       "</style>\n",
       "<table border=\"1\" class=\"dataframe\">\n",
       "  <thead>\n",
       "    <tr style=\"text-align: right;\">\n",
       "      <th></th>\n",
       "      <th></th>\n",
       "      <th>Survived</th>\n",
       "    </tr>\n",
       "    <tr>\n",
       "      <th>Embarked</th>\n",
       "      <th>Sex</th>\n",
       "      <th></th>\n",
       "    </tr>\n",
       "  </thead>\n",
       "  <tbody>\n",
       "    <tr>\n",
       "      <th rowspan=\"2\" valign=\"top\">C</th>\n",
       "      <th>female</th>\n",
       "      <td>64</td>\n",
       "    </tr>\n",
       "    <tr>\n",
       "      <th>male</th>\n",
       "      <td>29</td>\n",
       "    </tr>\n",
       "    <tr>\n",
       "      <th rowspan=\"2\" valign=\"top\">Q</th>\n",
       "      <th>female</th>\n",
       "      <td>27</td>\n",
       "    </tr>\n",
       "    <tr>\n",
       "      <th>male</th>\n",
       "      <td>3</td>\n",
       "    </tr>\n",
       "    <tr>\n",
       "      <th rowspan=\"2\" valign=\"top\">S</th>\n",
       "      <th>female</th>\n",
       "      <td>140</td>\n",
       "    </tr>\n",
       "    <tr>\n",
       "      <th>male</th>\n",
       "      <td>77</td>\n",
       "    </tr>\n",
       "  </tbody>\n",
       "</table>\n",
       "</div>"
      ],
      "text/plain": [
       "                 Survived\n",
       "Embarked Sex             \n",
       "C        female        64\n",
       "         male          29\n",
       "Q        female        27\n",
       "         male           3\n",
       "S        female       140\n",
       "         male          77"
      ]
     },
     "execution_count": 38,
     "metadata": {},
     "output_type": "execute_result"
    }
   ],
   "source": [
    "train.groupby(['Embarked', 'Sex']).Survived.sum().to_frame()"
   ]
  },
  {
   "cell_type": "code",
   "execution_count": 39,
   "id": "charged-bidding",
   "metadata": {
    "execution": {
     "iopub.execute_input": "2022-01-13T14:16:21.179711Z",
     "iopub.status.busy": "2022-01-13T14:16:21.178930Z",
     "iopub.status.idle": "2022-01-13T14:16:21.182680Z",
     "shell.execute_reply": "2022-01-13T14:16:21.183288Z",
     "shell.execute_reply.started": "2022-01-13T13:58:57.522830Z"
    },
    "papermill": {
     "duration": 0.112136,
     "end_time": "2022-01-13T14:16:21.183472",
     "exception": false,
     "start_time": "2022-01-13T14:16:21.071336",
     "status": "completed"
    },
    "tags": []
   },
   "outputs": [],
   "source": [
    "# #Checking outliers\n",
    "#outlier=train[['Survived','Pclass' ,'Age','SibSp','Parch','Fare']]\n",
    "#q3 = outlier.quantile(0.75)\n",
    "#q1 = outlier.quantile(0.25)\n",
    "#IQR = q3 - q1\n",
    "#((outlier < (q1 - 1.5 * IQR)) | (outlier > (q3 + 1.5 * IQR))).sum()"
   ]
  },
  {
   "cell_type": "markdown",
   "id": "alternate-antibody",
   "metadata": {
    "papermill": {
     "duration": 0.107165,
     "end_time": "2022-01-13T14:16:21.396356",
     "exception": false,
     "start_time": "2022-01-13T14:16:21.289191",
     "status": "completed"
    },
    "tags": []
   },
   "source": [
    "Age 11 outliers, Sibsp 46 outliers, Parch 213 outliers, Fare 116 outliers."
   ]
  },
  {
   "cell_type": "code",
   "execution_count": 40,
   "id": "understanding-means",
   "metadata": {
    "execution": {
     "iopub.execute_input": "2022-01-13T14:16:21.610519Z",
     "iopub.status.busy": "2022-01-13T14:16:21.609816Z",
     "iopub.status.idle": "2022-01-13T14:16:21.613050Z",
     "shell.execute_reply": "2022-01-13T14:16:21.613576Z",
     "shell.execute_reply.started": "2022-01-13T13:59:00.789813Z"
    },
    "papermill": {
     "duration": 0.111412,
     "end_time": "2022-01-13T14:16:21.613753",
     "exception": false,
     "start_time": "2022-01-13T14:16:21.502341",
     "status": "completed"
    },
    "tags": []
   },
   "outputs": [],
   "source": [
    "# Removing outliers\n",
    "#train = train[~((train < (q1 - 1.5 * IQR)) |(train > (q3 + 1.5 * IQR))).any(axis=1)]"
   ]
  },
  {
   "cell_type": "markdown",
   "id": "comparable-collect",
   "metadata": {
    "papermill": {
     "duration": 0.104772,
     "end_time": "2022-01-13T14:16:21.823640",
     "exception": false,
     "start_time": "2022-01-13T14:16:21.718868",
     "status": "completed"
    },
    "tags": []
   },
   "source": [
    "# Preprocessing Data"
   ]
  },
  {
   "cell_type": "markdown",
   "id": "involved-george",
   "metadata": {
    "papermill": {
     "duration": 0.104978,
     "end_time": "2022-01-13T14:16:22.032936",
     "exception": false,
     "start_time": "2022-01-13T14:16:21.927958",
     "status": "completed"
    },
    "tags": []
   },
   "source": [
    "# Test data"
   ]
  },
  {
   "cell_type": "code",
   "execution_count": 41,
   "id": "iraqi-justice",
   "metadata": {
    "execution": {
     "iopub.execute_input": "2022-01-13T14:16:22.248788Z",
     "iopub.status.busy": "2022-01-13T14:16:22.247898Z",
     "iopub.status.idle": "2022-01-13T14:16:22.279395Z",
     "shell.execute_reply": "2022-01-13T14:16:22.278740Z",
     "shell.execute_reply.started": "2022-01-13T13:59:05.154460Z"
    },
    "papermill": {
     "duration": 0.140579,
     "end_time": "2022-01-13T14:16:22.279566",
     "exception": false,
     "start_time": "2022-01-13T14:16:22.138987",
     "status": "completed"
    },
    "tags": []
   },
   "outputs": [
    {
     "data": {
      "text/html": [
       "<div>\n",
       "<style scoped>\n",
       "    .dataframe tbody tr th:only-of-type {\n",
       "        vertical-align: middle;\n",
       "    }\n",
       "\n",
       "    .dataframe tbody tr th {\n",
       "        vertical-align: top;\n",
       "    }\n",
       "\n",
       "    .dataframe thead th {\n",
       "        text-align: right;\n",
       "    }\n",
       "</style>\n",
       "<table border=\"1\" class=\"dataframe\">\n",
       "  <thead>\n",
       "    <tr style=\"text-align: right;\">\n",
       "      <th></th>\n",
       "      <th>PassengerId</th>\n",
       "      <th>Pclass</th>\n",
       "      <th>Name</th>\n",
       "      <th>Sex</th>\n",
       "      <th>Age</th>\n",
       "      <th>SibSp</th>\n",
       "      <th>Parch</th>\n",
       "      <th>Ticket</th>\n",
       "      <th>Fare</th>\n",
       "      <th>Cabin</th>\n",
       "      <th>Embarked</th>\n",
       "    </tr>\n",
       "  </thead>\n",
       "  <tbody>\n",
       "    <tr>\n",
       "      <th>0</th>\n",
       "      <td>892</td>\n",
       "      <td>3</td>\n",
       "      <td>Kelly, Mr. James</td>\n",
       "      <td>male</td>\n",
       "      <td>34.5</td>\n",
       "      <td>0</td>\n",
       "      <td>0</td>\n",
       "      <td>330911</td>\n",
       "      <td>7.8292</td>\n",
       "      <td>NaN</td>\n",
       "      <td>Q</td>\n",
       "    </tr>\n",
       "    <tr>\n",
       "      <th>1</th>\n",
       "      <td>893</td>\n",
       "      <td>3</td>\n",
       "      <td>Wilkes, Mrs. James (Ellen Needs)</td>\n",
       "      <td>female</td>\n",
       "      <td>47.0</td>\n",
       "      <td>1</td>\n",
       "      <td>0</td>\n",
       "      <td>363272</td>\n",
       "      <td>7.0000</td>\n",
       "      <td>NaN</td>\n",
       "      <td>S</td>\n",
       "    </tr>\n",
       "    <tr>\n",
       "      <th>2</th>\n",
       "      <td>894</td>\n",
       "      <td>2</td>\n",
       "      <td>Myles, Mr. Thomas Francis</td>\n",
       "      <td>male</td>\n",
       "      <td>62.0</td>\n",
       "      <td>0</td>\n",
       "      <td>0</td>\n",
       "      <td>240276</td>\n",
       "      <td>9.6875</td>\n",
       "      <td>NaN</td>\n",
       "      <td>Q</td>\n",
       "    </tr>\n",
       "    <tr>\n",
       "      <th>3</th>\n",
       "      <td>895</td>\n",
       "      <td>3</td>\n",
       "      <td>Wirz, Mr. Albert</td>\n",
       "      <td>male</td>\n",
       "      <td>27.0</td>\n",
       "      <td>0</td>\n",
       "      <td>0</td>\n",
       "      <td>315154</td>\n",
       "      <td>8.6625</td>\n",
       "      <td>NaN</td>\n",
       "      <td>S</td>\n",
       "    </tr>\n",
       "    <tr>\n",
       "      <th>4</th>\n",
       "      <td>896</td>\n",
       "      <td>3</td>\n",
       "      <td>Hirvonen, Mrs. Alexander (Helga E Lindqvist)</td>\n",
       "      <td>female</td>\n",
       "      <td>22.0</td>\n",
       "      <td>1</td>\n",
       "      <td>1</td>\n",
       "      <td>3101298</td>\n",
       "      <td>12.2875</td>\n",
       "      <td>NaN</td>\n",
       "      <td>S</td>\n",
       "    </tr>\n",
       "  </tbody>\n",
       "</table>\n",
       "</div>"
      ],
      "text/plain": [
       "   PassengerId  Pclass                                          Name     Sex  \\\n",
       "0          892       3                              Kelly, Mr. James    male   \n",
       "1          893       3              Wilkes, Mrs. James (Ellen Needs)  female   \n",
       "2          894       2                     Myles, Mr. Thomas Francis    male   \n",
       "3          895       3                              Wirz, Mr. Albert    male   \n",
       "4          896       3  Hirvonen, Mrs. Alexander (Helga E Lindqvist)  female   \n",
       "\n",
       "    Age  SibSp  Parch   Ticket     Fare Cabin Embarked  \n",
       "0  34.5      0      0   330911   7.8292   NaN        Q  \n",
       "1  47.0      1      0   363272   7.0000   NaN        S  \n",
       "2  62.0      0      0   240276   9.6875   NaN        Q  \n",
       "3  27.0      0      0   315154   8.6625   NaN        S  \n",
       "4  22.0      1      1  3101298  12.2875   NaN        S  "
      ]
     },
     "execution_count": 41,
     "metadata": {},
     "output_type": "execute_result"
    }
   ],
   "source": [
    "test = pd.read_csv('/kaggle/input/titanic/test.csv')\n",
    "\n",
    "# Printing first 10 rows of the dataset\n",
    "test.head(5)"
   ]
  },
  {
   "cell_type": "code",
   "execution_count": 42,
   "id": "realistic-baseball",
   "metadata": {
    "execution": {
     "iopub.execute_input": "2022-01-13T14:16:22.506258Z",
     "iopub.status.busy": "2022-01-13T14:16:22.499326Z",
     "iopub.status.idle": "2022-01-13T14:16:22.510960Z",
     "shell.execute_reply": "2022-01-13T14:16:22.511495Z",
     "shell.execute_reply.started": "2022-01-13T13:59:08.479446Z"
    },
    "papermill": {
     "duration": 0.125766,
     "end_time": "2022-01-13T14:16:22.511677",
     "exception": false,
     "start_time": "2022-01-13T14:16:22.385911",
     "status": "completed"
    },
    "tags": []
   },
   "outputs": [
    {
     "data": {
      "text/plain": [
       "array(['Braund, Mr. Owen Harris',\n",
       "       'Cumings, Mrs. John Bradley (Florence Briggs Thayer)',\n",
       "       'Heikkinen, Miss. Laina',\n",
       "       'Futrelle, Mrs. Jacques Heath (Lily May Peel)',\n",
       "       'Allen, Mr. William Henry', 'Moran, Mr. James',\n",
       "       'McCarthy, Mr. Timothy J', 'Palsson, Master. Gosta Leonard',\n",
       "       'Johnson, Mrs. Oscar W (Elisabeth Vilhelmina Berg)',\n",
       "       'Nasser, Mrs. Nicholas (Adele Achem)',\n",
       "       'Sandstrom, Miss. Marguerite Rut', 'Bonnell, Miss. Elizabeth',\n",
       "       'Saundercock, Mr. William Henry', 'Andersson, Mr. Anders Johan',\n",
       "       'Vestrom, Miss. Hulda Amanda Adolfina',\n",
       "       'Hewlett, Mrs. (Mary D Kingcome) ', 'Rice, Master. Eugene',\n",
       "       'Williams, Mr. Charles Eugene',\n",
       "       'Vander Planke, Mrs. Julius (Emelia Maria Vandemoortele)',\n",
       "       'Masselmani, Mrs. Fatima', 'Fynney, Mr. Joseph J',\n",
       "       'Beesley, Mr. Lawrence', 'McGowan, Miss. Anna \"Annie\"',\n",
       "       'Sloper, Mr. William Thompson', 'Palsson, Miss. Torborg Danira',\n",
       "       'Asplund, Mrs. Carl Oscar (Selma Augusta Emilia Johansson)',\n",
       "       'Emir, Mr. Farred Chehab', 'Fortune, Mr. Charles Alexander',\n",
       "       'O\\'Dwyer, Miss. Ellen \"Nellie\"', 'Todoroff, Mr. Lalio',\n",
       "       'Uruchurtu, Don. Manuel E',\n",
       "       'Spencer, Mrs. William Augustus (Marie Eugenie)',\n",
       "       'Glynn, Miss. Mary Agatha', 'Wheadon, Mr. Edward H',\n",
       "       'Meyer, Mr. Edgar Joseph', 'Holverson, Mr. Alexander Oskar',\n",
       "       'Mamee, Mr. Hanna', 'Cann, Mr. Ernest Charles',\n",
       "       'Vander Planke, Miss. Augusta Maria',\n",
       "       'Nicola-Yarred, Miss. Jamila',\n",
       "       'Ahlin, Mrs. Johan (Johanna Persdotter Larsson)',\n",
       "       'Turpin, Mrs. William John Robert (Dorothy Ann Wonnacott)',\n",
       "       'Kraeff, Mr. Theodor', 'Laroche, Miss. Simonne Marie Anne Andree',\n",
       "       'Devaney, Miss. Margaret Delia', 'Rogers, Mr. William John',\n",
       "       'Lennon, Mr. Denis', \"O'Driscoll, Miss. Bridget\",\n",
       "       'Samaan, Mr. Youssef',\n",
       "       'Arnold-Franchi, Mrs. Josef (Josefine Franchi)',\n",
       "       'Panula, Master. Juha Niilo', 'Nosworthy, Mr. Richard Cater',\n",
       "       'Harper, Mrs. Henry Sleeper (Myna Haxtun)',\n",
       "       'Faunthorpe, Mrs. Lizzie (Elizabeth Anne Wilkinson)',\n",
       "       'Ostby, Mr. Engelhart Cornelius', 'Woolner, Mr. Hugh',\n",
       "       'Rugg, Miss. Emily', 'Novel, Mr. Mansouer',\n",
       "       'West, Miss. Constance Mirium',\n",
       "       'Goodwin, Master. William Frederick', 'Sirayanian, Mr. Orsen',\n",
       "       'Icard, Miss. Amelie', 'Harris, Mr. Henry Birkhardt',\n",
       "       'Skoog, Master. Harald', 'Stewart, Mr. Albert A',\n",
       "       'Moubarek, Master. Gerios', 'Nye, Mrs. (Elizabeth Ramell)',\n",
       "       'Crease, Mr. Ernest James', 'Andersson, Miss. Erna Alexandra',\n",
       "       'Kink, Mr. Vincenz', 'Jenkin, Mr. Stephen Curnow',\n",
       "       'Goodwin, Miss. Lillian Amy', 'Hood, Mr. Ambrose Jr',\n",
       "       'Chronopoulos, Mr. Apostolos', 'Bing, Mr. Lee',\n",
       "       'Moen, Mr. Sigurd Hansen', 'Staneff, Mr. Ivan',\n",
       "       'Moutal, Mr. Rahamin Haim', 'Caldwell, Master. Alden Gates',\n",
       "       'Dowdell, Miss. Elizabeth', 'Waelens, Mr. Achille',\n",
       "       'Sheerlinck, Mr. Jan Baptist', 'McDermott, Miss. Brigdet Delia',\n",
       "       'Carrau, Mr. Francisco M', 'Ilett, Miss. Bertha',\n",
       "       'Backstrom, Mrs. Karl Alfred (Maria Mathilda Gustafsson)',\n",
       "       'Ford, Mr. William Neal', 'Slocovski, Mr. Selman Francis',\n",
       "       'Fortune, Miss. Mabel Helen', 'Celotti, Mr. Francesco',\n",
       "       'Christmann, Mr. Emil', 'Andreasson, Mr. Paul Edvin',\n",
       "       'Chaffee, Mr. Herbert Fuller', 'Dean, Mr. Bertram Frank',\n",
       "       'Coxon, Mr. Daniel', 'Shorney, Mr. Charles Joseph',\n",
       "       'Goldschmidt, Mr. George B', 'Greenfield, Mr. William Bertram',\n",
       "       'Doling, Mrs. John T (Ada Julia Bone)', 'Kantor, Mr. Sinai',\n",
       "       'Petranec, Miss. Matilda', 'Petroff, Mr. Pastcho (\"Pentcho\")',\n",
       "       'White, Mr. Richard Frasar', 'Johansson, Mr. Gustaf Joel',\n",
       "       'Gustafsson, Mr. Anders Vilhelm', 'Mionoff, Mr. Stoytcho',\n",
       "       'Salkjelsvik, Miss. Anna Kristine', 'Moss, Mr. Albert Johan',\n",
       "       'Rekic, Mr. Tido', 'Moran, Miss. Bertha',\n",
       "       'Porter, Mr. Walter Chamberlain', 'Zabour, Miss. Hileni',\n",
       "       'Barton, Mr. David John', 'Jussila, Miss. Katriina',\n",
       "       'Attalah, Miss. Malake', 'Pekoniemi, Mr. Edvard',\n",
       "       'Connors, Mr. Patrick', 'Turpin, Mr. William John Robert',\n",
       "       'Baxter, Mr. Quigg Edmond', 'Andersson, Miss. Ellis Anna Maria',\n",
       "       'Hickman, Mr. Stanley George', 'Moore, Mr. Leonard Charles',\n",
       "       'Nasser, Mr. Nicholas', 'Webber, Miss. Susan',\n",
       "       'White, Mr. Percival Wayland', 'Nicola-Yarred, Master. Elias',\n",
       "       'McMahon, Mr. Martin', 'Madsen, Mr. Fridtjof Arne',\n",
       "       'Peter, Miss. Anna', 'Ekstrom, Mr. Johan', 'Drazenoic, Mr. Jozef',\n",
       "       'Coelho, Mr. Domingos Fernandeo',\n",
       "       'Robins, Mrs. Alexander A (Grace Charity Laury)',\n",
       "       'Weisz, Mrs. Leopold (Mathilde Francoise Pede)',\n",
       "       'Sobey, Mr. Samuel James Hayden', 'Richard, Mr. Emile',\n",
       "       'Newsom, Miss. Helen Monypeny', 'Futrelle, Mr. Jacques Heath',\n",
       "       'Osen, Mr. Olaf Elon', 'Giglio, Mr. Victor',\n",
       "       'Boulos, Mrs. Joseph (Sultana)', 'Nysten, Miss. Anna Sofia',\n",
       "       'Hakkarainen, Mrs. Pekka Pietari (Elin Matilda Dolck)',\n",
       "       'Burke, Mr. Jeremiah', 'Andrew, Mr. Edgardo Samuel',\n",
       "       'Nicholls, Mr. Joseph Charles',\n",
       "       'Andersson, Mr. August Edvard (\"Wennerstrom\")',\n",
       "       'Ford, Miss. Robina Maggie \"Ruby\"',\n",
       "       'Navratil, Mr. Michel (\"Louis M Hoffman\")',\n",
       "       'Byles, Rev. Thomas Roussel Davids', 'Bateman, Rev. Robert James',\n",
       "       'Pears, Mrs. Thomas (Edith Wearne)', 'Meo, Mr. Alfonzo',\n",
       "       'van Billiard, Mr. Austin Blyler', 'Olsen, Mr. Ole Martin',\n",
       "       'Williams, Mr. Charles Duane', 'Gilnagh, Miss. Katherine \"Katie\"',\n",
       "       'Corn, Mr. Harry', 'Smiljanic, Mr. Mile',\n",
       "       'Sage, Master. Thomas Henry', 'Cribb, Mr. John Hatfield',\n",
       "       'Watt, Mrs. James (Elizabeth \"Bessie\" Inglis Milne)',\n",
       "       'Bengtsson, Mr. John Viktor', 'Calic, Mr. Jovo',\n",
       "       'Panula, Master. Eino Viljami',\n",
       "       'Goldsmith, Master. Frank John William \"Frankie\"',\n",
       "       'Chibnall, Mrs. (Edith Martha Bowerman)',\n",
       "       'Skoog, Mrs. William (Anna Bernhardina Karlsson)',\n",
       "       'Baumann, Mr. John D', 'Ling, Mr. Lee',\n",
       "       'Van der hoef, Mr. Wyckoff', 'Rice, Master. Arthur',\n",
       "       'Johnson, Miss. Eleanor Ileen', 'Sivola, Mr. Antti Wilhelm',\n",
       "       'Smith, Mr. James Clinch', 'Klasen, Mr. Klas Albin',\n",
       "       'Lefebre, Master. Henry Forbes', 'Isham, Miss. Ann Elizabeth',\n",
       "       'Hale, Mr. Reginald', 'Leonard, Mr. Lionel',\n",
       "       'Sage, Miss. Constance Gladys', 'Pernot, Mr. Rene',\n",
       "       'Asplund, Master. Clarence Gustaf Hugo',\n",
       "       'Becker, Master. Richard F', 'Kink-Heilmann, Miss. Luise Gretchen',\n",
       "       'Rood, Mr. Hugh Roscoe',\n",
       "       'O\\'Brien, Mrs. Thomas (Johanna \"Hannah\" Godfrey)',\n",
       "       'Romaine, Mr. Charles Hallace (\"Mr C Rolmane\")',\n",
       "       'Bourke, Mr. John', 'Turcin, Mr. Stjepan', 'Pinsky, Mrs. (Rosa)',\n",
       "       'Carbines, Mr. William',\n",
       "       'Andersen-Jensen, Miss. Carla Christine Nielsine',\n",
       "       'Navratil, Master. Michel M',\n",
       "       'Brown, Mrs. James Joseph (Margaret Tobin)',\n",
       "       'Lurette, Miss. Elise', 'Mernagh, Mr. Robert',\n",
       "       'Olsen, Mr. Karl Siegwart Andreas',\n",
       "       'Madigan, Miss. Margaret \"Maggie\"',\n",
       "       'Yrois, Miss. Henriette (\"Mrs Harbeck\")',\n",
       "       'Vande Walle, Mr. Nestor Cyriel', 'Sage, Mr. Frederick',\n",
       "       'Johanson, Mr. Jakob Alfred', 'Youseff, Mr. Gerious',\n",
       "       'Cohen, Mr. Gurshon \"Gus\"', 'Strom, Miss. Telma Matilda',\n",
       "       'Backstrom, Mr. Karl Alfred', 'Albimona, Mr. Nassef Cassem',\n",
       "       'Carr, Miss. Helen \"Ellen\"', 'Blank, Mr. Henry', 'Ali, Mr. Ahmed',\n",
       "       'Cameron, Miss. Clear Annie', 'Perkin, Mr. John Henry',\n",
       "       'Givard, Mr. Hans Kristensen', 'Kiernan, Mr. Philip',\n",
       "       'Newell, Miss. Madeleine', 'Honkanen, Miss. Eliina',\n",
       "       'Jacobsohn, Mr. Sidney Samuel', 'Bazzani, Miss. Albina',\n",
       "       'Harris, Mr. Walter', 'Sunderland, Mr. Victor Francis',\n",
       "       'Bracken, Mr. James H', 'Green, Mr. George Henry',\n",
       "       'Nenkoff, Mr. Christo', 'Hoyt, Mr. Frederick Maxfield',\n",
       "       'Berglund, Mr. Karl Ivar Sven', 'Mellors, Mr. William John',\n",
       "       'Lovell, Mr. John Hall (\"Henry\")', 'Fahlstrom, Mr. Arne Jonas',\n",
       "       'Lefebre, Miss. Mathilde',\n",
       "       'Harris, Mrs. Henry Birkhardt (Irene Wallach)',\n",
       "       'Larsson, Mr. Bengt Edvin', 'Sjostedt, Mr. Ernst Adolf',\n",
       "       'Asplund, Miss. Lillian Gertrud',\n",
       "       'Leyson, Mr. Robert William Norman',\n",
       "       'Harknett, Miss. Alice Phoebe', 'Hold, Mr. Stephen',\n",
       "       'Collyer, Miss. Marjorie \"Lottie\"',\n",
       "       'Pengelly, Mr. Frederick William', 'Hunt, Mr. George Henry',\n",
       "       'Zabour, Miss. Thamine', 'Murphy, Miss. Katherine \"Kate\"',\n",
       "       'Coleridge, Mr. Reginald Charles', 'Maenpaa, Mr. Matti Alexanteri',\n",
       "       'Attalah, Mr. Sleiman', 'Minahan, Dr. William Edward',\n",
       "       'Lindahl, Miss. Agda Thorilda Viktoria',\n",
       "       'Hamalainen, Mrs. William (Anna)', 'Beckwith, Mr. Richard Leonard',\n",
       "       'Carter, Rev. Ernest Courtenay', 'Reed, Mr. James George',\n",
       "       'Strom, Mrs. Wilhelm (Elna Matilda Persson)',\n",
       "       'Stead, Mr. William Thomas', 'Lobb, Mr. William Arthur',\n",
       "       'Rosblom, Mrs. Viktor (Helena Wilhelmina)',\n",
       "       'Touma, Mrs. Darwis (Hanne Youssef Razi)',\n",
       "       'Thorne, Mrs. Gertrude Maybelle', 'Cherry, Miss. Gladys',\n",
       "       'Ward, Miss. Anna', 'Parrish, Mrs. (Lutie Davis)',\n",
       "       'Smith, Mr. Thomas', 'Asplund, Master. Edvin Rojj Felix',\n",
       "       'Taussig, Mr. Emil', 'Harrison, Mr. William', 'Henry, Miss. Delia',\n",
       "       'Reeves, Mr. David', 'Panula, Mr. Ernesti Arvid',\n",
       "       'Persson, Mr. Ernst Ulrik',\n",
       "       'Graham, Mrs. William Thompson (Edith Junkins)',\n",
       "       'Bissette, Miss. Amelia', 'Cairns, Mr. Alexander',\n",
       "       'Tornquist, Mr. William Henry',\n",
       "       'Mellinger, Mrs. (Elizabeth Anne Maidment)',\n",
       "       'Natsch, Mr. Charles H', 'Healy, Miss. Hanora \"Nora\"',\n",
       "       'Andrews, Miss. Kornelia Theodosia',\n",
       "       'Lindblom, Miss. Augusta Charlotta', 'Parkes, Mr. Francis \"Frank\"',\n",
       "       'Rice, Master. Eric', 'Abbott, Mrs. Stanton (Rosa Hunt)',\n",
       "       'Duane, Mr. Frank', 'Olsson, Mr. Nils Johan Goransson',\n",
       "       'de Pelsmaeker, Mr. Alfons', 'Dorking, Mr. Edward Arthur',\n",
       "       'Smith, Mr. Richard William', 'Stankovic, Mr. Ivan',\n",
       "       'de Mulder, Mr. Theodore', 'Naidenoff, Mr. Penko',\n",
       "       'Hosono, Mr. Masabumi', 'Connolly, Miss. Kate',\n",
       "       'Barber, Miss. Ellen \"Nellie\"',\n",
       "       'Bishop, Mrs. Dickinson H (Helen Walton)',\n",
       "       'Levy, Mr. Rene Jacques', 'Haas, Miss. Aloisia',\n",
       "       'Mineff, Mr. Ivan', 'Lewy, Mr. Ervin G', 'Hanna, Mr. Mansour',\n",
       "       'Allison, Miss. Helen Loraine', 'Saalfeld, Mr. Adolphe',\n",
       "       'Baxter, Mrs. James (Helene DeLaudeniere Chaput)',\n",
       "       'Kelly, Miss. Anna Katherine \"Annie Kate\"', 'McCoy, Mr. Bernard',\n",
       "       'Johnson, Mr. William Cahoone Jr', 'Keane, Miss. Nora A',\n",
       "       'Williams, Mr. Howard Hugh \"Harry\"',\n",
       "       'Allison, Master. Hudson Trevor', 'Fleming, Miss. Margaret',\n",
       "       'Penasco y Castellana, Mrs. Victor de Satode (Maria Josefa Perez de Soto y Vallejo)',\n",
       "       'Abelson, Mr. Samuel', 'Francatelli, Miss. Laura Mabel',\n",
       "       'Hays, Miss. Margaret Bechstein', 'Ryerson, Miss. Emily Borie',\n",
       "       'Lahtinen, Mrs. William (Anna Sylfven)', 'Hendekovic, Mr. Ignjac',\n",
       "       'Hart, Mr. Benjamin', 'Nilsson, Miss. Helmina Josefina',\n",
       "       'Kantor, Mrs. Sinai (Miriam Sternin)', 'Moraweck, Dr. Ernest',\n",
       "       'Wick, Miss. Mary Natalie',\n",
       "       'Spedden, Mrs. Frederic Oakley (Margaretta Corning Stone)',\n",
       "       'Dennis, Mr. Samuel', 'Danoff, Mr. Yoto',\n",
       "       'Slayter, Miss. Hilda Mary',\n",
       "       'Caldwell, Mrs. Albert Francis (Sylvia Mae Harbaugh)',\n",
       "       'Sage, Mr. George John Jr', 'Young, Miss. Marie Grice',\n",
       "       'Nysveen, Mr. Johan Hansen', 'Ball, Mrs. (Ada E Hall)',\n",
       "       'Goldsmith, Mrs. Frank John (Emily Alice Brown)',\n",
       "       'Hippach, Miss. Jean Gertrude', 'McCoy, Miss. Agnes',\n",
       "       'Partner, Mr. Austen', 'Graham, Mr. George Edward',\n",
       "       'Vander Planke, Mr. Leo Edmondus',\n",
       "       'Frauenthal, Mrs. Henry William (Clara Heinsheimer)',\n",
       "       'Denkoff, Mr. Mitto', 'Pears, Mr. Thomas Clinton',\n",
       "       'Burns, Miss. Elizabeth Margaret', 'Dahl, Mr. Karl Edwart',\n",
       "       'Blackwell, Mr. Stephen Weart', 'Navratil, Master. Edmond Roger',\n",
       "       'Fortune, Miss. Alice Elizabeth', 'Collander, Mr. Erik Gustaf',\n",
       "       'Sedgwick, Mr. Charles Frederick Waddington',\n",
       "       'Fox, Mr. Stanley Hubert', 'Brown, Miss. Amelia \"Mildred\"',\n",
       "       'Smith, Miss. Marion Elsie',\n",
       "       'Davison, Mrs. Thomas Henry (Mary E Finck)',\n",
       "       'Coutts, Master. William Loch \"William\"', 'Dimic, Mr. Jovan',\n",
       "       'Odahl, Mr. Nils Martin', 'Williams-Lambert, Mr. Fletcher Fellows',\n",
       "       'Elias, Mr. Tannous', 'Arnold-Franchi, Mr. Josef',\n",
       "       'Yousif, Mr. Wazli', 'Vanden Steen, Mr. Leo Peter',\n",
       "       'Bowerman, Miss. Elsie Edith', 'Funk, Miss. Annie Clemmer',\n",
       "       'McGovern, Miss. Mary', 'Mockler, Miss. Helen Mary \"Ellie\"',\n",
       "       'Skoog, Mr. Wilhelm', 'del Carlo, Mr. Sebastiano',\n",
       "       'Barbara, Mrs. (Catherine David)', 'Asim, Mr. Adola',\n",
       "       \"O'Brien, Mr. Thomas\", 'Adahl, Mr. Mauritz Nils Martin',\n",
       "       'Warren, Mrs. Frank Manley (Anna Sophia Atkinson)',\n",
       "       'Moussa, Mrs. (Mantoura Boulos)', 'Jermyn, Miss. Annie',\n",
       "       'Aubart, Mme. Leontine Pauline', 'Harder, Mr. George Achilles',\n",
       "       'Wiklund, Mr. Jakob Alfred', 'Beavan, Mr. William Thomas',\n",
       "       'Ringhini, Mr. Sante', 'Palsson, Miss. Stina Viola',\n",
       "       'Meyer, Mrs. Edgar Joseph (Leila Saks)',\n",
       "       'Landergren, Miss. Aurora Adelia', 'Widener, Mr. Harry Elkins',\n",
       "       'Betros, Mr. Tannous', 'Gustafsson, Mr. Karl Gideon',\n",
       "       'Bidois, Miss. Rosalie', 'Nakid, Miss. Maria (\"Mary\")',\n",
       "       'Tikkanen, Mr. Juho',\n",
       "       'Holverson, Mrs. Alexander Oskar (Mary Aline Towner)',\n",
       "       'Plotcharsky, Mr. Vasil', 'Davies, Mr. Charles Henry',\n",
       "       'Goodwin, Master. Sidney Leonard', 'Buss, Miss. Kate',\n",
       "       'Sadlier, Mr. Matthew', 'Lehmann, Miss. Bertha',\n",
       "       'Carter, Mr. William Ernest', 'Jansson, Mr. Carl Olof',\n",
       "       'Gustafsson, Mr. Johan Birger', 'Newell, Miss. Marjorie',\n",
       "       'Sandstrom, Mrs. Hjalmar (Agnes Charlotta Bengtsson)',\n",
       "       'Johansson, Mr. Erik', 'Olsson, Miss. Elina',\n",
       "       'McKane, Mr. Peter David', 'Pain, Dr. Alfred',\n",
       "       'Trout, Mrs. William H (Jessie L)', 'Niskanen, Mr. Juha',\n",
       "       'Adams, Mr. John', 'Jussila, Miss. Mari Aina',\n",
       "       'Hakkarainen, Mr. Pekka Pietari', 'Oreskovic, Miss. Marija',\n",
       "       'Gale, Mr. Shadrach', 'Widegren, Mr. Carl/Charles Peter',\n",
       "       'Richards, Master. William Rowe',\n",
       "       'Birkeland, Mr. Hans Martin Monsen', 'Lefebre, Miss. Ida',\n",
       "       'Sdycoff, Mr. Todor', 'Hart, Mr. Henry', 'Minahan, Miss. Daisy E',\n",
       "       'Cunningham, Mr. Alfred Fleming', 'Sundman, Mr. Johan Julian',\n",
       "       'Meek, Mrs. Thomas (Annie Louise Rowley)',\n",
       "       'Drew, Mrs. James Vivian (Lulu Thorne Christian)',\n",
       "       'Silven, Miss. Lyyli Karoliina', 'Matthews, Mr. William John',\n",
       "       'Van Impe, Miss. Catharina', 'Gheorgheff, Mr. Stanio',\n",
       "       'Charters, Mr. David', 'Zimmerman, Mr. Leo',\n",
       "       'Danbom, Mrs. Ernst Gilbert (Anna Sigrid Maria Brogren)',\n",
       "       'Rosblom, Mr. Viktor Richard', 'Wiseman, Mr. Phillippe',\n",
       "       'Clarke, Mrs. Charles V (Ada Maria Winfield)',\n",
       "       'Phillips, Miss. Kate Florence (\"Mrs Kate Louise Phillips Marshall\")',\n",
       "       'Flynn, Mr. James', 'Pickard, Mr. Berk (Berk Trembisky)',\n",
       "       'Bjornstrom-Steffansson, Mr. Mauritz Hakan',\n",
       "       'Thorneycroft, Mrs. Percival (Florence Kate White)',\n",
       "       'Louch, Mrs. Charles Alexander (Alice Adelaide Slow)',\n",
       "       'Kallio, Mr. Nikolai Erland', 'Silvey, Mr. William Baird',\n",
       "       'Carter, Miss. Lucile Polk',\n",
       "       'Ford, Miss. Doolina Margaret \"Daisy\"',\n",
       "       'Richards, Mrs. Sidney (Emily Hocking)', 'Fortune, Mr. Mark',\n",
       "       'Kvillner, Mr. Johan Henrik Johannesson',\n",
       "       'Hart, Mrs. Benjamin (Esther Ada Bloomfield)', 'Hampe, Mr. Leon',\n",
       "       'Petterson, Mr. Johan Emil', 'Reynaldo, Ms. Encarnacion',\n",
       "       'Johannesen-Bratthammer, Mr. Bernt', 'Dodge, Master. Washington',\n",
       "       'Mellinger, Miss. Madeleine Violet', 'Seward, Mr. Frederic Kimber',\n",
       "       'Baclini, Miss. Marie Catherine', 'Peuchen, Major. Arthur Godfrey',\n",
       "       'West, Mr. Edwy Arthur', 'Hagland, Mr. Ingvald Olai Olsen',\n",
       "       'Foreman, Mr. Benjamin Laventall', 'Goldenberg, Mr. Samuel L',\n",
       "       'Peduzzi, Mr. Joseph', 'Jalsevac, Mr. Ivan',\n",
       "       'Millet, Mr. Francis Davis', 'Kenyon, Mrs. Frederick R (Marion)',\n",
       "       'Toomey, Miss. Ellen', \"O'Connor, Mr. Maurice\",\n",
       "       'Anderson, Mr. Harry', 'Morley, Mr. William', 'Gee, Mr. Arthur H',\n",
       "       'Milling, Mr. Jacob Christian', 'Maisner, Mr. Simon',\n",
       "       'Goncalves, Mr. Manuel Estanslas', 'Campbell, Mr. William',\n",
       "       'Smart, Mr. John Montgomery', 'Scanlan, Mr. James',\n",
       "       'Baclini, Miss. Helene Barbara', 'Keefe, Mr. Arthur',\n",
       "       'Cacic, Mr. Luka', 'West, Mrs. Edwy Arthur (Ada Mary Worth)',\n",
       "       'Jerwan, Mrs. Amin S (Marie Marthe Thuillard)',\n",
       "       'Strandberg, Miss. Ida Sofia', 'Clifford, Mr. George Quincy',\n",
       "       'Renouf, Mr. Peter Henry', 'Braund, Mr. Lewis Richard',\n",
       "       'Karlsson, Mr. Nils August', 'Hirvonen, Miss. Hildur E',\n",
       "       'Goodwin, Master. Harold Victor',\n",
       "       'Frost, Mr. Anthony Wood \"Archie\"', 'Rouse, Mr. Richard Henry',\n",
       "       'Turkula, Mrs. (Hedwig)', 'Bishop, Mr. Dickinson H',\n",
       "       'Lefebre, Miss. Jeannie',\n",
       "       'Hoyt, Mrs. Frederick Maxfield (Jane Anne Forby)',\n",
       "       'Kent, Mr. Edward Austin', 'Somerton, Mr. Francis William',\n",
       "       'Coutts, Master. Eden Leslie \"Neville\"',\n",
       "       'Hagland, Mr. Konrad Mathias Reiersen', 'Windelov, Mr. Einar',\n",
       "       'Molson, Mr. Harry Markland', 'Artagaveytia, Mr. Ramon',\n",
       "       'Stanley, Mr. Edward Roland', 'Yousseff, Mr. Gerious',\n",
       "       'Eustis, Miss. Elizabeth Mussey',\n",
       "       'Shellard, Mr. Frederick William',\n",
       "       'Allison, Mrs. Hudson J C (Bessie Waldo Daniels)',\n",
       "       'Svensson, Mr. Olof', 'Calic, Mr. Petar', 'Canavan, Miss. Mary',\n",
       "       \"O'Sullivan, Miss. Bridget Mary\", 'Laitinen, Miss. Kristina Sofia',\n",
       "       'Maioni, Miss. Roberta',\n",
       "       'Penasco y Castellana, Mr. Victor de Satode',\n",
       "       'Quick, Mrs. Frederick Charles (Jane Richards)',\n",
       "       'Bradley, Mr. George (\"George Arthur Brayton\")',\n",
       "       'Olsen, Mr. Henry Margido', 'Lang, Mr. Fang',\n",
       "       'Daly, Mr. Eugene Patrick', 'Webber, Mr. James',\n",
       "       'McGough, Mr. James Robert',\n",
       "       'Rothschild, Mrs. Martin (Elizabeth L. Barrett)',\n",
       "       'Coleff, Mr. Satio', 'Walker, Mr. William Anderson',\n",
       "       'Lemore, Mrs. (Amelia Milley)', 'Ryan, Mr. Patrick',\n",
       "       'Angle, Mrs. William A (Florence \"Mary\" Agnes Hughes)',\n",
       "       'Pavlovic, Mr. Stefo', 'Perreault, Miss. Anne', 'Vovk, Mr. Janko',\n",
       "       'Lahoud, Mr. Sarkis',\n",
       "       'Hippach, Mrs. Louis Albert (Ida Sophia Fischer)',\n",
       "       'Kassem, Mr. Fared', 'Farrell, Mr. James', 'Ridsdale, Miss. Lucy',\n",
       "       'Farthing, Mr. John', 'Salonen, Mr. Johan Werner',\n",
       "       'Hocking, Mr. Richard George', 'Quick, Miss. Phyllis May',\n",
       "       'Toufik, Mr. Nakli', 'Elias, Mr. Joseph Jr',\n",
       "       'Peter, Mrs. Catherine (Catherine Rizk)', 'Cacic, Miss. Marija',\n",
       "       'Hart, Miss. Eva Miriam', 'Butt, Major. Archibald Willingham',\n",
       "       'LeRoy, Miss. Bertha', 'Risien, Mr. Samuel Beard',\n",
       "       'Frolicher, Miss. Hedwig Margaritha', 'Crosby, Miss. Harriet R',\n",
       "       'Andersson, Miss. Ingeborg Constanzia',\n",
       "       'Andersson, Miss. Sigrid Elisabeth', 'Beane, Mr. Edward',\n",
       "       'Douglas, Mr. Walter Donald', 'Nicholson, Mr. Arthur Ernest',\n",
       "       'Beane, Mrs. Edward (Ethel Clarke)', 'Padro y Manent, Mr. Julian',\n",
       "       'Goldsmith, Mr. Frank John', 'Davies, Master. John Morgan Jr',\n",
       "       'Thayer, Mr. John Borland Jr', 'Sharp, Mr. Percival James R',\n",
       "       \"O'Brien, Mr. Timothy\", 'Leeni, Mr. Fahim (\"Philip Zenni\")',\n",
       "       'Ohman, Miss. Velin', 'Wright, Mr. George',\n",
       "       'Duff Gordon, Lady. (Lucille Christiana Sutherland) (\"Mrs Morgan\")',\n",
       "       'Robbins, Mr. Victor', 'Taussig, Mrs. Emil (Tillie Mandelbaum)',\n",
       "       'de Messemaeker, Mrs. Guillaume Joseph (Emma)',\n",
       "       'Morrow, Mr. Thomas Rowan', 'Sivic, Mr. Husein',\n",
       "       'Norman, Mr. Robert Douglas', 'Simmons, Mr. John',\n",
       "       'Meanwell, Miss. (Marion Ogden)', 'Davies, Mr. Alfred J',\n",
       "       'Stoytcheff, Mr. Ilia',\n",
       "       'Palsson, Mrs. Nils (Alma Cornelia Berglund)',\n",
       "       'Doharr, Mr. Tannous', 'Jonsson, Mr. Carl', 'Harris, Mr. George',\n",
       "       'Appleton, Mrs. Edward Dale (Charlotte Lamson)',\n",
       "       'Flynn, Mr. John Irwin (\"Irving\")', 'Kelly, Miss. Mary',\n",
       "       'Rush, Mr. Alfred George John', 'Patchett, Mr. George',\n",
       "       'Garside, Miss. Ethel',\n",
       "       'Silvey, Mrs. William Baird (Alice Munger)',\n",
       "       'Caram, Mrs. Joseph (Maria Elias)', 'Jussila, Mr. Eiriik',\n",
       "       'Christy, Miss. Julie Rachel',\n",
       "       'Thayer, Mrs. John Borland (Marian Longstreth Morris)',\n",
       "       'Downton, Mr. William James', 'Ross, Mr. John Hugo',\n",
       "       'Paulner, Mr. Uscher', 'Taussig, Miss. Ruth',\n",
       "       'Jarvis, Mr. John Denzil', 'Frolicher-Stehli, Mr. Maxmillian',\n",
       "       'Gilinski, Mr. Eliezer', 'Murdlin, Mr. Joseph',\n",
       "       'Rintamaki, Mr. Matti',\n",
       "       'Stephenson, Mrs. Walter Bertram (Martha Eustis)',\n",
       "       'Elsbury, Mr. William James', 'Bourke, Miss. Mary',\n",
       "       'Chapman, Mr. John Henry', 'Van Impe, Mr. Jean Baptiste',\n",
       "       'Leitch, Miss. Jessie Wills', 'Johnson, Mr. Alfred',\n",
       "       'Boulos, Mr. Hanna',\n",
       "       'Duff Gordon, Sir. Cosmo Edmund (\"Mr Morgan\")',\n",
       "       'Jacobsohn, Mrs. Sidney Samuel (Amy Frances Christy)',\n",
       "       'Slabenoff, Mr. Petco', 'Harrington, Mr. Charles H',\n",
       "       'Torber, Mr. Ernst William', 'Homer, Mr. Harry (\"Mr E Haven\")',\n",
       "       'Lindell, Mr. Edvard Bengtsson', 'Karaic, Mr. Milan',\n",
       "       'Daniel, Mr. Robert Williams',\n",
       "       'Laroche, Mrs. Joseph (Juliette Marie Louise Lafargue)',\n",
       "       'Shutes, Miss. Elizabeth W',\n",
       "       'Andersson, Mrs. Anders Johan (Alfrida Konstantia Brogren)',\n",
       "       'Jardin, Mr. Jose Neto', 'Murphy, Miss. Margaret Jane',\n",
       "       'Horgan, Mr. John', 'Brocklebank, Mr. William Alfred',\n",
       "       'Herman, Miss. Alice', 'Danbom, Mr. Ernst Gilbert',\n",
       "       'Lobb, Mrs. William Arthur (Cordelia K Stanlick)',\n",
       "       'Becker, Miss. Marion Louise', 'Gavey, Mr. Lawrence',\n",
       "       'Yasbeck, Mr. Antoni', 'Kimball, Mr. Edwin Nelson Jr',\n",
       "       'Nakid, Mr. Sahid', 'Hansen, Mr. Henry Damsgaard',\n",
       "       'Bowen, Mr. David John \"Dai\"', 'Sutton, Mr. Frederick',\n",
       "       'Kirkland, Rev. Charles Leonard', 'Longley, Miss. Gretchen Fiske',\n",
       "       'Bostandyeff, Mr. Guentcho', \"O'Connell, Mr. Patrick D\",\n",
       "       'Barkworth, Mr. Algernon Henry Wilson',\n",
       "       'Lundahl, Mr. Johan Svensson', 'Stahelin-Maeglin, Dr. Max',\n",
       "       'Parr, Mr. William Henry Marsh', 'Skoog, Miss. Mabel',\n",
       "       'Davis, Miss. Mary', 'Leinonen, Mr. Antti Gustaf',\n",
       "       'Collyer, Mr. Harvey', 'Panula, Mrs. Juha (Maria Emilia Ojala)',\n",
       "       'Thorneycroft, Mr. Percival', 'Jensen, Mr. Hans Peder',\n",
       "       'Sagesser, Mlle. Emma', 'Skoog, Miss. Margit Elizabeth',\n",
       "       'Foo, Mr. Choong', 'Baclini, Miss. Eugenie',\n",
       "       'Harper, Mr. Henry Sleeper', 'Cor, Mr. Liudevit',\n",
       "       'Simonius-Blumer, Col. Oberst Alfons', 'Willey, Mr. Edward',\n",
       "       'Stanley, Miss. Amy Zillah Elsie', 'Mitkoff, Mr. Mito',\n",
       "       'Doling, Miss. Elsie', 'Kalvik, Mr. Johannes Halvorsen',\n",
       "       'O\\'Leary, Miss. Hanora \"Norah\"', 'Hegarty, Miss. Hanora \"Nora\"',\n",
       "       'Hickman, Mr. Leonard Mark', 'Radeff, Mr. Alexander',\n",
       "       'Bourke, Mrs. John (Catherine)', 'Eitemiller, Mr. George Floyd',\n",
       "       'Newell, Mr. Arthur Webster', 'Frauenthal, Dr. Henry William',\n",
       "       'Badt, Mr. Mohamed', 'Colley, Mr. Edward Pomeroy',\n",
       "       'Coleff, Mr. Peju', 'Lindqvist, Mr. Eino William',\n",
       "       'Hickman, Mr. Lewis', 'Butler, Mr. Reginald Fenton',\n",
       "       'Rommetvedt, Mr. Knud Paust', 'Cook, Mr. Jacob',\n",
       "       'Taylor, Mrs. Elmer Zebley (Juliet Cummins Wright)',\n",
       "       'Brown, Mrs. Thomas William Solomon (Elizabeth Catherine Ford)',\n",
       "       'Davidson, Mr. Thornton', 'Mitchell, Mr. Henry Michael',\n",
       "       'Wilhelms, Mr. Charles', 'Watson, Mr. Ennis Hastings',\n",
       "       'Edvardsson, Mr. Gustaf Hjalmar', 'Sawyer, Mr. Frederick Charles',\n",
       "       'Turja, Miss. Anna Sofia',\n",
       "       'Goodwin, Mrs. Frederick (Augusta Tyler)',\n",
       "       'Cardeza, Mr. Thomas Drake Martinez', 'Peters, Miss. Katie',\n",
       "       'Hassab, Mr. Hammad', 'Olsvigen, Mr. Thor Anderson',\n",
       "       'Goodwin, Mr. Charles Edward', 'Brown, Mr. Thomas William Solomon',\n",
       "       'Laroche, Mr. Joseph Philippe Lemercier',\n",
       "       'Panula, Mr. Jaako Arnold', 'Dakic, Mr. Branko',\n",
       "       'Fischer, Mr. Eberhard Thelander',\n",
       "       'Madill, Miss. Georgette Alexandra', 'Dick, Mr. Albert Adrian',\n",
       "       'Karun, Miss. Manca', 'Lam, Mr. Ali', 'Saad, Mr. Khalil',\n",
       "       'Weir, Col. John', 'Chapman, Mr. Charles Henry',\n",
       "       'Kelly, Mr. James', 'Mullens, Miss. Katherine \"Katie\"',\n",
       "       'Thayer, Mr. John Borland',\n",
       "       'Humblen, Mr. Adolf Mathias Nicolai Olsen',\n",
       "       'Astor, Mrs. John Jacob (Madeleine Talmadge Force)',\n",
       "       'Silverthorne, Mr. Spencer Victor', 'Barbara, Miss. Saiide',\n",
       "       'Gallagher, Mr. Martin', 'Hansen, Mr. Henrik Juul',\n",
       "       'Morley, Mr. Henry Samuel (\"Mr Henry Marshall\")',\n",
       "       'Kelly, Mrs. Florence \"Fannie\"',\n",
       "       'Calderhead, Mr. Edward Pennington', 'Cleaver, Miss. Alice',\n",
       "       'Moubarek, Master. Halim Gonios (\"William George\")',\n",
       "       'Mayne, Mlle. Berthe Antonine (\"Mrs de Villiers\")',\n",
       "       'Klaber, Mr. Herman', 'Taylor, Mr. Elmer Zebley',\n",
       "       'Larsson, Mr. August Viktor', 'Greenberg, Mr. Samuel',\n",
       "       'Soholt, Mr. Peter Andreas Lauritz Andersen',\n",
       "       'Endres, Miss. Caroline Louise',\n",
       "       'Troutt, Miss. Edwina Celia \"Winnie\"', 'McEvoy, Mr. Michael',\n",
       "       'Johnson, Mr. Malkolm Joackim',\n",
       "       'Harper, Miss. Annie Jessie \"Nina\"', 'Jensen, Mr. Svend Lauritz',\n",
       "       'Gillespie, Mr. William Henry', 'Hodges, Mr. Henry Price',\n",
       "       'Chambers, Mr. Norman Campbell', 'Oreskovic, Mr. Luka',\n",
       "       'Renouf, Mrs. Peter Henry (Lillian Jefferys)',\n",
       "       'Mannion, Miss. Margareth', 'Bryhl, Mr. Kurt Arnold Gottfrid',\n",
       "       'Ilmakangas, Miss. Pieta Sofia', 'Allen, Miss. Elisabeth Walton',\n",
       "       'Hassan, Mr. Houssein G N', 'Knight, Mr. Robert J',\n",
       "       'Berriman, Mr. William John', 'Troupiansky, Mr. Moses Aaron',\n",
       "       'Williams, Mr. Leslie', 'Ford, Mrs. Edward (Margaret Ann Watson)',\n",
       "       'Lesurer, Mr. Gustave J', 'Ivanoff, Mr. Kanio',\n",
       "       'Nankoff, Mr. Minko', 'Hawksford, Mr. Walter James',\n",
       "       'Cavendish, Mr. Tyrell William',\n",
       "       'Ryerson, Miss. Susan Parker \"Suzette\"', 'McNamee, Mr. Neal',\n",
       "       'Stranden, Mr. Juho', 'Crosby, Capt. Edward Gifford',\n",
       "       'Abbott, Mr. Rossmore Edward', 'Sinkkonen, Miss. Anna',\n",
       "       'Marvin, Mr. Daniel Warner', 'Connaghton, Mr. Michael',\n",
       "       'Wells, Miss. Joan', 'Moor, Master. Meier',\n",
       "       'Vande Velde, Mr. Johannes Joseph', 'Jonkoff, Mr. Lalio',\n",
       "       'Herman, Mrs. Samuel (Jane Laver)', 'Hamalainen, Master. Viljo',\n",
       "       'Carlsson, Mr. August Sigfrid', 'Bailey, Mr. Percy Andrew',\n",
       "       'Theobald, Mr. Thomas Leonard',\n",
       "       'Rothes, the Countess. of (Lucy Noel Martha Dyer-Edwards)',\n",
       "       'Garfirth, Mr. John', 'Nirva, Mr. Iisakki Antino Aijo',\n",
       "       'Barah, Mr. Hanna Assi',\n",
       "       'Carter, Mrs. William Ernest (Lucile Polk)',\n",
       "       'Eklund, Mr. Hans Linus', 'Hogeboom, Mrs. John C (Anna Andrews)',\n",
       "       'Brewe, Dr. Arthur Jackson', 'Mangan, Miss. Mary',\n",
       "       'Moran, Mr. Daniel J', 'Gronnestad, Mr. Daniel Danielsen',\n",
       "       'Lievens, Mr. Rene Aime', 'Jensen, Mr. Niels Peder',\n",
       "       'Mack, Mrs. (Mary)', 'Elias, Mr. Dibo',\n",
       "       'Hocking, Mrs. Elizabeth (Eliza Needs)',\n",
       "       'Myhrman, Mr. Pehr Fabian Oliver Malkolm', 'Tobin, Mr. Roger',\n",
       "       'Emanuel, Miss. Virginia Ethel', 'Kilgannon, Mr. Thomas J',\n",
       "       'Robert, Mrs. Edward Scott (Elisabeth Walton McMillan)',\n",
       "       'Ayoub, Miss. Banoura',\n",
       "       'Dick, Mrs. Albert Adrian (Vera Gillespie)',\n",
       "       'Long, Mr. Milton Clyde', 'Johnston, Mr. Andrew G',\n",
       "       'Ali, Mr. William', 'Harmer, Mr. Abraham (David Lishin)',\n",
       "       'Sjoblom, Miss. Anna Sofia', 'Rice, Master. George Hugh',\n",
       "       'Dean, Master. Bertram Vere', 'Guggenheim, Mr. Benjamin',\n",
       "       'Keane, Mr. Andrew \"Andy\"', 'Gaskell, Mr. Alfred',\n",
       "       'Sage, Miss. Stella Anna', 'Hoyt, Mr. William Fisher',\n",
       "       'Dantcheff, Mr. Ristiu', 'Otter, Mr. Richard',\n",
       "       'Leader, Dr. Alice (Farnham)', 'Osman, Mrs. Mara',\n",
       "       'Ibrahim Shawah, Mr. Yousseff',\n",
       "       'Van Impe, Mrs. Jean Baptiste (Rosalie Paula Govaert)',\n",
       "       'Ponesell, Mr. Martin',\n",
       "       'Collyer, Mrs. Harvey (Charlotte Annie Tate)',\n",
       "       'Carter, Master. William Thornton II',\n",
       "       'Thomas, Master. Assad Alexander', 'Hedman, Mr. Oskar Arvid',\n",
       "       'Johansson, Mr. Karl Johan', 'Andrews, Mr. Thomas Jr',\n",
       "       'Pettersson, Miss. Ellen Natalia', 'Meyer, Mr. August',\n",
       "       'Chambers, Mrs. Norman Campbell (Bertha Griggs)',\n",
       "       'Alexander, Mr. William', 'Lester, Mr. James',\n",
       "       'Slemen, Mr. Richard James', 'Andersson, Miss. Ebba Iris Alfrida',\n",
       "       'Tomlin, Mr. Ernest Portage', 'Fry, Mr. Richard',\n",
       "       'Heininen, Miss. Wendla Maria', 'Mallet, Mr. Albert',\n",
       "       'Holm, Mr. John Fredrik Alexander', 'Skoog, Master. Karl Thorsten',\n",
       "       'Hays, Mrs. Charles Melville (Clara Jennings Gregg)',\n",
       "       'Lulic, Mr. Nikola', 'Reuchlin, Jonkheer. John George',\n",
       "       'Moor, Mrs. (Beila)', 'Panula, Master. Urho Abraham',\n",
       "       'Flynn, Mr. John', 'Lam, Mr. Len', 'Mallet, Master. Andre',\n",
       "       'McCormack, Mr. Thomas Joseph',\n",
       "       'Stone, Mrs. George Nelson (Martha Evelyn)',\n",
       "       'Yasbeck, Mrs. Antoni (Selini Alexander)',\n",
       "       'Richards, Master. George Sibley', 'Saad, Mr. Amin',\n",
       "       'Augustsson, Mr. Albert', 'Allum, Mr. Owen George',\n",
       "       'Compton, Miss. Sara Rebecca', 'Pasic, Mr. Jakob',\n",
       "       'Sirota, Mr. Maurice', 'Chip, Mr. Chang', 'Marechal, Mr. Pierre',\n",
       "       'Alhomaki, Mr. Ilmari Rudolf', 'Mudd, Mr. Thomas Charles',\n",
       "       'Serepeca, Miss. Augusta', 'Lemberopolous, Mr. Peter L',\n",
       "       'Culumovic, Mr. Jeso', 'Abbing, Mr. Anthony',\n",
       "       'Sage, Mr. Douglas Bullen', 'Markoff, Mr. Marin',\n",
       "       'Harper, Rev. John',\n",
       "       'Goldenberg, Mrs. Samuel L (Edwiga Grabowska)',\n",
       "       'Andersson, Master. Sigvard Harald Elias', 'Svensson, Mr. Johan',\n",
       "       'Boulos, Miss. Nourelain', 'Lines, Miss. Mary Conover',\n",
       "       'Carter, Mrs. Ernest Courtenay (Lilian Hughes)',\n",
       "       'Aks, Mrs. Sam (Leah Rosen)',\n",
       "       'Wick, Mrs. George Dennick (Mary Hitchcock)',\n",
       "       'Daly, Mr. Peter Denis ', 'Baclini, Mrs. Solomon (Latifa Qurban)',\n",
       "       'Razi, Mr. Raihed', 'Hansen, Mr. Claus Peter',\n",
       "       'Giles, Mr. Frederick Edward',\n",
       "       'Swift, Mrs. Frederick Joel (Margaret Welles Barron)',\n",
       "       'Sage, Miss. Dorothy Edith \"Dolly\"', 'Gill, Mr. John William',\n",
       "       'Bystrom, Mrs. (Karolina)', 'Duran y More, Miss. Asuncion',\n",
       "       'Roebling, Mr. Washington Augustus II',\n",
       "       'van Melkebeke, Mr. Philemon', 'Johnson, Master. Harold Theodor',\n",
       "       'Balkic, Mr. Cerin',\n",
       "       'Beckwith, Mrs. Richard Leonard (Sallie Monypeny)',\n",
       "       'Carlsson, Mr. Frans Olof', 'Vander Cruyssen, Mr. Victor',\n",
       "       'Abelson, Mrs. Samuel (Hannah Wizosky)',\n",
       "       'Najib, Miss. Adele Kiamie \"Jane\"',\n",
       "       'Gustafsson, Mr. Alfred Ossian', 'Petroff, Mr. Nedelio',\n",
       "       'Laleff, Mr. Kristo',\n",
       "       'Potter, Mrs. Thomas Jr (Lily Alexenia Wilson)',\n",
       "       'Shelley, Mrs. William (Imanita Parrish Hall)',\n",
       "       'Markun, Mr. Johann', 'Dahlberg, Miss. Gerda Ulrika',\n",
       "       'Banfield, Mr. Frederick James', 'Sutehall, Mr. Henry Jr',\n",
       "       'Rice, Mrs. William (Margaret Norton)', 'Montvila, Rev. Juozas',\n",
       "       'Graham, Miss. Margaret Edith',\n",
       "       'Johnston, Miss. Catherine Helen \"Carrie\"',\n",
       "       'Behr, Mr. Karl Howell', 'Dooley, Mr. Patrick'], dtype=object)"
      ]
     },
     "execution_count": 42,
     "metadata": {},
     "output_type": "execute_result"
    }
   ],
   "source": [
    "pd.unique(train['Name'])"
   ]
  },
  {
   "cell_type": "code",
   "execution_count": 43,
   "id": "institutional-thompson",
   "metadata": {
    "execution": {
     "iopub.execute_input": "2022-01-13T14:16:22.737564Z",
     "iopub.status.busy": "2022-01-13T14:16:22.736739Z",
     "iopub.status.idle": "2022-01-13T14:16:22.739239Z",
     "shell.execute_reply": "2022-01-13T14:16:22.739826Z",
     "shell.execute_reply.started": "2022-01-13T13:59:17.558046Z"
    },
    "papermill": {
     "duration": 0.119991,
     "end_time": "2022-01-13T14:16:22.740017",
     "exception": false,
     "start_time": "2022-01-13T14:16:22.620026",
     "status": "completed"
    },
    "tags": []
   },
   "outputs": [],
   "source": [
    "# Extracting titles from the names\n",
    "train['Title'] = train['Name'].apply(lambda x: x.split(',')[1].split('.')[0].strip())\n",
    "test['Title'] = test['Name'].apply(lambda x: x.split(',')[1].split('.')[0].strip())"
   ]
  },
  {
   "cell_type": "code",
   "execution_count": 44,
   "id": "surprising-visibility",
   "metadata": {
    "execution": {
     "iopub.execute_input": "2022-01-13T14:16:22.957537Z",
     "iopub.status.busy": "2022-01-13T14:16:22.956833Z",
     "iopub.status.idle": "2022-01-13T14:16:22.974701Z",
     "shell.execute_reply": "2022-01-13T14:16:22.975291Z",
     "shell.execute_reply.started": "2022-01-13T14:01:10.303084Z"
    },
    "papermill": {
     "duration": 0.128504,
     "end_time": "2022-01-13T14:16:22.975472",
     "exception": false,
     "start_time": "2022-01-13T14:16:22.846968",
     "status": "completed"
    },
    "tags": []
   },
   "outputs": [
    {
     "data": {
      "text/html": [
       "<div>\n",
       "<style scoped>\n",
       "    .dataframe tbody tr th:only-of-type {\n",
       "        vertical-align: middle;\n",
       "    }\n",
       "\n",
       "    .dataframe tbody tr th {\n",
       "        vertical-align: top;\n",
       "    }\n",
       "\n",
       "    .dataframe thead th {\n",
       "        text-align: right;\n",
       "    }\n",
       "</style>\n",
       "<table border=\"1\" class=\"dataframe\">\n",
       "  <thead>\n",
       "    <tr style=\"text-align: right;\">\n",
       "      <th></th>\n",
       "      <th>PassengerId</th>\n",
       "      <th>Survived</th>\n",
       "      <th>Pclass</th>\n",
       "      <th>Name</th>\n",
       "      <th>Sex</th>\n",
       "      <th>Age</th>\n",
       "      <th>SibSp</th>\n",
       "      <th>Parch</th>\n",
       "      <th>Ticket</th>\n",
       "      <th>Fare</th>\n",
       "      <th>Cabin</th>\n",
       "      <th>Embarked</th>\n",
       "      <th>Title</th>\n",
       "    </tr>\n",
       "  </thead>\n",
       "  <tbody>\n",
       "    <tr>\n",
       "      <th>0</th>\n",
       "      <td>1</td>\n",
       "      <td>0</td>\n",
       "      <td>3</td>\n",
       "      <td>Braund, Mr. Owen Harris</td>\n",
       "      <td>male</td>\n",
       "      <td>22.0</td>\n",
       "      <td>1</td>\n",
       "      <td>0</td>\n",
       "      <td>A/5 21171</td>\n",
       "      <td>7.2500</td>\n",
       "      <td>NaN</td>\n",
       "      <td>S</td>\n",
       "      <td>Mr</td>\n",
       "    </tr>\n",
       "    <tr>\n",
       "      <th>1</th>\n",
       "      <td>2</td>\n",
       "      <td>1</td>\n",
       "      <td>1</td>\n",
       "      <td>Cumings, Mrs. John Bradley (Florence Briggs Th...</td>\n",
       "      <td>female</td>\n",
       "      <td>38.0</td>\n",
       "      <td>1</td>\n",
       "      <td>0</td>\n",
       "      <td>PC 17599</td>\n",
       "      <td>71.2833</td>\n",
       "      <td>C85</td>\n",
       "      <td>C</td>\n",
       "      <td>Mrs</td>\n",
       "    </tr>\n",
       "    <tr>\n",
       "      <th>2</th>\n",
       "      <td>3</td>\n",
       "      <td>1</td>\n",
       "      <td>3</td>\n",
       "      <td>Heikkinen, Miss. Laina</td>\n",
       "      <td>female</td>\n",
       "      <td>26.0</td>\n",
       "      <td>0</td>\n",
       "      <td>0</td>\n",
       "      <td>STON/O2. 3101282</td>\n",
       "      <td>7.9250</td>\n",
       "      <td>NaN</td>\n",
       "      <td>S</td>\n",
       "      <td>Miss</td>\n",
       "    </tr>\n",
       "    <tr>\n",
       "      <th>3</th>\n",
       "      <td>4</td>\n",
       "      <td>1</td>\n",
       "      <td>1</td>\n",
       "      <td>Futrelle, Mrs. Jacques Heath (Lily May Peel)</td>\n",
       "      <td>female</td>\n",
       "      <td>35.0</td>\n",
       "      <td>1</td>\n",
       "      <td>0</td>\n",
       "      <td>113803</td>\n",
       "      <td>53.1000</td>\n",
       "      <td>C123</td>\n",
       "      <td>S</td>\n",
       "      <td>Mrs</td>\n",
       "    </tr>\n",
       "    <tr>\n",
       "      <th>4</th>\n",
       "      <td>5</td>\n",
       "      <td>0</td>\n",
       "      <td>3</td>\n",
       "      <td>Allen, Mr. William Henry</td>\n",
       "      <td>male</td>\n",
       "      <td>35.0</td>\n",
       "      <td>0</td>\n",
       "      <td>0</td>\n",
       "      <td>373450</td>\n",
       "      <td>8.0500</td>\n",
       "      <td>NaN</td>\n",
       "      <td>S</td>\n",
       "      <td>Mr</td>\n",
       "    </tr>\n",
       "  </tbody>\n",
       "</table>\n",
       "</div>"
      ],
      "text/plain": [
       "   PassengerId  Survived  Pclass  \\\n",
       "0            1         0       3   \n",
       "1            2         1       1   \n",
       "2            3         1       3   \n",
       "3            4         1       1   \n",
       "4            5         0       3   \n",
       "\n",
       "                                                Name     Sex   Age  SibSp  \\\n",
       "0                            Braund, Mr. Owen Harris    male  22.0      1   \n",
       "1  Cumings, Mrs. John Bradley (Florence Briggs Th...  female  38.0      1   \n",
       "2                             Heikkinen, Miss. Laina  female  26.0      0   \n",
       "3       Futrelle, Mrs. Jacques Heath (Lily May Peel)  female  35.0      1   \n",
       "4                           Allen, Mr. William Henry    male  35.0      0   \n",
       "\n",
       "   Parch            Ticket     Fare Cabin Embarked Title  \n",
       "0      0         A/5 21171   7.2500   NaN        S    Mr  \n",
       "1      0          PC 17599  71.2833   C85        C   Mrs  \n",
       "2      0  STON/O2. 3101282   7.9250   NaN        S  Miss  \n",
       "3      0            113803  53.1000  C123        S   Mrs  \n",
       "4      0            373450   8.0500   NaN        S    Mr  "
      ]
     },
     "execution_count": 44,
     "metadata": {},
     "output_type": "execute_result"
    }
   ],
   "source": [
    "train.head(5)"
   ]
  },
  {
   "cell_type": "code",
   "execution_count": 45,
   "id": "through-details",
   "metadata": {
    "execution": {
     "iopub.execute_input": "2022-01-13T14:16:23.195361Z",
     "iopub.status.busy": "2022-01-13T14:16:23.194698Z",
     "iopub.status.idle": "2022-01-13T14:16:23.212249Z",
     "shell.execute_reply": "2022-01-13T14:16:23.212735Z",
     "shell.execute_reply.started": "2022-01-13T14:01:03.760463Z"
    },
    "papermill": {
     "duration": 0.12804,
     "end_time": "2022-01-13T14:16:23.212934",
     "exception": false,
     "start_time": "2022-01-13T14:16:23.084894",
     "status": "completed"
    },
    "tags": []
   },
   "outputs": [
    {
     "data": {
      "text/html": [
       "<div>\n",
       "<style scoped>\n",
       "    .dataframe tbody tr th:only-of-type {\n",
       "        vertical-align: middle;\n",
       "    }\n",
       "\n",
       "    .dataframe tbody tr th {\n",
       "        vertical-align: top;\n",
       "    }\n",
       "\n",
       "    .dataframe thead th {\n",
       "        text-align: right;\n",
       "    }\n",
       "</style>\n",
       "<table border=\"1\" class=\"dataframe\">\n",
       "  <thead>\n",
       "    <tr style=\"text-align: right;\">\n",
       "      <th></th>\n",
       "      <th>PassengerId</th>\n",
       "      <th>Pclass</th>\n",
       "      <th>Name</th>\n",
       "      <th>Sex</th>\n",
       "      <th>Age</th>\n",
       "      <th>SibSp</th>\n",
       "      <th>Parch</th>\n",
       "      <th>Ticket</th>\n",
       "      <th>Fare</th>\n",
       "      <th>Cabin</th>\n",
       "      <th>Embarked</th>\n",
       "      <th>Title</th>\n",
       "    </tr>\n",
       "  </thead>\n",
       "  <tbody>\n",
       "    <tr>\n",
       "      <th>0</th>\n",
       "      <td>892</td>\n",
       "      <td>3</td>\n",
       "      <td>Kelly, Mr. James</td>\n",
       "      <td>male</td>\n",
       "      <td>34.5</td>\n",
       "      <td>0</td>\n",
       "      <td>0</td>\n",
       "      <td>330911</td>\n",
       "      <td>7.8292</td>\n",
       "      <td>NaN</td>\n",
       "      <td>Q</td>\n",
       "      <td>Mr</td>\n",
       "    </tr>\n",
       "    <tr>\n",
       "      <th>1</th>\n",
       "      <td>893</td>\n",
       "      <td>3</td>\n",
       "      <td>Wilkes, Mrs. James (Ellen Needs)</td>\n",
       "      <td>female</td>\n",
       "      <td>47.0</td>\n",
       "      <td>1</td>\n",
       "      <td>0</td>\n",
       "      <td>363272</td>\n",
       "      <td>7.0000</td>\n",
       "      <td>NaN</td>\n",
       "      <td>S</td>\n",
       "      <td>Mrs</td>\n",
       "    </tr>\n",
       "    <tr>\n",
       "      <th>2</th>\n",
       "      <td>894</td>\n",
       "      <td>2</td>\n",
       "      <td>Myles, Mr. Thomas Francis</td>\n",
       "      <td>male</td>\n",
       "      <td>62.0</td>\n",
       "      <td>0</td>\n",
       "      <td>0</td>\n",
       "      <td>240276</td>\n",
       "      <td>9.6875</td>\n",
       "      <td>NaN</td>\n",
       "      <td>Q</td>\n",
       "      <td>Mr</td>\n",
       "    </tr>\n",
       "    <tr>\n",
       "      <th>3</th>\n",
       "      <td>895</td>\n",
       "      <td>3</td>\n",
       "      <td>Wirz, Mr. Albert</td>\n",
       "      <td>male</td>\n",
       "      <td>27.0</td>\n",
       "      <td>0</td>\n",
       "      <td>0</td>\n",
       "      <td>315154</td>\n",
       "      <td>8.6625</td>\n",
       "      <td>NaN</td>\n",
       "      <td>S</td>\n",
       "      <td>Mr</td>\n",
       "    </tr>\n",
       "    <tr>\n",
       "      <th>4</th>\n",
       "      <td>896</td>\n",
       "      <td>3</td>\n",
       "      <td>Hirvonen, Mrs. Alexander (Helga E Lindqvist)</td>\n",
       "      <td>female</td>\n",
       "      <td>22.0</td>\n",
       "      <td>1</td>\n",
       "      <td>1</td>\n",
       "      <td>3101298</td>\n",
       "      <td>12.2875</td>\n",
       "      <td>NaN</td>\n",
       "      <td>S</td>\n",
       "      <td>Mrs</td>\n",
       "    </tr>\n",
       "  </tbody>\n",
       "</table>\n",
       "</div>"
      ],
      "text/plain": [
       "   PassengerId  Pclass                                          Name     Sex  \\\n",
       "0          892       3                              Kelly, Mr. James    male   \n",
       "1          893       3              Wilkes, Mrs. James (Ellen Needs)  female   \n",
       "2          894       2                     Myles, Mr. Thomas Francis    male   \n",
       "3          895       3                              Wirz, Mr. Albert    male   \n",
       "4          896       3  Hirvonen, Mrs. Alexander (Helga E Lindqvist)  female   \n",
       "\n",
       "    Age  SibSp  Parch   Ticket     Fare Cabin Embarked Title  \n",
       "0  34.5      0      0   330911   7.8292   NaN        Q    Mr  \n",
       "1  47.0      1      0   363272   7.0000   NaN        S   Mrs  \n",
       "2  62.0      0      0   240276   9.6875   NaN        Q    Mr  \n",
       "3  27.0      0      0   315154   8.6625   NaN        S    Mr  \n",
       "4  22.0      1      1  3101298  12.2875   NaN        S   Mrs  "
      ]
     },
     "execution_count": 45,
     "metadata": {},
     "output_type": "execute_result"
    }
   ],
   "source": [
    "test.head()"
   ]
  },
  {
   "cell_type": "code",
   "execution_count": 46,
   "id": "stuffed-winner",
   "metadata": {
    "execution": {
     "iopub.execute_input": "2022-01-13T14:16:23.432941Z",
     "iopub.status.busy": "2022-01-13T14:16:23.432317Z",
     "iopub.status.idle": "2022-01-13T14:16:23.443328Z",
     "shell.execute_reply": "2022-01-13T14:16:23.443892Z",
     "shell.execute_reply.started": "2022-01-13T13:59:27.946671Z"
    },
    "papermill": {
     "duration": 0.122996,
     "end_time": "2022-01-13T14:16:23.444099",
     "exception": false,
     "start_time": "2022-01-13T14:16:23.321103",
     "status": "completed"
    },
    "tags": []
   },
   "outputs": [
    {
     "data": {
      "text/html": [
       "<div>\n",
       "<style scoped>\n",
       "    .dataframe tbody tr th:only-of-type {\n",
       "        vertical-align: middle;\n",
       "    }\n",
       "\n",
       "    .dataframe tbody tr th {\n",
       "        vertical-align: top;\n",
       "    }\n",
       "\n",
       "    .dataframe thead th {\n",
       "        text-align: right;\n",
       "    }\n",
       "</style>\n",
       "<table border=\"1\" class=\"dataframe\">\n",
       "  <thead>\n",
       "    <tr style=\"text-align: right;\">\n",
       "      <th></th>\n",
       "      <th>Title</th>\n",
       "    </tr>\n",
       "  </thead>\n",
       "  <tbody>\n",
       "    <tr>\n",
       "      <th>Mr</th>\n",
       "      <td>517</td>\n",
       "    </tr>\n",
       "    <tr>\n",
       "      <th>Miss</th>\n",
       "      <td>182</td>\n",
       "    </tr>\n",
       "    <tr>\n",
       "      <th>Mrs</th>\n",
       "      <td>125</td>\n",
       "    </tr>\n",
       "    <tr>\n",
       "      <th>Master</th>\n",
       "      <td>40</td>\n",
       "    </tr>\n",
       "    <tr>\n",
       "      <th>Dr</th>\n",
       "      <td>7</td>\n",
       "    </tr>\n",
       "    <tr>\n",
       "      <th>Rev</th>\n",
       "      <td>6</td>\n",
       "    </tr>\n",
       "    <tr>\n",
       "      <th>Major</th>\n",
       "      <td>2</td>\n",
       "    </tr>\n",
       "    <tr>\n",
       "      <th>Mlle</th>\n",
       "      <td>2</td>\n",
       "    </tr>\n",
       "    <tr>\n",
       "      <th>Col</th>\n",
       "      <td>2</td>\n",
       "    </tr>\n",
       "    <tr>\n",
       "      <th>Capt</th>\n",
       "      <td>1</td>\n",
       "    </tr>\n",
       "    <tr>\n",
       "      <th>Ms</th>\n",
       "      <td>1</td>\n",
       "    </tr>\n",
       "    <tr>\n",
       "      <th>Mme</th>\n",
       "      <td>1</td>\n",
       "    </tr>\n",
       "    <tr>\n",
       "      <th>Jonkheer</th>\n",
       "      <td>1</td>\n",
       "    </tr>\n",
       "    <tr>\n",
       "      <th>Don</th>\n",
       "      <td>1</td>\n",
       "    </tr>\n",
       "    <tr>\n",
       "      <th>Sir</th>\n",
       "      <td>1</td>\n",
       "    </tr>\n",
       "    <tr>\n",
       "      <th>Lady</th>\n",
       "      <td>1</td>\n",
       "    </tr>\n",
       "    <tr>\n",
       "      <th>the Countess</th>\n",
       "      <td>1</td>\n",
       "    </tr>\n",
       "  </tbody>\n",
       "</table>\n",
       "</div>"
      ],
      "text/plain": [
       "              Title\n",
       "Mr              517\n",
       "Miss            182\n",
       "Mrs             125\n",
       "Master           40\n",
       "Dr                7\n",
       "Rev               6\n",
       "Major             2\n",
       "Mlle              2\n",
       "Col               2\n",
       "Capt              1\n",
       "Ms                1\n",
       "Mme               1\n",
       "Jonkheer          1\n",
       "Don               1\n",
       "Sir               1\n",
       "Lady              1\n",
       "the Countess      1"
      ]
     },
     "execution_count": 46,
     "metadata": {},
     "output_type": "execute_result"
    }
   ],
   "source": [
    "train['Title'].value_counts().to_frame()"
   ]
  },
  {
   "cell_type": "markdown",
   "id": "eligible-representation",
   "metadata": {
    "papermill": {
     "duration": 0.11052,
     "end_time": "2022-01-13T14:16:23.673429",
     "exception": false,
     "start_time": "2022-01-13T14:16:23.562909",
     "status": "completed"
    },
    "tags": []
   },
   "source": [
    "The titles are imbalanced. Grouping the less frequent into Mr and Miss"
   ]
  },
  {
   "cell_type": "code",
   "execution_count": 47,
   "id": "communist-links",
   "metadata": {
    "execution": {
     "iopub.execute_input": "2022-01-13T14:16:23.903834Z",
     "iopub.status.busy": "2022-01-13T14:16:23.897533Z",
     "iopub.status.idle": "2022-01-13T14:16:23.909290Z",
     "shell.execute_reply": "2022-01-13T14:16:23.909851Z",
     "shell.execute_reply.started": "2022-01-13T14:00:19.990195Z"
    },
    "papermill": {
     "duration": 0.124793,
     "end_time": "2022-01-13T14:16:23.910057",
     "exception": false,
     "start_time": "2022-01-13T14:16:23.785264",
     "status": "completed"
    },
    "tags": []
   },
   "outputs": [],
   "source": [
    "train['Title'].replace(['Mme', 'Ms', 'Lady', 'Mlle', 'the Countess'], 'Miss', inplace=True)\n",
    "test['Title'].replace(['Mme', 'Ms', 'Lady', 'Mlle', 'the Countess'], 'Miss', inplace=True)\n",
    "train['Title'].replace(['Major', 'Col', 'Capt', 'Don', 'Sir', 'Jonkheer'], 'Mr', inplace=True)\n",
    "test['Title'].replace(['Major', 'Col', 'Capt', 'Don', 'Sir', 'Jonkheer'], 'Mr', inplace=True)"
   ]
  },
  {
   "cell_type": "code",
   "execution_count": 48,
   "id": "integral-string",
   "metadata": {
    "execution": {
     "iopub.execute_input": "2022-01-13T14:16:24.132363Z",
     "iopub.status.busy": "2022-01-13T14:16:24.131718Z",
     "iopub.status.idle": "2022-01-13T14:16:24.138651Z",
     "shell.execute_reply": "2022-01-13T14:16:24.139193Z",
     "shell.execute_reply.started": "2022-01-13T14:00:21.934766Z"
    },
    "papermill": {
     "duration": 0.120253,
     "end_time": "2022-01-13T14:16:24.139385",
     "exception": false,
     "start_time": "2022-01-13T14:16:24.019132",
     "status": "completed"
    },
    "tags": []
   },
   "outputs": [],
   "source": [
    "# Since Sibsp and Parch are not very informative, combine them into Fam_size feature\n",
    "train['Fam_size'] = train['SibSp'] + train['Parch'] + 1\n",
    "test['Fam_size'] = test['SibSp'] + test['Parch'] + 1"
   ]
  },
  {
   "cell_type": "code",
   "execution_count": 49,
   "id": "transparent-remains",
   "metadata": {
    "execution": {
     "iopub.execute_input": "2022-01-13T14:16:24.363892Z",
     "iopub.status.busy": "2022-01-13T14:16:24.363267Z",
     "iopub.status.idle": "2022-01-13T14:16:24.373850Z",
     "shell.execute_reply": "2022-01-13T14:16:24.374413Z",
     "shell.execute_reply.started": "2022-01-13T14:00:32.374827Z"
    },
    "papermill": {
     "duration": 0.125222,
     "end_time": "2022-01-13T14:16:24.374595",
     "exception": false,
     "start_time": "2022-01-13T14:16:24.249373",
     "status": "completed"
    },
    "tags": []
   },
   "outputs": [],
   "source": [
    "# Family type\n",
    "# Creation of four groups\n",
    "train['Fam_type'] = pd.cut(train.Fam_size, [0,1,4,7,11], labels=['Single', 'Small', 'Big', 'Very big'])\n",
    "test['Fam_type'] = pd.cut(test.Fam_size, [0,1,4,7,11], labels=['Single', 'Small', 'Big', 'Very big'])"
   ]
  },
  {
   "cell_type": "code",
   "execution_count": 50,
   "id": "automotive-administrator",
   "metadata": {
    "execution": {
     "iopub.execute_input": "2022-01-13T14:16:24.598897Z",
     "iopub.status.busy": "2022-01-13T14:16:24.598104Z",
     "iopub.status.idle": "2022-01-13T14:16:24.813318Z",
     "shell.execute_reply": "2022-01-13T14:16:24.813876Z",
     "shell.execute_reply.started": "2022-01-13T14:00:35.720388Z"
    },
    "papermill": {
     "duration": 0.328608,
     "end_time": "2022-01-13T14:16:24.814066",
     "exception": false,
     "start_time": "2022-01-13T14:16:24.485458",
     "status": "completed"
    },
    "tags": []
   },
   "outputs": [
    {
     "data": {
      "image/png": "[encoded data removed]",
      "text/plain": [
       "<Figure size 360x360 with 1 Axes>"
      ]
     },
     "metadata": {},
     "output_type": "display_data"
    }
   ],
   "source": [
    "compare_plot(train, \"Fam_type\", \"Survived\", \"Survivor count by family type\")"
   ]
  },
  {
   "cell_type": "code",
   "execution_count": 51,
   "id": "substantial-revision",
   "metadata": {
    "execution": {
     "iopub.execute_input": "2022-01-13T14:16:25.036013Z",
     "iopub.status.busy": "2022-01-13T14:16:25.035360Z",
     "iopub.status.idle": "2022-01-13T14:16:25.043131Z",
     "shell.execute_reply": "2022-01-13T14:16:25.043651Z",
     "shell.execute_reply.started": "2022-01-13T14:01:30.842117Z"
    },
    "papermill": {
     "duration": 0.119471,
     "end_time": "2022-01-13T14:16:25.043833",
     "exception": false,
     "start_time": "2022-01-13T14:16:24.924362",
     "status": "completed"
    },
    "tags": []
   },
   "outputs": [],
   "source": [
    "# Dropping columns that can't be used for prediction\n",
    "# Cabin dropped because it have 77% of missing values\n",
    "train=train.drop(['PassengerId','Name','Ticket','Cabin'],axis=1)\n",
    "test=test.drop(['Name','Cabin','Ticket'],axis=1)"
   ]
  },
  {
   "cell_type": "code",
   "execution_count": 52,
   "id": "center-mouse",
   "metadata": {
    "execution": {
     "iopub.execute_input": "2022-01-13T14:16:25.268904Z",
     "iopub.status.busy": "2022-01-13T14:16:25.268226Z",
     "iopub.status.idle": "2022-01-13T14:16:25.275205Z",
     "shell.execute_reply": "2022-01-13T14:16:25.275728Z",
     "shell.execute_reply.started": "2022-01-13T14:01:34.189707Z"
    },
    "papermill": {
     "duration": 0.121951,
     "end_time": "2022-01-13T14:16:25.275903",
     "exception": false,
     "start_time": "2022-01-13T14:16:25.153952",
     "status": "completed"
    },
    "tags": []
   },
   "outputs": [],
   "source": [
    "# The handling of missing values \n",
    "# Imputing median not mean to the train dataset's Age column because Age is right skewed\n",
    "median = train[\"Age\"].median()\n",
    "mediantest = test[\"Age\"].median()\n",
    "train[\"Age\"].fillna(median, inplace=True)\n",
    "test[\"Age\"].fillna(median, inplace=True)"
   ]
  },
  {
   "cell_type": "code",
   "execution_count": 53,
   "id": "numerous-demand",
   "metadata": {
    "execution": {
     "iopub.execute_input": "2022-01-13T14:16:25.501756Z",
     "iopub.status.busy": "2022-01-13T14:16:25.501096Z",
     "iopub.status.idle": "2022-01-13T14:16:25.506700Z",
     "shell.execute_reply": "2022-01-13T14:16:25.507253Z",
     "shell.execute_reply.started": "2022-01-13T14:01:38.157978Z"
    },
    "papermill": {
     "duration": 0.120008,
     "end_time": "2022-01-13T14:16:25.507424",
     "exception": false,
     "start_time": "2022-01-13T14:16:25.387416",
     "status": "completed"
    },
    "tags": []
   },
   "outputs": [],
   "source": [
    "# Embarked has 2 missing values, the mode is imputed\n",
    "train['Embarked'].fillna(train.Embarked.mode()[0], inplace=True) "
   ]
  },
  {
   "cell_type": "code",
   "execution_count": 54,
   "id": "based-revision",
   "metadata": {
    "execution": {
     "iopub.execute_input": "2022-01-13T14:16:25.734496Z",
     "iopub.status.busy": "2022-01-13T14:16:25.733800Z",
     "iopub.status.idle": "2022-01-13T14:16:25.740006Z",
     "shell.execute_reply": "2022-01-13T14:16:25.740561Z",
     "shell.execute_reply.started": "2022-01-13T14:01:41.824352Z"
    },
    "papermill": {
     "duration": 0.121761,
     "end_time": "2022-01-13T14:16:25.740725",
     "exception": false,
     "start_time": "2022-01-13T14:16:25.618964",
     "status": "completed"
    },
    "tags": []
   },
   "outputs": [
    {
     "data": {
      "text/plain": [
       "Series([], dtype: int64)"
      ]
     },
     "execution_count": 54,
     "metadata": {},
     "output_type": "execute_result"
    }
   ],
   "source": [
    "# Checking for missing values\n",
    "null_values = train.isna().sum()\n",
    "null_values[null_values>0]"
   ]
  },
  {
   "cell_type": "code",
   "execution_count": 55,
   "id": "imperial-spread",
   "metadata": {
    "execution": {
     "iopub.execute_input": "2022-01-13T14:16:25.967532Z",
     "iopub.status.busy": "2022-01-13T14:16:25.966870Z",
     "iopub.status.idle": "2022-01-13T14:16:25.984353Z",
     "shell.execute_reply": "2022-01-13T14:16:25.985232Z",
     "shell.execute_reply.started": "2022-01-13T14:01:44.207432Z"
    },
    "papermill": {
     "duration": 0.133451,
     "end_time": "2022-01-13T14:16:25.985477",
     "exception": false,
     "start_time": "2022-01-13T14:16:25.852026",
     "status": "completed"
    },
    "tags": []
   },
   "outputs": [
    {
     "name": "stdout",
     "output_type": "stream",
     "text": [
      "<class 'pandas.core.frame.DataFrame'>\n",
      "RangeIndex: 891 entries, 0 to 890\n",
      "Data columns (total 11 columns):\n",
      " #   Column    Non-Null Count  Dtype   \n",
      "---  ------    --------------  -----   \n",
      " 0   Survived  891 non-null    int64   \n",
      " 1   Pclass    891 non-null    int64   \n",
      " 2   Sex       891 non-null    object  \n",
      " 3   Age       891 non-null    float64 \n",
      " 4   SibSp     891 non-null    int64   \n",
      " 5   Parch     891 non-null    int64   \n",
      " 6   Fare      891 non-null    float64 \n",
      " 7   Embarked  891 non-null    object  \n",
      " 8   Title     891 non-null    object  \n",
      " 9   Fam_size  891 non-null    int64   \n",
      " 10  Fam_type  891 non-null    category\n",
      "dtypes: category(1), float64(2), int64(5), object(3)\n",
      "memory usage: 70.8+ KB\n"
     ]
    }
   ],
   "source": [
    "train.info()"
   ]
  },
  {
   "cell_type": "markdown",
   "id": "turkish-missouri",
   "metadata": {
    "papermill": {
     "duration": 0.110802,
     "end_time": "2022-01-13T14:16:26.207847",
     "exception": false,
     "start_time": "2022-01-13T14:16:26.097045",
     "status": "completed"
    },
    "tags": []
   },
   "source": [
    "**no null**"
   ]
  },
  {
   "cell_type": "code",
   "execution_count": 56,
   "id": "devoted-cameroon",
   "metadata": {
    "execution": {
     "iopub.execute_input": "2022-01-13T14:16:26.515022Z",
     "iopub.status.busy": "2022-01-13T14:16:26.514319Z",
     "iopub.status.idle": "2022-01-13T14:16:26.535322Z",
     "shell.execute_reply": "2022-01-13T14:16:26.535909Z",
     "shell.execute_reply.started": "2022-01-13T14:01:47.441067Z"
    },
    "papermill": {
     "duration": 0.164386,
     "end_time": "2022-01-13T14:16:26.536166",
     "exception": false,
     "start_time": "2022-01-13T14:16:26.371780",
     "status": "completed"
    },
    "tags": []
   },
   "outputs": [
    {
     "name": "stdout",
     "output_type": "stream",
     "text": [
      "<class 'pandas.core.frame.DataFrame'>\n",
      "RangeIndex: 418 entries, 0 to 417\n",
      "Data columns (total 11 columns):\n",
      " #   Column       Non-Null Count  Dtype   \n",
      "---  ------       --------------  -----   \n",
      " 0   PassengerId  418 non-null    int64   \n",
      " 1   Pclass       418 non-null    int64   \n",
      " 2   Sex          418 non-null    object  \n",
      " 3   Age          418 non-null    float64 \n",
      " 4   SibSp        418 non-null    int64   \n",
      " 5   Parch        418 non-null    int64   \n",
      " 6   Fare         417 non-null    float64 \n",
      " 7   Embarked     418 non-null    object  \n",
      " 8   Title        418 non-null    object  \n",
      " 9   Fam_size     418 non-null    int64   \n",
      " 10  Fam_type     418 non-null    category\n",
      "dtypes: category(1), float64(2), int64(5), object(3)\n",
      "memory usage: 33.4+ KB\n"
     ]
    }
   ],
   "source": [
    "test.info()"
   ]
  },
  {
   "cell_type": "code",
   "execution_count": 57,
   "id": "announced-antibody",
   "metadata": {
    "execution": {
     "iopub.execute_input": "2022-01-13T14:16:26.773711Z",
     "iopub.status.busy": "2022-01-13T14:16:26.773052Z",
     "iopub.status.idle": "2022-01-13T14:16:26.779396Z",
     "shell.execute_reply": "2022-01-13T14:16:26.779886Z",
     "shell.execute_reply.started": "2022-01-13T12:54:15.676451Z"
    },
    "papermill": {
     "duration": 0.120378,
     "end_time": "2022-01-13T14:16:26.780101",
     "exception": false,
     "start_time": "2022-01-13T14:16:26.659723",
     "status": "completed"
    },
    "tags": []
   },
   "outputs": [],
   "source": [
    "testfare = test['Fare'].median()\n",
    "test['Fare'].fillna(median, inplace=True)"
   ]
  },
  {
   "cell_type": "code",
   "execution_count": 58,
   "id": "rural-current",
   "metadata": {
    "execution": {
     "iopub.execute_input": "2022-01-13T14:16:27.005697Z",
     "iopub.status.busy": "2022-01-13T14:16:27.004937Z",
     "iopub.status.idle": "2022-01-13T14:16:27.026406Z",
     "shell.execute_reply": "2022-01-13T14:16:27.027202Z",
     "shell.execute_reply.started": "2022-01-13T14:01:52.744359Z"
    },
    "papermill": {
     "duration": 0.136338,
     "end_time": "2022-01-13T14:16:27.027568",
     "exception": false,
     "start_time": "2022-01-13T14:16:26.891230",
     "status": "completed"
    },
    "tags": []
   },
   "outputs": [
    {
     "name": "stdout",
     "output_type": "stream",
     "text": [
      "<class 'pandas.core.frame.DataFrame'>\n",
      "RangeIndex: 418 entries, 0 to 417\n",
      "Data columns (total 11 columns):\n",
      " #   Column       Non-Null Count  Dtype   \n",
      "---  ------       --------------  -----   \n",
      " 0   PassengerId  418 non-null    int64   \n",
      " 1   Pclass       418 non-null    int64   \n",
      " 2   Sex          418 non-null    object  \n",
      " 3   Age          418 non-null    float64 \n",
      " 4   SibSp        418 non-null    int64   \n",
      " 5   Parch        418 non-null    int64   \n",
      " 6   Fare         418 non-null    float64 \n",
      " 7   Embarked     418 non-null    object  \n",
      " 8   Title        418 non-null    object  \n",
      " 9   Fam_size     418 non-null    int64   \n",
      " 10  Fam_type     418 non-null    category\n",
      "dtypes: category(1), float64(2), int64(5), object(3)\n",
      "memory usage: 33.4+ KB\n"
     ]
    }
   ],
   "source": [
    "test.info()"
   ]
  },
  {
   "cell_type": "code",
   "execution_count": 59,
   "id": "burning-element",
   "metadata": {
    "execution": {
     "iopub.execute_input": "2022-01-13T14:16:27.269305Z",
     "iopub.status.busy": "2022-01-13T14:16:27.268582Z",
     "iopub.status.idle": "2022-01-13T14:16:27.274124Z",
     "shell.execute_reply": "2022-01-13T14:16:27.274673Z",
     "shell.execute_reply.started": "2022-01-13T14:01:55.918327Z"
    },
    "papermill": {
     "duration": 0.12006,
     "end_time": "2022-01-13T14:16:27.274848",
     "exception": false,
     "start_time": "2022-01-13T14:16:27.154788",
     "status": "completed"
    },
    "tags": []
   },
   "outputs": [],
   "source": [
    "test['Embarked'].fillna(test.Embarked.mode()[0], inplace=True) "
   ]
  },
  {
   "cell_type": "code",
   "execution_count": 60,
   "id": "infinite-verse",
   "metadata": {
    "execution": {
     "iopub.execute_input": "2022-01-13T14:16:27.505628Z",
     "iopub.status.busy": "2022-01-13T14:16:27.504936Z",
     "iopub.status.idle": "2022-01-13T14:16:27.520499Z",
     "shell.execute_reply": "2022-01-13T14:16:27.521220Z",
     "shell.execute_reply.started": "2022-01-13T14:01:57.849826Z"
    },
    "papermill": {
     "duration": 0.131388,
     "end_time": "2022-01-13T14:16:27.521454",
     "exception": false,
     "start_time": "2022-01-13T14:16:27.390066",
     "status": "completed"
    },
    "tags": []
   },
   "outputs": [
    {
     "name": "stdout",
     "output_type": "stream",
     "text": [
      "<class 'pandas.core.frame.DataFrame'>\n",
      "RangeIndex: 418 entries, 0 to 417\n",
      "Data columns (total 11 columns):\n",
      " #   Column       Non-Null Count  Dtype   \n",
      "---  ------       --------------  -----   \n",
      " 0   PassengerId  418 non-null    int64   \n",
      " 1   Pclass       418 non-null    int64   \n",
      " 2   Sex          418 non-null    object  \n",
      " 3   Age          418 non-null    float64 \n",
      " 4   SibSp        418 non-null    int64   \n",
      " 5   Parch        418 non-null    int64   \n",
      " 6   Fare         418 non-null    float64 \n",
      " 7   Embarked     418 non-null    object  \n",
      " 8   Title        418 non-null    object  \n",
      " 9   Fam_size     418 non-null    int64   \n",
      " 10  Fam_type     418 non-null    category\n",
      "dtypes: category(1), float64(2), int64(5), object(3)\n",
      "memory usage: 33.4+ KB\n"
     ]
    }
   ],
   "source": [
    "test.info()"
   ]
  },
  {
   "cell_type": "code",
   "execution_count": 61,
   "id": "correct-boutique",
   "metadata": {
    "execution": {
     "iopub.execute_input": "2022-01-13T14:16:27.751413Z",
     "iopub.status.busy": "2022-01-13T14:16:27.750721Z",
     "iopub.status.idle": "2022-01-13T14:16:27.756222Z",
     "shell.execute_reply": "2022-01-13T14:16:27.756733Z",
     "shell.execute_reply.started": "2022-01-13T14:02:00.833975Z"
    },
    "papermill": {
     "duration": 0.121016,
     "end_time": "2022-01-13T14:16:27.756909",
     "exception": false,
     "start_time": "2022-01-13T14:16:27.635893",
     "status": "completed"
    },
    "tags": []
   },
   "outputs": [],
   "source": [
    "test['Title'].fillna(test.Embarked.mode()[0], inplace=True)"
   ]
  },
  {
   "cell_type": "code",
   "execution_count": 62,
   "id": "defined-divide",
   "metadata": {
    "execution": {
     "iopub.execute_input": "2022-01-13T14:16:27.987115Z",
     "iopub.status.busy": "2022-01-13T14:16:27.986392Z",
     "iopub.status.idle": "2022-01-13T14:16:27.989001Z",
     "shell.execute_reply": "2022-01-13T14:16:27.989623Z",
     "shell.execute_reply.started": "2022-01-13T12:56:49.961131Z"
    },
    "papermill": {
     "duration": 0.120648,
     "end_time": "2022-01-13T14:16:27.989797",
     "exception": false,
     "start_time": "2022-01-13T14:16:27.869149",
     "status": "completed"
    },
    "tags": []
   },
   "outputs": [],
   "source": [
    "# mean = test[\"Fare\"].mean()\n",
    "# test[\"Fare\"].fillna(mean, inplace=True)"
   ]
  },
  {
   "cell_type": "code",
   "execution_count": 63,
   "id": "parliamentary-implement",
   "metadata": {
    "execution": {
     "iopub.execute_input": "2022-01-13T14:16:28.217792Z",
     "iopub.status.busy": "2022-01-13T14:16:28.217141Z",
     "iopub.status.idle": "2022-01-13T14:16:28.224304Z",
     "shell.execute_reply": "2022-01-13T14:16:28.224867Z",
     "shell.execute_reply.started": "2022-01-13T14:03:05.638925Z"
    },
    "papermill": {
     "duration": 0.12238,
     "end_time": "2022-01-13T14:16:28.225068",
     "exception": false,
     "start_time": "2022-01-13T14:16:28.102688",
     "status": "completed"
    },
    "tags": []
   },
   "outputs": [],
   "source": [
    "# Feature transformation\n",
    "\n",
    "# Transforming the Sex attribute to numeric\n",
    "gender = {\"male\": 0, \"female\": 1}\n",
    "titanicdata = [train, test]\n",
    "\n",
    "for dataset in titanicdata:\n",
    "    dataset['Sex'] = dataset['Sex'].map(gender)"
   ]
  },
  {
   "cell_type": "code",
   "execution_count": 64,
   "id": "suburban-nicholas",
   "metadata": {
    "execution": {
     "iopub.execute_input": "2022-01-13T14:16:28.451565Z",
     "iopub.status.busy": "2022-01-13T14:16:28.450629Z",
     "iopub.status.idle": "2022-01-13T14:16:28.458456Z",
     "shell.execute_reply": "2022-01-13T14:16:28.459016Z",
     "shell.execute_reply.started": "2022-01-13T14:03:08.532596Z"
    },
    "papermill": {
     "duration": 0.12289,
     "end_time": "2022-01-13T14:16:28.459241",
     "exception": false,
     "start_time": "2022-01-13T14:16:28.336351",
     "status": "completed"
    },
    "tags": []
   },
   "outputs": [],
   "source": [
    "# Transforming the Title attribute to numeric\n",
    "title = {\"Mr\": 0, \"Mrs\": 1,\"Miss\": 2,\"Master\": 3,\"Rev\": 4,\"Dr\": 5}\n",
    "titanicdata = [train, test]\n",
    "\n",
    "for dataset in titanicdata:\n",
    "    dataset['Title'] = dataset['Title'].map(title)"
   ]
  },
  {
   "cell_type": "code",
   "execution_count": 65,
   "id": "unique-complement",
   "metadata": {
    "execution": {
     "iopub.execute_input": "2022-01-13T14:16:28.687249Z",
     "iopub.status.busy": "2022-01-13T14:16:28.686609Z",
     "iopub.status.idle": "2022-01-13T14:16:28.694615Z",
     "shell.execute_reply": "2022-01-13T14:16:28.695174Z",
     "shell.execute_reply.started": "2022-01-13T14:03:12.132553Z"
    },
    "papermill": {
     "duration": 0.122621,
     "end_time": "2022-01-13T14:16:28.695363",
     "exception": false,
     "start_time": "2022-01-13T14:16:28.572742",
     "status": "completed"
    },
    "tags": []
   },
   "outputs": [],
   "source": [
    "# Transforming the Fam_type attribute to numeric\n",
    "fam_type = {\"Single\": 0, \"Small\": 1,\"Big\": 2,\"Very big\": 3}\n",
    "titanicdata = [train, test]\n",
    "\n",
    "for dataset in titanicdata:\n",
    "    dataset['Fam_type'] = dataset['Fam_type'].map(fam_type)"
   ]
  },
  {
   "cell_type": "code",
   "execution_count": 66,
   "id": "helpful-there",
   "metadata": {
    "execution": {
     "iopub.execute_input": "2022-01-13T14:16:28.920294Z",
     "iopub.status.busy": "2022-01-13T14:16:28.919655Z",
     "iopub.status.idle": "2022-01-13T14:16:28.927401Z",
     "shell.execute_reply": "2022-01-13T14:16:28.927894Z",
     "shell.execute_reply.started": "2022-01-13T14:03:16.500760Z"
    },
    "papermill": {
     "duration": 0.121769,
     "end_time": "2022-01-13T14:16:28.928086",
     "exception": false,
     "start_time": "2022-01-13T14:16:28.806317",
     "status": "completed"
    },
    "tags": []
   },
   "outputs": [],
   "source": [
    "# Transforming the Embarked attribute to numeric\n",
    "parts = {\"S\": 0, \"C\": 1, \"Q\": 2}\n",
    "titanicdata = [train, test]\n",
    "for dataset in titanicdata:\n",
    "    dataset['Embarked'] = dataset['Embarked'].map(parts)"
   ]
  },
  {
   "cell_type": "code",
   "execution_count": 67,
   "id": "diagnostic-drunk",
   "metadata": {
    "execution": {
     "iopub.execute_input": "2022-01-13T14:16:29.154296Z",
     "iopub.status.busy": "2022-01-13T14:16:29.153670Z",
     "iopub.status.idle": "2022-01-13T14:16:29.174588Z",
     "shell.execute_reply": "2022-01-13T14:16:29.175154Z",
     "shell.execute_reply.started": "2022-01-13T14:03:18.461752Z"
    },
    "papermill": {
     "duration": 0.135127,
     "end_time": "2022-01-13T14:16:29.175338",
     "exception": false,
     "start_time": "2022-01-13T14:16:29.040211",
     "status": "completed"
    },
    "tags": []
   },
   "outputs": [],
   "source": [
    "# Transforming the Fare attribute from float to int and categorizing\n",
    "titanicdata = [train, test]\n",
    "\n",
    "for dataset in titanicdata:\n",
    "    dataset['Fare'] = dataset['Fare'].fillna(0)\n",
    "    dataset['Fare'] = dataset['Fare'].astype(int)\n",
    "    dataset.loc[ dataset['Fare'] <= 8, 'Fare'] = 0\n",
    "    dataset.loc[(dataset['Fare'] > 8) & (dataset['Fare'] <= 15), 'Fare'] = 1\n",
    "    dataset.loc[(dataset['Fare'] > 15) & (dataset['Fare'] <= 30), 'Fare']   = 2\n",
    "    dataset.loc[(dataset['Fare'] > 30) & (dataset['Fare'] <= 100), 'Fare']   = 3\n",
    "    dataset.loc[(dataset['Fare'] > 100) & (dataset['Fare'] <= 250), 'Fare']   = 4\n",
    "    dataset.loc[ dataset['Fare'] > 250, 'Fare'] = 5\n",
    "    dataset['Fare'] = dataset['Fare'].astype(int)\n"
   ]
  },
  {
   "cell_type": "code",
   "execution_count": 68,
   "id": "protecting-narrative",
   "metadata": {
    "execution": {
     "iopub.execute_input": "2022-01-13T14:16:29.407583Z",
     "iopub.status.busy": "2022-01-13T14:16:29.406864Z",
     "iopub.status.idle": "2022-01-13T14:16:29.433111Z",
     "shell.execute_reply": "2022-01-13T14:16:29.432492Z",
     "shell.execute_reply.started": "2022-01-13T14:03:21.020896Z"
    },
    "papermill": {
     "duration": 0.145987,
     "end_time": "2022-01-13T14:16:29.433272",
     "exception": false,
     "start_time": "2022-01-13T14:16:29.287285",
     "status": "completed"
    },
    "tags": []
   },
   "outputs": [],
   "source": [
    "# Transforming the Age attribute from float to int and categorizing\n",
    "titanicdata = [train, test]\n",
    "\n",
    "for dataset in titanicdata:\n",
    "    dataset['Age'] = dataset['Age'].fillna(0)\n",
    "    dataset['Age'] = dataset['Age'].astype(int)\n",
    "    dataset.loc[ dataset['Age'] <= 10, 'Age'] = 0\n",
    "    dataset.loc[(dataset['Age'] > 10) & (dataset['Age'] <= 20), 'Age'] = 1\n",
    "    dataset.loc[(dataset['Age'] > 20) & (dataset['Age'] <= 30), 'Age'] = 2\n",
    "    dataset.loc[(dataset['Age'] > 30) & (dataset['Age'] <= 40), 'Age'] = 3\n",
    "    dataset.loc[(dataset['Age'] > 40) & (dataset['Age'] <= 50), 'Age'] = 4\n",
    "    dataset.loc[(dataset['Age'] > 50) & (dataset['Age'] <= 60), 'Age'] = 5\n",
    "    dataset.loc[(dataset['Age'] > 60) & (dataset['Age'] <= 70), 'Age'] = 6\n",
    "    dataset.loc[ dataset['Age'] > 70, 'Age'] = 6"
   ]
  },
  {
   "cell_type": "markdown",
   "id": "sharing-responsibility",
   "metadata": {
    "papermill": {
     "duration": 0.110944,
     "end_time": "2022-01-13T14:16:29.656768",
     "exception": false,
     "start_time": "2022-01-13T14:16:29.545824",
     "status": "completed"
    },
    "tags": []
   },
   "source": [
    "# Modelling"
   ]
  },
  {
   "cell_type": "code",
   "execution_count": 69,
   "id": "monetary-director",
   "metadata": {
    "execution": {
     "iopub.execute_input": "2022-01-13T14:16:29.885755Z",
     "iopub.status.busy": "2022-01-13T14:16:29.885005Z",
     "iopub.status.idle": "2022-01-13T14:16:30.024695Z",
     "shell.execute_reply": "2022-01-13T14:16:30.024027Z",
     "shell.execute_reply.started": "2022-01-13T14:03:25.195616Z"
    },
    "papermill": {
     "duration": 0.256897,
     "end_time": "2022-01-13T14:16:30.024845",
     "exception": false,
     "start_time": "2022-01-13T14:16:29.767948",
     "status": "completed"
    },
    "tags": []
   },
   "outputs": [],
   "source": [
    "# Import the required libraries\n",
    "from collections import Counter\n",
    "from sklearn.model_selection import train_test_split\n",
    "from sklearn.model_selection import cross_val_score\n",
    "from sklearn.model_selection import RepeatedStratifiedKFold\n",
    "from imblearn.over_sampling import SMOTE\n",
    "\n",
    "# Import metrics\n",
    "from sklearn.metrics import accuracy_score, precision_score, recall_score, f1_score\n",
    "from sklearn.metrics import confusion_matrix, classification_report\n"
   ]
  },
  {
   "cell_type": "code",
   "execution_count": 70,
   "id": "angry-brush",
   "metadata": {
    "execution": {
     "iopub.execute_input": "2022-01-13T14:16:30.254934Z",
     "iopub.status.busy": "2022-01-13T14:16:30.254296Z",
     "iopub.status.idle": "2022-01-13T14:16:30.275177Z",
     "shell.execute_reply": "2022-01-13T14:16:30.276101Z",
     "shell.execute_reply.started": "2022-01-13T14:03:27.392095Z"
    },
    "papermill": {
     "duration": 0.136021,
     "end_time": "2022-01-13T14:16:30.276339",
     "exception": false,
     "start_time": "2022-01-13T14:16:30.140318",
     "status": "completed"
    },
    "tags": []
   },
   "outputs": [
    {
     "name": "stdout",
     "output_type": "stream",
     "text": [
      "Imbalanced Classification:\n",
      "Counter({0: 549, 1: 342})\n",
      "Balanced Classification:\n",
      "Counter({0: 549, 1: 549})\n"
     ]
    }
   ],
   "source": [
    "X = train.drop('Survived', axis=1) # dropping the target attribute from the train dataset.\n",
    "y = train['Survived']\n",
    "\n",
    "X_train, X_test, y_train, y_test = train_test_split(X,y, test_size=0.2, random_state=42)  # dataset splitting\n",
    "# Checking for data imbalance\n",
    "print(\"Imbalanced Classification:\")\n",
    "count= Counter(y)\n",
    "print(count)\n",
    "\n",
    "# handling data imbalance using the SMOTE technique\n",
    "oversample = SMOTE()\n",
    "X, y = oversample.fit_resample(X, y)\n",
    "# summarize the new class distribution\n",
    "print(\"Balanced Classification:\")\n",
    "count = Counter(y)\n",
    "print(count)"
   ]
  },
  {
   "cell_type": "code",
   "execution_count": 71,
   "id": "arctic-ethics",
   "metadata": {
    "execution": {
     "iopub.execute_input": "2022-01-13T14:16:30.506580Z",
     "iopub.status.busy": "2022-01-13T14:16:30.505858Z",
     "iopub.status.idle": "2022-01-13T14:16:30.509352Z",
     "shell.execute_reply": "2022-01-13T14:16:30.509829Z",
     "shell.execute_reply.started": "2022-01-13T14:03:37.006383Z"
    },
    "papermill": {
     "duration": 0.120085,
     "end_time": "2022-01-13T14:16:30.510022",
     "exception": false,
     "start_time": "2022-01-13T14:16:30.389937",
     "status": "completed"
    },
    "tags": []
   },
   "outputs": [],
   "source": [
    "from sklearn.ensemble import RandomForestClassifier"
   ]
  },
  {
   "cell_type": "code",
   "execution_count": 72,
   "id": "ambient-assignment",
   "metadata": {
    "execution": {
     "iopub.execute_input": "2022-01-13T14:16:30.736414Z",
     "iopub.status.busy": "2022-01-13T14:16:30.735719Z",
     "iopub.status.idle": "2022-01-13T14:16:31.191063Z",
     "shell.execute_reply": "2022-01-13T14:16:31.191540Z",
     "shell.execute_reply.started": "2022-01-13T14:03:39.191309Z"
    },
    "papermill": {
     "duration": 0.570408,
     "end_time": "2022-01-13T14:16:31.191721",
     "exception": false,
     "start_time": "2022-01-13T14:16:30.621313",
     "status": "completed"
    },
    "tags": []
   },
   "outputs": [
    {
     "data": {
      "image/png": "[encoded data removed]",
      "text/plain": [
       "<Figure size 360x360 with 1 Axes>"
      ]
     },
     "metadata": {},
     "output_type": "display_data"
    }
   ],
   "source": [
    "model = RandomForestClassifier()\n",
    "model.fit(X_train,y_train)\n",
    "importance = pd.DataFrame({'feature':X_train.columns, 'importance': np.round(model.feature_importances_,3)})\n",
    "importance = importance.sort_values('importance', ascending=False).set_index('feature')\n",
    "importance.plot(kind='bar', figsize = (5,5))\n",
    "plt.show()"
   ]
  },
  {
   "cell_type": "code",
   "execution_count": 73,
   "id": "accurate-crowd",
   "metadata": {
    "execution": {
     "iopub.execute_input": "2022-01-13T14:16:31.421592Z",
     "iopub.status.busy": "2022-01-13T14:16:31.420889Z",
     "iopub.status.idle": "2022-01-13T14:16:31.424718Z",
     "shell.execute_reply": "2022-01-13T14:16:31.425236Z",
     "shell.execute_reply.started": "2022-01-13T14:03:46.183206Z"
    },
    "papermill": {
     "duration": 0.119814,
     "end_time": "2022-01-13T14:16:31.425408",
     "exception": false,
     "start_time": "2022-01-13T14:16:31.305594",
     "status": "completed"
    },
    "tags": []
   },
   "outputs": [],
   "source": [
    "features = ['Title','Sex','Pclass','Fare','Fam_size','Embarked','Fam_type']"
   ]
  },
  {
   "cell_type": "code",
   "execution_count": 74,
   "id": "figured-expert",
   "metadata": {
    "execution": {
     "iopub.execute_input": "2022-01-13T14:16:31.654475Z",
     "iopub.status.busy": "2022-01-13T14:16:31.653753Z",
     "iopub.status.idle": "2022-01-13T14:16:31.657285Z",
     "shell.execute_reply": "2022-01-13T14:16:31.657783Z",
     "shell.execute_reply.started": "2022-01-13T14:03:48.852877Z"
    },
    "papermill": {
     "duration": 0.119303,
     "end_time": "2022-01-13T14:16:31.657959",
     "exception": false,
     "start_time": "2022-01-13T14:16:31.538656",
     "status": "completed"
    },
    "tags": []
   },
   "outputs": [],
   "source": [
    "from sklearn.model_selection import cross_val_score, GridSearchCV"
   ]
  },
  {
   "cell_type": "code",
   "execution_count": 75,
   "id": "occupied-favorite",
   "metadata": {
    "execution": {
     "iopub.execute_input": "2022-01-13T14:16:31.886519Z",
     "iopub.status.busy": "2022-01-13T14:16:31.885818Z",
     "iopub.status.idle": "2022-01-13T14:17:28.873026Z",
     "shell.execute_reply": "2022-01-13T14:17:28.873573Z",
     "shell.execute_reply.started": "2022-01-13T14:03:51.631470Z"
    },
    "papermill": {
     "duration": 57.102808,
     "end_time": "2022-01-13T14:17:28.873759",
     "exception": false,
     "start_time": "2022-01-13T14:16:31.770951",
     "status": "completed"
    },
    "tags": []
   },
   "outputs": [
    {
     "name": "stdout",
     "output_type": "stream",
     "text": [
      "{'bootstrap': True, 'criterion': 'entropy', 'min_samples_leaf': 1, 'min_samples_split': 20, 'n_estimators': 200}\n"
     ]
    }
   ],
   "source": [
    "grid_param = {\n",
    " 'n_estimators': [100, 200, 300],\n",
    " 'criterion':['gini', 'entropy'],\n",
    " 'min_samples_split': [2, 10, 20],\n",
    " 'min_samples_leaf': [1, 5],\n",
    " 'bootstrap': [True, False],\n",
    "}\n",
    "gd_sr = GridSearchCV(estimator=model,\n",
    " param_grid=grid_param,\n",
    " scoring='accuracy', \n",
    " cv=5,\n",
    " n_jobs=-1)\n",
    "gd_sr.fit(X_train[features], y_train)\n",
    "best_parameters = gd_sr.best_params_\n",
    "print(best_parameters)"
   ]
  },
  {
   "cell_type": "code",
   "execution_count": 76,
   "id": "downtown-alloy",
   "metadata": {
    "execution": {
     "iopub.execute_input": "2022-01-13T14:17:29.108802Z",
     "iopub.status.busy": "2022-01-13T14:17:29.107755Z",
     "iopub.status.idle": "2022-01-13T14:17:29.112439Z",
     "shell.execute_reply": "2022-01-13T14:17:29.112898Z",
     "shell.execute_reply.started": "2022-01-13T14:04:47.110008Z"
    },
    "papermill": {
     "duration": 0.12325,
     "end_time": "2022-01-13T14:17:29.113113",
     "exception": false,
     "start_time": "2022-01-13T14:17:28.989863",
     "status": "completed"
    },
    "tags": []
   },
   "outputs": [],
   "source": [
    "model = RandomForestClassifier(n_estimators=300, bootstrap=True, criterion= 'entropy', min_samples_leaf=5, min_samples_split=20)"
   ]
  },
  {
   "cell_type": "code",
   "execution_count": 77,
   "id": "annual-intellectual",
   "metadata": {
    "execution": {
     "iopub.execute_input": "2022-01-13T14:17:29.346292Z",
     "iopub.status.busy": "2022-01-13T14:17:29.345547Z",
     "iopub.status.idle": "2022-01-13T14:17:32.654024Z",
     "shell.execute_reply": "2022-01-13T14:17:32.653435Z",
     "shell.execute_reply.started": "2022-01-13T14:04:51.016598Z"
    },
    "papermill": {
     "duration": 3.42655,
     "end_time": "2022-01-13T14:17:32.654173",
     "exception": false,
     "start_time": "2022-01-13T14:17:29.227623",
     "status": "completed"
    },
    "tags": []
   },
   "outputs": [
    {
     "data": {
      "text/plain": [
       "0.8328277356446371"
      ]
     },
     "execution_count": 77,
     "metadata": {},
     "output_type": "execute_result"
    }
   ],
   "source": [
    "all_accuracies = cross_val_score(estimator=model, X=X_train, y=y_train, cv=5)\n",
    "all_accuracies\n",
    "all_accuracies.mean()"
   ]
  },
  {
   "cell_type": "code",
   "execution_count": 78,
   "id": "english-gallery",
   "metadata": {
    "execution": {
     "iopub.execute_input": "2022-01-13T14:17:32.900766Z",
     "iopub.status.busy": "2022-01-13T14:17:32.900076Z",
     "iopub.status.idle": "2022-01-13T14:17:32.903248Z",
     "shell.execute_reply": "2022-01-13T14:17:32.903732Z",
     "shell.execute_reply.started": "2022-01-13T14:04:59.728335Z"
    },
    "papermill": {
     "duration": 0.1354,
     "end_time": "2022-01-13T14:17:32.903899",
     "exception": false,
     "start_time": "2022-01-13T14:17:32.768499",
     "status": "completed"
    },
    "tags": []
   },
   "outputs": [
    {
     "name": "stdout",
     "output_type": "stream",
     "text": [
      "<class 'pandas.core.frame.DataFrame'>\n",
      "RangeIndex: 418 entries, 0 to 417\n",
      "Data columns (total 11 columns):\n",
      " #   Column       Non-Null Count  Dtype   \n",
      "---  ------       --------------  -----   \n",
      " 0   PassengerId  418 non-null    int64   \n",
      " 1   Pclass       418 non-null    int64   \n",
      " 2   Sex          418 non-null    int64   \n",
      " 3   Age          418 non-null    int64   \n",
      " 4   SibSp        418 non-null    int64   \n",
      " 5   Parch        418 non-null    int64   \n",
      " 6   Fare         418 non-null    int64   \n",
      " 7   Embarked     418 non-null    int64   \n",
      " 8   Title        417 non-null    float64 \n",
      " 9   Fam_size     418 non-null    int64   \n",
      " 10  Fam_type     418 non-null    category\n",
      "dtypes: category(1), float64(1), int64(9)\n",
      "memory usage: 33.4 KB\n"
     ]
    }
   ],
   "source": [
    "test.info()"
   ]
  },
  {
   "cell_type": "code",
   "execution_count": 79,
   "id": "brief-lender",
   "metadata": {
    "execution": {
     "iopub.execute_input": "2022-01-13T14:17:33.138036Z",
     "iopub.status.busy": "2022-01-13T14:17:33.137372Z",
     "iopub.status.idle": "2022-01-13T14:17:33.142457Z",
     "shell.execute_reply": "2022-01-13T14:17:33.143009Z",
     "shell.execute_reply.started": "2022-01-13T14:05:03.244027Z"
    },
    "papermill": {
     "duration": 0.122822,
     "end_time": "2022-01-13T14:17:33.143220",
     "exception": false,
     "start_time": "2022-01-13T14:17:33.020398",
     "status": "completed"
    },
    "tags": []
   },
   "outputs": [],
   "source": [
    "mediantest = test['Title'].median()\n",
    "test['Title'].fillna(median, inplace=True)"
   ]
  },
  {
   "cell_type": "code",
   "execution_count": 80,
   "id": "exact-scheme",
   "metadata": {
    "execution": {
     "iopub.execute_input": "2022-01-13T14:17:33.375449Z",
     "iopub.status.busy": "2022-01-13T14:17:33.374790Z",
     "iopub.status.idle": "2022-01-13T14:17:33.379847Z",
     "shell.execute_reply": "2022-01-13T14:17:33.380422Z",
     "shell.execute_reply.started": "2022-01-13T14:05:06.437999Z"
    },
    "papermill": {
     "duration": 0.123156,
     "end_time": "2022-01-13T14:17:33.380609",
     "exception": false,
     "start_time": "2022-01-13T14:17:33.257453",
     "status": "completed"
    },
    "tags": []
   },
   "outputs": [],
   "source": [
    "test['Title'] = test['Title'].astype(int)"
   ]
  },
  {
   "cell_type": "code",
   "execution_count": 81,
   "id": "chicken-influence",
   "metadata": {
    "execution": {
     "iopub.execute_input": "2022-01-13T14:17:33.630111Z",
     "iopub.status.busy": "2022-01-13T14:17:33.629308Z",
     "iopub.status.idle": "2022-01-13T14:17:33.632792Z",
     "shell.execute_reply": "2022-01-13T14:17:33.633329Z",
     "shell.execute_reply.started": "2022-01-13T14:05:09.743825Z"
    },
    "papermill": {
     "duration": 0.13826,
     "end_time": "2022-01-13T14:17:33.633506",
     "exception": false,
     "start_time": "2022-01-13T14:17:33.495246",
     "status": "completed"
    },
    "tags": []
   },
   "outputs": [
    {
     "name": "stdout",
     "output_type": "stream",
     "text": [
      "<class 'pandas.core.frame.DataFrame'>\n",
      "RangeIndex: 418 entries, 0 to 417\n",
      "Data columns (total 11 columns):\n",
      " #   Column       Non-Null Count  Dtype   \n",
      "---  ------       --------------  -----   \n",
      " 0   PassengerId  418 non-null    int64   \n",
      " 1   Pclass       418 non-null    int64   \n",
      " 2   Sex          418 non-null    int64   \n",
      " 3   Age          418 non-null    int64   \n",
      " 4   SibSp        418 non-null    int64   \n",
      " 5   Parch        418 non-null    int64   \n",
      " 6   Fare         418 non-null    int64   \n",
      " 7   Embarked     418 non-null    int64   \n",
      " 8   Title        418 non-null    int64   \n",
      " 9   Fam_size     418 non-null    int64   \n",
      " 10  Fam_type     418 non-null    category\n",
      "dtypes: category(1), int64(10)\n",
      "memory usage: 33.4 KB\n"
     ]
    }
   ],
   "source": [
    "test.info()"
   ]
  },
  {
   "cell_type": "code",
   "execution_count": 82,
   "id": "accessory-forest",
   "metadata": {
    "execution": {
     "iopub.execute_input": "2022-01-13T14:17:33.894917Z",
     "iopub.status.busy": "2022-01-13T14:17:33.874007Z",
     "iopub.status.idle": "2022-01-13T14:17:34.537078Z",
     "shell.execute_reply": "2022-01-13T14:17:34.537683Z",
     "shell.execute_reply.started": "2022-01-13T14:12:36.219796Z"
    },
    "papermill": {
     "duration": 0.789701,
     "end_time": "2022-01-13T14:17:34.537861",
     "exception": false,
     "start_time": "2022-01-13T14:17:33.748160",
     "status": "completed"
    },
    "tags": []
   },
   "outputs": [],
   "source": [
    "X_test = test[features]\n",
    "model.fit(X_train[features],y_train)\n",
    "prediction = model.predict(X_test)\n",
    "output = pd.DataFrame({'PassengerId': test.PassengerId, 'Survived': prediction.astype(int)})\n",
    "output.to_csv('ppceb.csv', index=False)"
   ]
  },
  {
   "cell_type": "code",
   "execution_count": 83,
   "id": "comic-suffering",
   "metadata": {
    "execution": {
     "iopub.execute_input": "2022-01-13T14:17:34.775997Z",
     "iopub.status.busy": "2022-01-13T14:17:34.774942Z",
     "iopub.status.idle": "2022-01-13T14:17:34.786337Z",
     "shell.execute_reply": "2022-01-13T14:17:34.786897Z",
     "shell.execute_reply.started": "2022-01-13T14:12:21.140124Z"
    },
    "papermill": {
     "duration": 0.132261,
     "end_time": "2022-01-13T14:17:34.787097",
     "exception": false,
     "start_time": "2022-01-13T14:17:34.654836",
     "status": "completed"
    },
    "tags": []
   },
   "outputs": [
    {
     "data": {
      "text/html": [
       "<div>\n",
       "<style scoped>\n",
       "    .dataframe tbody tr th:only-of-type {\n",
       "        vertical-align: middle;\n",
       "    }\n",
       "\n",
       "    .dataframe tbody tr th {\n",
       "        vertical-align: top;\n",
       "    }\n",
       "\n",
       "    .dataframe thead th {\n",
       "        text-align: right;\n",
       "    }\n",
       "</style>\n",
       "<table border=\"1\" class=\"dataframe\">\n",
       "  <thead>\n",
       "    <tr style=\"text-align: right;\">\n",
       "      <th></th>\n",
       "      <th>PassengerId</th>\n",
       "      <th>Survived</th>\n",
       "    </tr>\n",
       "  </thead>\n",
       "  <tbody>\n",
       "    <tr>\n",
       "      <th>0</th>\n",
       "      <td>892</td>\n",
       "      <td>0</td>\n",
       "    </tr>\n",
       "    <tr>\n",
       "      <th>1</th>\n",
       "      <td>893</td>\n",
       "      <td>1</td>\n",
       "    </tr>\n",
       "    <tr>\n",
       "      <th>2</th>\n",
       "      <td>894</td>\n",
       "      <td>0</td>\n",
       "    </tr>\n",
       "    <tr>\n",
       "      <th>3</th>\n",
       "      <td>895</td>\n",
       "      <td>0</td>\n",
       "    </tr>\n",
       "    <tr>\n",
       "      <th>4</th>\n",
       "      <td>896</td>\n",
       "      <td>1</td>\n",
       "    </tr>\n",
       "    <tr>\n",
       "      <th>5</th>\n",
       "      <td>897</td>\n",
       "      <td>0</td>\n",
       "    </tr>\n",
       "    <tr>\n",
       "      <th>6</th>\n",
       "      <td>898</td>\n",
       "      <td>1</td>\n",
       "    </tr>\n",
       "    <tr>\n",
       "      <th>7</th>\n",
       "      <td>899</td>\n",
       "      <td>0</td>\n",
       "    </tr>\n",
       "    <tr>\n",
       "      <th>8</th>\n",
       "      <td>900</td>\n",
       "      <td>1</td>\n",
       "    </tr>\n",
       "    <tr>\n",
       "      <th>9</th>\n",
       "      <td>901</td>\n",
       "      <td>0</td>\n",
       "    </tr>\n",
       "    <tr>\n",
       "      <th>10</th>\n",
       "      <td>902</td>\n",
       "      <td>0</td>\n",
       "    </tr>\n",
       "    <tr>\n",
       "      <th>11</th>\n",
       "      <td>903</td>\n",
       "      <td>0</td>\n",
       "    </tr>\n",
       "    <tr>\n",
       "      <th>12</th>\n",
       "      <td>904</td>\n",
       "      <td>1</td>\n",
       "    </tr>\n",
       "    <tr>\n",
       "      <th>13</th>\n",
       "      <td>905</td>\n",
       "      <td>0</td>\n",
       "    </tr>\n",
       "    <tr>\n",
       "      <th>14</th>\n",
       "      <td>906</td>\n",
       "      <td>1</td>\n",
       "    </tr>\n",
       "    <tr>\n",
       "      <th>15</th>\n",
       "      <td>907</td>\n",
       "      <td>1</td>\n",
       "    </tr>\n",
       "    <tr>\n",
       "      <th>16</th>\n",
       "      <td>908</td>\n",
       "      <td>0</td>\n",
       "    </tr>\n",
       "    <tr>\n",
       "      <th>17</th>\n",
       "      <td>909</td>\n",
       "      <td>0</td>\n",
       "    </tr>\n",
       "    <tr>\n",
       "      <th>18</th>\n",
       "      <td>910</td>\n",
       "      <td>0</td>\n",
       "    </tr>\n",
       "    <tr>\n",
       "      <th>19</th>\n",
       "      <td>911</td>\n",
       "      <td>1</td>\n",
       "    </tr>\n",
       "  </tbody>\n",
       "</table>\n",
       "</div>"
      ],
      "text/plain": [
       "    PassengerId  Survived\n",
       "0           892         0\n",
       "1           893         1\n",
       "2           894         0\n",
       "3           895         0\n",
       "4           896         1\n",
       "5           897         0\n",
       "6           898         1\n",
       "7           899         0\n",
       "8           900         1\n",
       "9           901         0\n",
       "10          902         0\n",
       "11          903         0\n",
       "12          904         1\n",
       "13          905         0\n",
       "14          906         1\n",
       "15          907         1\n",
       "16          908         0\n",
       "17          909         0\n",
       "18          910         0\n",
       "19          911         1"
      ]
     },
     "execution_count": 83,
     "metadata": {},
     "output_type": "execute_result"
    }
   ],
   "source": [
    "output.head(20)"
   ]
  },
  {
   "cell_type": "markdown",
   "id": "reflected-valve",
   "metadata": {
    "papermill": {
     "duration": 0.114941,
     "end_time": "2022-01-13T14:17:35.017385",
     "exception": false,
     "start_time": "2022-01-13T14:17:34.902444",
     "status": "completed"
    },
    "tags": []
   },
   "source": [
    "**Choosing the best model**"
   ]
  },
  {
   "cell_type": "markdown",
   "id": "atomic-semester",
   "metadata": {
    "papermill": {
     "duration": 0.116675,
     "end_time": "2022-01-13T14:17:35.251512",
     "exception": false,
     "start_time": "2022-01-13T14:17:35.134837",
     "status": "completed"
    },
    "tags": []
   },
   "source": [
    "# Final Submission ✔️"
   ]
  },
  {
   "cell_type": "code",
   "execution_count": 84,
   "id": "unsigned-renaissance",
   "metadata": {
    "execution": {
     "iopub.execute_input": "2022-01-13T14:17:35.486148Z",
     "iopub.status.busy": "2022-01-13T14:17:35.485101Z",
     "iopub.status.idle": "2022-01-13T14:17:35.489019Z",
     "shell.execute_reply": "2022-01-13T14:17:35.489591Z",
     "shell.execute_reply.started": "2022-01-13T13:28:25.940036Z"
    },
    "papermill": {
     "duration": 0.12279,
     "end_time": "2022-01-13T14:17:35.489777",
     "exception": false,
     "start_time": "2022-01-13T14:17:35.366987",
     "status": "completed"
    },
    "tags": []
   },
   "outputs": [],
   "source": [
    "#output.to_csv('Simbarashe_Aldrin_submission.csv', index=False)"
   ]
  }
 ],
 "metadata": {
  "kernelspec": {
   "display_name": "Python 3",
   "language": "python",
   "name": "python3"
  },
  "language_info": {
   "codemirror_mode": {
    "name": "ipython",
    "version": 3
   },
   "file_extension": ".py",
   "mimetype": "text/x-python",
   "name": "python",
   "nbconvert_exporter": "python",
   "pygments_lexer": "ipython3",
   "version": "3.7.10"
  },
  "papermill": {
   "default_parameters": {},
   "duration": 101.11638,
   "end_time": "2022-01-13T14:17:36.519735",
   "environment_variables": {},
   "exception": null,
   "input_path": "__notebook__.ipynb",
   "output_path": "__notebook__.ipynb",
   "parameters": {},
   "start_time": "2022-01-13T14:15:55.403355",
   "version": "2.3.3"
  }
 },
 "nbformat": 4,
 "nbformat_minor": 5
}
